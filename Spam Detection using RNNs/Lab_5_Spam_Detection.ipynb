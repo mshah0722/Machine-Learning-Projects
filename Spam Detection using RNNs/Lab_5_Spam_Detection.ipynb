{
  "nbformat": 4,
  "nbformat_minor": 0,
  "metadata": {
    "colab": {
      "name": "Lab_5_Spam_Detection.ipynb",
      "provenance": [],
      "collapsed_sections": []
    },
    "kernelspec": {
      "display_name": "Python 3",
      "language": "python",
      "name": "python3"
    },
    "language_info": {
      "codemirror_mode": {
        "name": "ipython",
        "version": 3
      },
      "file_extension": ".py",
      "mimetype": "text/x-python",
      "name": "python",
      "nbconvert_exporter": "python",
      "pygments_lexer": "ipython3",
      "version": "3.6.3"
    }
  },
  "cells": [
    {
      "cell_type": "markdown",
      "metadata": {
        "id": "_bphECiUa9zw"
      },
      "source": [
        "# Lab 5: Spam Detection\n",
        "\n",
        "**Deadline**: Monday, March 15, 5:00 PM\n",
        "\n",
        "**Late Penalty**: There is a penalty-free grace period of one hour past the deadline. Any work that is submitted between 1 hour and 24 hours past the deadline will receive a 20% grade deduction. No other late work is accepted. Quercus submission time will be used, not your local computer time. You can submit your labs as many times as you want before the deadline, so please submit often and early.\n",
        "\n",
        "**TA**: Gautam Dawar <gautam.dawar@mail.utoronto.ca>\n",
        "\n",
        "In this assignment, we will build a recurrent neural network to classify a SMS text message\n",
        "as \"spam\" or \"not spam\". In the process, you will\n",
        "    \n",
        "1. Clean and process text data for machine learning.\n",
        "2. Understand and implement a character-level recurrent neural network.\n",
        "3. Use torchtext to build recurrent neural network models.\n",
        "4. Understand batching for a recurrent neural network, and use torchtext to implement RNN batching.\n",
        "\n",
        "### What to submit\n",
        "\n",
        "Submit a PDF file containing all your code, outputs, and write-up. You can produce a PDF of your Google Colab file by going to File > Print and then save as PDF. The Colab instructions have more information (.html files are also acceptable).\n",
        "\n",
        "Do not submit any other files produced by your code.\n",
        "\n",
        "Include a link to your colab file in your submission."
      ]
    },
    {
      "cell_type": "markdown",
      "metadata": {
        "id": "rWiUqJJTa9z6"
      },
      "source": [
        "## Colab Link\n",
        "\n",
        "Include a link to your Colab file here. If you would like the TA to look at your\n",
        "Colab file in case your solutions are cut off, **please make sure that your Colab\n",
        "file is publicly accessible at the time of submission**.\n",
        "\n",
        "Colab Link: https://drive.google.com/file/d/18RymUEFHmAze3BXLKCL2GSI3x6nnLNpZ/view?usp=sharing"
      ]
    },
    {
      "cell_type": "code",
      "metadata": {
        "collapsed": true,
        "id": "HgfNOUaPa9z8"
      },
      "source": [
        "import torch\n",
        "import torch.nn as nn\n",
        "import torch.nn.functional as F\n",
        "import torch.optim as optim\n",
        "import numpy as np\n",
        "import matplotlib.pyplot as plt"
      ],
      "execution_count": 38,
      "outputs": []
    },
    {
      "cell_type": "markdown",
      "metadata": {
        "id": "M0jLI9LBa90C"
      },
      "source": [
        "## Part 1. Data Cleaning [15 pt]\n",
        "\n",
        "We will be using the \"SMS Spam Collection Data Set\" available at http://archive.ics.uci.edu/ml/datasets/SMS+Spam+Collection\n",
        "\n",
        "There is a link to download the \"Data Folder\" at the very top of the webpage. Download the zip file, unzip it, and upload the file `SMSSpamCollection` to Colab.    "
      ]
    },
    {
      "cell_type": "code",
      "metadata": {
        "colab": {
          "resources": {
            "http://localhost:8080/nbextensions/google.colab/files.js": {
              "data": "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",
              "ok": true,
              "headers": [
                [
                  "content-type",
                  "application/javascript"
                ]
              ],
              "status": 200,
              "status_text": ""
            }
          },
          "base_uri": "https://localhost:8080/",
          "height": 72
        },
        "id": "jrPG3ejrIipz",
        "outputId": "a6d53620-f16d-478e-cc19-4420148c3a1f"
      },
      "source": [
        "#Loading SMSSpamCollection to Colab\r\n",
        "from google.colab import files\r\n",
        "filesUpload = files.upload()"
      ],
      "execution_count": 39,
      "outputs": [
        {
          "output_type": "display_data",
          "data": {
            "text/html": [
              "\n",
              "     <input type=\"file\" id=\"files-a2e64798-10a9-4928-874e-df9d137f9a65\" name=\"files[]\" multiple disabled\n",
              "        style=\"border:none\" />\n",
              "     <output id=\"result-a2e64798-10a9-4928-874e-df9d137f9a65\">\n",
              "      Upload widget is only available when the cell has been executed in the\n",
              "      current browser session. Please rerun this cell to enable.\n",
              "      </output>\n",
              "      <script src=\"/nbextensions/google.colab/files.js\"></script> "
            ],
            "text/plain": [
              "<IPython.core.display.HTML object>"
            ]
          },
          "metadata": {
            "tags": []
          }
        },
        {
          "output_type": "stream",
          "text": [
            "Saving SMSSpamCollection to SMSSpamCollection (1)\n"
          ],
          "name": "stdout"
        }
      ]
    },
    {
      "cell_type": "markdown",
      "metadata": {
        "id": "sSuF7C_Ga90E"
      },
      "source": [
        "### Part (a) [2 pt]\n",
        "\n",
        "Open up the file in Python, and print out one example of a spam SMS, and one example of a non-spam SMS.\n",
        "\n",
        "What is the label value for a spam message, and what is the label value for a non-spam message?"
      ]
    },
    {
      "cell_type": "code",
      "metadata": {
        "colab": {
          "base_uri": "https://localhost:8080/"
        },
        "collapsed": true,
        "id": "I_IfXHeTa90F",
        "outputId": "048e18ab-5df2-4915-f3be-d76b7dc237bd"
      },
      "source": [
        "displayHam = True\n",
        "for line in open('SMSSpamCollection'):\n",
        "    if displayHam and line.split()[0] == 'ham':\n",
        "      print(\"The label value for a non-spam message:\", line.split()[0])\n",
        "      print(\"Example of a non-spam: \", line)\n",
        "      displayHam = False\n",
        "    elif not displayHam and line.split()[0] == 'spam':\n",
        "      print(\"The label value for a spam message:\", line.split()[0])\n",
        "      print(\"Example of a spam: \", line)\n",
        "      break"
      ],
      "execution_count": 40,
      "outputs": [
        {
          "output_type": "stream",
          "text": [
            "The label value for a non-spam message: ham\n",
            "Example of a non-spam:  ham\tGo until jurong point, crazy.. Available only in bugis n great world la e buffet... Cine there got amore wat...\n",
            "\n",
            "The label value for a spam message: spam\n",
            "Example of a spam:  spam\tFree entry in 2 a wkly comp to win FA Cup final tkts 21st May 2005. Text FA to 87121 to receive entry question(std txt rate)T&C's apply 08452810075over18's\n",
            "\n"
          ],
          "name": "stdout"
        }
      ]
    },
    {
      "cell_type": "markdown",
      "metadata": {
        "id": "AukA6vMVa90d"
      },
      "source": [
        "### Part (b) [1 pt]\n",
        "\n",
        "How many spam messages are there in the data set?\n",
        "How many non-spam messages are there in the data set?\n"
      ]
    },
    {
      "cell_type": "code",
      "metadata": {
        "colab": {
          "base_uri": "https://localhost:8080/"
        },
        "collapsed": true,
        "id": "LgsqyemVa90e",
        "outputId": "2b2c0ff8-311b-4bda-a0b8-51448baeabca"
      },
      "source": [
        "spamCount, hamCount = 0, 0\r\n",
        "\r\n",
        "for line in open('SMSSpamCollection'):\r\n",
        "  if line.split()[0] == 'spam':\r\n",
        "    spamCount += 1\r\n",
        "  else:\r\n",
        "    hamCount += 1\r\n",
        "\r\n",
        "print('The number of spam messages are:', spamCount)\r\n",
        "print('The number of non-spam messages are:', hamCount)"
      ],
      "execution_count": 41,
      "outputs": [
        {
          "output_type": "stream",
          "text": [
            "The number of spam messages are: 747\n",
            "The number of non-spam messages are: 4827\n"
          ],
          "name": "stdout"
        }
      ]
    },
    {
      "cell_type": "markdown",
      "metadata": {
        "id": "d1WXxVt6a90h"
      },
      "source": [
        "### Part (c) [4 pt]\n",
        "\n",
        "We will be using the package `torchtext` to load, process, and batch the data.\n",
        "A tutorial to torchtext is available below. This tutorial uses the same\n",
        "Sentiment140 data set that we explored during lecture.\n",
        "\n",
        "https://medium.com/@sonicboom8/sentiment-analysis-torchtext-55fb57b1fab8\n",
        "\n",
        "Unlike what we did during lecture, we will be building a **character level RNN**.\n",
        "That is, we will treat each **character** as a token in our sequence,\n",
        "rather than each **word**.\n",
        "\n",
        "Identify two advantage and two disadvantage of modelling SMS text\n",
        "messages as a sequence of characters rather than a sequence of words."
      ]
    },
    {
      "cell_type": "code",
      "metadata": {
        "collapsed": true,
        "id": "Mhnz8Nk-a90i"
      },
      "source": [
        "'''\r\n",
        "Advantages of modelling SMS text messages as a sequence of characters rather than a sequence of words:\r\n",
        "1) Can account the mis-spelled words and processing abreviations and slang words\r\n",
        "2) Can save a lot of memory. This is because there are only a small limited amount of characters\r\n",
        "    available. Saving sequences of words requires a lot more memory, as there is a large collection\r\n",
        "    of words that can be used. This also means that there is a faster processing of sequence of\r\n",
        "    characters, than it would be for sequence of words.\r\n",
        "\r\n",
        "Disdvantages of modelling SMS text messages as a sequence of characters rather than a sequence of words:\r\n",
        "1) It is more difficult to understand context and meaning from a sequence of characters than it\r\n",
        "    would be for a sequence of words.\r\n",
        "2) This will probably require a much larger hidden layer to process each character rather than just\r\n",
        "    processing the entire word\r\n",
        "'''"
      ],
      "execution_count": null,
      "outputs": []
    },
    {
      "cell_type": "markdown",
      "metadata": {
        "id": "ie_D0bv9a90k"
      },
      "source": [
        "### Part (d) [1 pt]\n",
        "\n",
        "We will be loading our data set using `torchtext.data.TabularDataset`. The\n",
        "constructor will read directly from the `SMSSpamCollection` file. \n",
        "\n",
        "For the data file to be read successfuly, we\n",
        "need to specify the **fields** (columns) in the file. \n",
        "In our case, the dataset has two fields: \n",
        "\n",
        "- a text field containing the sms messages,\n",
        "- a label field which will be converted into a binary label.\n",
        "\n",
        "Split the dataset into `train`, `valid`, and `test`. Use a 60-20-20 split.\n",
        "You may find this torchtext API page helpful:\n",
        "https://torchtext.readthedocs.io/en/latest/data.html#dataset\n",
        "\n",
        "Hint: There is a `Dataset` method that can perform the random split for you."
      ]
    },
    {
      "cell_type": "code",
      "metadata": {
        "colab": {
          "base_uri": "https://localhost:8080/"
        },
        "collapsed": true,
        "id": "P_Y6Puz9a90l",
        "outputId": "82ad1db7-efa0-4221-9e0a-a9366971ad86"
      },
      "source": [
        "import torchtext\n",
        "\n",
        "text_field = torchtext.legacy.data.Field(sequential=True,      # text sequence\n",
        "                                  tokenize=lambda x: x, # because are building a character-RNN\n",
        "                                  include_lengths=True, # to track the length of sequences, for batching\n",
        "                                  batch_first=True,\n",
        "                                  use_vocab=True)       # to turn each character into an integer index\n",
        "label_field = torchtext.legacy.data.Field(sequential=False,    # not a sequence\n",
        "                                   use_vocab=False,     # don't need to track vocabulary\n",
        "                                   is_target=True,      \n",
        "                                   batch_first=True,\n",
        "                                   preprocessing=lambda x: int(x == 'spam')) # convert text to 0 and 1\n",
        "\n",
        "fields = [('label', label_field), ('sms', text_field)]\n",
        "dataset = torchtext.legacy.data.TabularDataset(\"SMSSpamCollection\", # name of the file\n",
        "                                        \"tsv\",               # fields are separated by a tab\n",
        "                                        fields)\n",
        "\n",
        "print(dataset[0].sms)\n",
        "print(dataset[0].label)\n",
        "\n",
        "train, valid, test = dataset.split([0.6, 0.2, 0.2], True)\n",
        "\n",
        "print(\"The length of training data:\", len(train))\n",
        "print(\"The length of validation data:\", len(valid))\n",
        "print(\"The length of testing data:\", len(test))"
      ],
      "execution_count": 42,
      "outputs": [
        {
          "output_type": "stream",
          "text": [
            "Go until jurong point, crazy.. Available only in bugis n great world la e buffet... Cine there got amore wat...\n",
            "0\n",
            "The length of training data: 3343\n",
            "The length of validation data: 1115\n",
            "The length of testing data: 1114\n"
          ],
          "name": "stdout"
        }
      ]
    },
    {
      "cell_type": "markdown",
      "metadata": {
        "id": "v6nP0Ks_a90o"
      },
      "source": [
        "### Part (e) [2 pt]\n",
        "\n",
        "You saw in part (b) that there are many more non-spam messages than spam messages.\n",
        "This **imbalance** in our training data will be problematic for training.\n",
        "We can fix this disparity by duplicating spam messages in the training set,\n",
        "so that the training set is roughly **balanced**.\n",
        "\n",
        "Explain why having a balanced training set is helpful for training our neural network.\n",
        "\n",
        "Note: if you are not sure, try removing the below code and train your mode."
      ]
    },
    {
      "cell_type": "code",
      "metadata": {
        "colab": {
          "base_uri": "https://localhost:8080/",
          "height": 188
        },
        "collapsed": true,
        "id": "FWvx9_rka90p",
        "outputId": "205456c4-1181-4a02-8d76-d084f378172b"
      },
      "source": [
        "# save the original training examples\n",
        "old_train_examples = train.examples\n",
        "# get all the spam messages in `train`\n",
        "train_spam = []\n",
        "for item in train.examples:\n",
        "    if item.label == 1:\n",
        "        train_spam.append(item)\n",
        "# duplicate each spam message 6 more times\n",
        "train.examples = old_train_examples + train_spam * 6\n",
        "\n",
        "spamCount = len(train_spam) * 6\n",
        "\n",
        "print(\"The new length of training set:\", len(train.examples))\n",
        "print(\"The new count of spam in the training set:\", spamCount)\n",
        "print(\"The new count of spam in the training set:\", len(train.examples) - spamCount, '\\n')\n",
        "'''\n",
        "Having a balanced training set is very helpful to remove bias in our neural network. When the training\n",
        "set is unbalanced with 4827 non-spam out of 5574 total samples. This means currently the neural\n",
        "network can achieve 86.6% accuracy by guessing non-spam each time. This high accuracy doesn't mean\n",
        "that our model is any good. It just means that the model is just picking the option that dominated our\n",
        "data. Balancing the training set, and having the model train on equal amounts of spam and non-spam\n",
        "messages allows for the model to actually learn the differences between two to be able to accurately \n",
        "determine spam.\n",
        "'''"
      ],
      "execution_count": 43,
      "outputs": [
        {
          "output_type": "stream",
          "text": [
            "The new length of training set: 6031\n",
            "The new count of spam in the training set: 2688\n",
            "The new count of spam in the training set: 3343 \n",
            "\n"
          ],
          "name": "stdout"
        },
        {
          "output_type": "execute_result",
          "data": {
            "application/vnd.google.colaboratory.intrinsic+json": {
              "type": "string"
            },
            "text/plain": [
              "\"\\nHaving a balanced training set is very helpful to remove bias in our neural network. When the training\\nset is unbalanced with 4827 non-spam out of 5574 total samples. This means currently the neural\\nnetwork can achieve 86.6% accuracy by guessing non-spam each time. This high accuracy doesn't mean\\nthat our model is any good. It just means that the model is just picking the option that dominated our\\ndata. Balancing the training set, and having the model train on equal amounts of spam and non-spam\\nmessages allows for the model to actually learn the differences between two to be able to accurately \\ndetermine spam.\\n\""
            ]
          },
          "metadata": {
            "tags": []
          },
          "execution_count": 43
        }
      ]
    },
    {
      "cell_type": "markdown",
      "metadata": {
        "id": "j7eUmBEva90r"
      },
      "source": [
        "### Part (f) [1 pt]\n",
        "\n",
        "We need to build the vocabulary on the training data by running the below code.\n",
        "This finds all the possible character tokens in the training set.\n",
        "\n",
        "Explain what the variables `text_field.vocab.stoi` and `text_field.vocab.itos` represent."
      ]
    },
    {
      "cell_type": "code",
      "metadata": {
        "colab": {
          "base_uri": "https://localhost:8080/"
        },
        "collapsed": true,
        "id": "8CQM8flKa90s",
        "outputId": "0ab311d3-f19d-4077-e4f6-3e38b6900825"
      },
      "source": [
        "text_field.build_vocab(train)\n",
        "text_field.vocab.stoi\n",
        "text_field.vocab.itos"
      ],
      "execution_count": 44,
      "outputs": [
        {
          "output_type": "execute_result",
          "data": {
            "text/plain": [
              "['<unk>',\n",
              " '<pad>',\n",
              " ' ',\n",
              " 'e',\n",
              " 'o',\n",
              " 't',\n",
              " 'a',\n",
              " 'n',\n",
              " 'r',\n",
              " 'i',\n",
              " 's',\n",
              " 'l',\n",
              " 'u',\n",
              " 'h',\n",
              " '0',\n",
              " 'd',\n",
              " '.',\n",
              " 'c',\n",
              " 'm',\n",
              " 'y',\n",
              " 'w',\n",
              " 'p',\n",
              " 'g',\n",
              " '1',\n",
              " 'f',\n",
              " '2',\n",
              " 'b',\n",
              " 'T',\n",
              " '8',\n",
              " 'k',\n",
              " 'v',\n",
              " 'E',\n",
              " '5',\n",
              " 'S',\n",
              " 'C',\n",
              " 'I',\n",
              " 'O',\n",
              " '4',\n",
              " 'N',\n",
              " '7',\n",
              " 'x',\n",
              " '3',\n",
              " 'A',\n",
              " '6',\n",
              " 'R',\n",
              " '!',\n",
              " ',',\n",
              " '9',\n",
              " 'W',\n",
              " 'M',\n",
              " 'P',\n",
              " 'U',\n",
              " 'L',\n",
              " 'H',\n",
              " 'D',\n",
              " 'B',\n",
              " 'G',\n",
              " 'Y',\n",
              " \"'\",\n",
              " 'F',\n",
              " '?',\n",
              " '/',\n",
              " '£',\n",
              " '-',\n",
              " '&',\n",
              " ':',\n",
              " 'X',\n",
              " 'z',\n",
              " 'V',\n",
              " 'j',\n",
              " '*',\n",
              " 'K',\n",
              " ')',\n",
              " '+',\n",
              " 'J',\n",
              " ';',\n",
              " '(',\n",
              " 'Q',\n",
              " 'q',\n",
              " '\"',\n",
              " '#',\n",
              " '>',\n",
              " '=',\n",
              " '@',\n",
              " 'Z',\n",
              " 'ü',\n",
              " 'Ü',\n",
              " '$',\n",
              " '\\x92',\n",
              " '‘',\n",
              " '|',\n",
              " '%',\n",
              " '[',\n",
              " ']',\n",
              " '_',\n",
              " '<',\n",
              " '¡',\n",
              " '…',\n",
              " '\\x93',\n",
              " '–',\n",
              " '“',\n",
              " '\\x94',\n",
              " 'é',\n",
              " '~',\n",
              " '’',\n",
              " '\\\\',\n",
              " '\\x96',\n",
              " 'É']"
            ]
          },
          "metadata": {
            "tags": []
          },
          "execution_count": 44
        }
      ]
    },
    {
      "cell_type": "markdown",
      "metadata": {
        "id": "kISwrmu7TEDv"
      },
      "source": [
        "The variable text_field.vocab.stoi represents the mapping of of strings to numerical identifiers. In our case, each of the characters is mapped to a number.\r\n",
        "\r\n",
        "The variable text_field.vocab.itos represents the strings indexed by their numerical identifiers. In our case, this is the list of characters in stoi with the same order."
      ]
    },
    {
      "cell_type": "markdown",
      "metadata": {
        "id": "TC8WVE8Ua90u"
      },
      "source": [
        "### Part (g) [2 pt]\n",
        "\n",
        "The tokens `<unk>` and `<pad>` were not in our SMS text messages.\n",
        "What do these two values represent?"
      ]
    },
    {
      "cell_type": "code",
      "metadata": {
        "collapsed": true,
        "id": "y_4Er7KUa90v"
      },
      "source": [
        "'''\r\n",
        "<unk> represents unknown characters.\r\n",
        "<pad> represents the padding token which is used to increase the size of the data items.\r\n",
        "'''"
      ],
      "execution_count": null,
      "outputs": []
    },
    {
      "cell_type": "markdown",
      "metadata": {
        "id": "Ff5CNk7Qa90y"
      },
      "source": [
        "### Part (h) [2 pt]\n",
        "\n",
        "Since text sequences are of variable length, `torchtext` provides a `BucketIterator` data loader,\n",
        "which batches similar length sequences together. The iterator also provides functionalities to\n",
        "pad sequences automatically.\n",
        "\n",
        "Take a look at 10 batches in `train_iter`. What is the maximum length of the\n",
        "input sequence in each batch? How many `<pad>` tokens are used in each of the 10\n",
        "batches?"
      ]
    },
    {
      "cell_type": "code",
      "metadata": {
        "collapsed": true,
        "id": "V8N8qLWOa90y"
      },
      "source": [
        "train_iter = torchtext.legacy.data.BucketIterator(train,\n",
        "                                           batch_size=32,\n",
        "                                           sort_key=lambda x: len(x.sms), # to minimize padding\n",
        "                                           sort_within_batch=True,        # sort within each batch\n",
        "                                           repeat=False)                  # repeat the iterator for many epochs"
      ],
      "execution_count": 45,
      "outputs": []
    },
    {
      "cell_type": "code",
      "metadata": {
        "colab": {
          "base_uri": "https://localhost:8080/"
        },
        "collapsed": true,
        "id": "Qwz-rOaha902",
        "outputId": "1b4474c2-2f9f-496e-ec27-07c33e689739"
      },
      "source": [
        "count = 0\n",
        "for batch in train_iter:\n",
        "  if count >= 10:\n",
        "    break\n",
        "  else:\n",
        "    maxLength = max(batch.sms[1]).item()\n",
        "    print(\"The batch number is:\", count)\n",
        "    print(\"The max length of the input sequence in this batch is:\", maxLength)\n",
        "\n",
        "    padSum = 0\n",
        "    for message in batch.sms[0]:\n",
        "      for pad in message:\n",
        "        if pad == 1:\n",
        "          padSum += 1\n",
        "    print(\"The count of <pad> is:\", padSum, '\\n')\n",
        "    count += 1\n",
        "\n",
        "    #print(len(batch))\n",
        "    #print(batch.sms)\n",
        "    #print(batch.label)"
      ],
      "execution_count": 46,
      "outputs": [
        {
          "output_type": "stream",
          "text": [
            "The batch number is: 0\n",
            "The max length of the input sequence in this batch is: 150\n",
            "The count of <pad> is: 15 \n",
            "\n",
            "The batch number is: 1\n",
            "The max length of the input sequence in this batch is: 166\n",
            "The count of <pad> is: 56 \n",
            "\n",
            "The batch number is: 2\n",
            "The max length of the input sequence in this batch is: 154\n",
            "The count of <pad> is: 10 \n",
            "\n",
            "The batch number is: 3\n",
            "The max length of the input sequence in this batch is: 29\n",
            "The count of <pad> is: 28 \n",
            "\n",
            "The batch number is: 4\n",
            "The max length of the input sequence in this batch is: 85\n",
            "The count of <pad> is: 56 \n",
            "\n",
            "The batch number is: 5\n",
            "The max length of the input sequence in this batch is: 139\n",
            "The count of <pad> is: 21 \n",
            "\n",
            "The batch number is: 6\n",
            "The max length of the input sequence in this batch is: 66\n",
            "The count of <pad> is: 61 \n",
            "\n",
            "The batch number is: 7\n",
            "The max length of the input sequence in this batch is: 158\n",
            "The count of <pad> is: 0 \n",
            "\n",
            "The batch number is: 8\n",
            "The max length of the input sequence in this batch is: 130\n",
            "The count of <pad> is: 34 \n",
            "\n",
            "The batch number is: 9\n",
            "The max length of the input sequence in this batch is: 33\n",
            "The count of <pad> is: 29 \n",
            "\n"
          ],
          "name": "stdout"
        }
      ]
    },
    {
      "cell_type": "markdown",
      "metadata": {
        "id": "y7HnqP6_a904"
      },
      "source": [
        "## Part 2. Model Building [8 pt]\n",
        "\n",
        "Build a recurrent neural network model, using an architecture of your choosing. \n",
        "Use the one-hot embedding of each character as input to your recurrent network.\n",
        "Use one or more fully-connected layers to make the prediction based on your\n",
        "recurrent network output.\n",
        "\n",
        "Instead of using the RNN output value for the final token, another often used\n",
        "strategy is to max-pool over the entire output array. That is, instead of calling\n",
        "something like:\n",
        "\n",
        "```\n",
        "out, _ = self.rnn(x)\n",
        "self.fc(out[:, -1, :])\n",
        "```\n",
        "\n",
        "where `self.rnn` is an `nn.RNN`, `nn.GRU`, or `nn.LSTM` module, and `self.fc` is a \n",
        "fully-connected \n",
        "layer, we use:\n",
        "\n",
        "```\n",
        "out, _ = self.rnn(x)\n",
        "self.fc(torch.max(out, dim=1)[0])\n",
        "```\n",
        "\n",
        "This works reasonably in practice. An even better alternative is to concatenate the\n",
        "max-pooling and average-pooling of the RNN outputs:\n",
        "\n",
        "```\n",
        "out, _ = self.rnn(x)\n",
        "out = torch.cat([torch.max(out, dim=1)[0], \n",
        "                 torch.mean(out, dim=1)], dim=1)\n",
        "self.fc(out)\n",
        "```\n",
        "\n",
        "We encourage you to try out all these options. The way you pool the RNN outputs\n",
        "is one of the \"hyperparameters\" that you can choose to tune later on."
      ]
    },
    {
      "cell_type": "code",
      "metadata": {
        "collapsed": true,
        "id": "jHl1p_Wwa905",
        "colab": {
          "base_uri": "https://localhost:8080/"
        },
        "outputId": "a9434d83-49d4-44ab-bf82-1912d47aee0a"
      },
      "source": [
        "# You might find this code helpful for obtaining\n",
        "# PyTorch one-hot vectors.\n",
        "\n",
        "ident = torch.eye(10)\n",
        "print(ident[0]) # one-hot vector\n",
        "print(ident[1]) # one-hot vector\n",
        "x = torch.tensor([[1, 2], [3, 4]])\n",
        "print(ident[x]) # one-hot vectors"
      ],
      "execution_count": 47,
      "outputs": [
        {
          "output_type": "stream",
          "text": [
            "tensor([1., 0., 0., 0., 0., 0., 0., 0., 0., 0.])\n",
            "tensor([0., 1., 0., 0., 0., 0., 0., 0., 0., 0.])\n",
            "tensor([[[0., 1., 0., 0., 0., 0., 0., 0., 0., 0.],\n",
            "         [0., 0., 1., 0., 0., 0., 0., 0., 0., 0.]],\n",
            "\n",
            "        [[0., 0., 0., 1., 0., 0., 0., 0., 0., 0.],\n",
            "         [0., 0., 0., 0., 1., 0., 0., 0., 0., 0.]]])\n"
          ],
          "name": "stdout"
        }
      ]
    },
    {
      "cell_type": "code",
      "metadata": {
        "collapsed": true,
        "id": "4LTQ7zFka909"
      },
      "source": [
        "class SpamDetectionRNN(nn.Module):\r\n",
        "  def __init__(self, input_size, hidden_size, num_classes):\r\n",
        "    super(SpamDetectionRNN, self).__init__()\r\n",
        "    self.emb = torch.eye(input_size)\r\n",
        "    self.hidden_size = hidden_size\r\n",
        "    self.rnn = nn.RNN(input_size, hidden_size, batch_first= True)\r\n",
        "    self.fc = nn.Linear(hidden_size*2, num_classes)\r\n",
        "\r\n",
        "  def forward(self, x):\r\n",
        "    # Look up the embedding\r\n",
        "    x = self.emb[x]\r\n",
        "    # Set an initial hidden state\r\n",
        "    h0 = torch.zeros(1, x.size(0), self.hidden_size)\r\n",
        "    # Forward pass propagate the RNN\r\n",
        "    out, _ = self.rnn(x, h0)\r\n",
        "    # Pass the output from the last time step to the classifier\r\n",
        "    out = self.fc(torch.cat([torch.max(out, dim=1)[0], \r\n",
        "                 torch.mean(out, dim=1)], dim=1))\r\n",
        "    return out"
      ],
      "execution_count": 48,
      "outputs": []
    },
    {
      "cell_type": "markdown",
      "metadata": {
        "id": "vKIYPl_Ba90_"
      },
      "source": [
        "## Part 3. Training [16 pt]\n",
        "\n",
        "### Part (a) [4 pt]\n",
        "\n",
        "Complete the `get_accuracy` function, which will compute the\n",
        "accuracy (rate) of your model across a dataset (e.g. validation set).\n",
        "You may modify `torchtext.data.BucketIterator` to make your computation\n",
        "faster."
      ]
    },
    {
      "cell_type": "code",
      "metadata": {
        "collapsed": true,
        "id": "pvNfhGD6a91A"
      },
      "source": [
        "def get_accuracy(model, data, batch_size):\n",
        "    \"\"\" Compute the accuracy of the `model` across a dataset `data`\n",
        "    \n",
        "    Example usage:\n",
        "    \n",
        "    >>> model = MyRNN() # to be defined\n",
        "    >>> get_accuracy(model, valid) # the variable `valid` is from above\n",
        "    \"\"\"\n",
        "    # Setting up the data loader\n",
        "    # Minimizing padding. Sorting within each batch. Not repeating the iterator for many epochs\n",
        "    dataLoader = torchtext.legacy.data.BucketIterator(data, batch_size=batch_size, sort_key= lambda x: len(x.sms),\n",
        "                                               sort_within_batch = True, repeat = False)\n",
        "\n",
        "    correct, total = 0, 0\n",
        "\n",
        "    for messages, labels in dataLoader:\n",
        "      output = model(messages[0])\n",
        "      prediction = output.max(1, keepdim = True)[1]\n",
        "      correct += prediction.eq(labels.view_as(prediction)).sum().item()\n",
        "      total += labels.shape[0]\n",
        "\n",
        "    return correct / total\n"
      ],
      "execution_count": 49,
      "outputs": []
    },
    {
      "cell_type": "markdown",
      "metadata": {
        "id": "TlxlcAC1a91C"
      },
      "source": [
        "### Part (b) [4 pt]\n",
        "\n",
        "Train your model. Plot the training curve of your final model. \n",
        "Your training curve should have the training/validation loss and\n",
        "accuracy plotted periodically.\n",
        "\n",
        "Note: Not all of your batches will have the same batch size.\n",
        "In particular, if your training set does not divide evenly by\n",
        "your batch size, there will be a batch that is smaller than\n",
        "the rest. "
      ]
    },
    {
      "cell_type": "code",
      "metadata": {
        "collapsed": true,
        "id": "CVtf7CJCa91D"
      },
      "source": [
        "def trainRNN(model, training, validation, batch_size=64, num_epochs=15, learning_rate= 1e-4):\r\n",
        "  criterion = nn.CrossEntropyLoss()\r\n",
        "  optimizer = torch.optim.Adam(model.parameters(), lr=learning_rate)\r\n",
        "  training_losses, validation_losses, training_accuracy, validation_accuracy = [], [], [], []\r\n",
        "  epochs = []\r\n",
        "\r\n",
        "  trainingLoader = torchtext.legacy.data.BucketIterator(training, batch_size=batch_size, sort_key= lambda x: len(x.sms),\r\n",
        "                                               sort_within_batch = True, repeat = False)\r\n",
        "  \r\n",
        "  validationLoader = torchtext.legacy.data.BucketIterator(validation, batch_size=batch_size, sort_key= lambda x: len(x.sms),\r\n",
        "                                               sort_within_batch = True, repeat = False)\r\n",
        "\r\n",
        "  for epoch in range(num_epochs):\r\n",
        "    for messages, labels in trainingLoader:\r\n",
        "      optimizer.zero_grad()\r\n",
        "      prediction = model(messages[0])\r\n",
        "      loss = criterion(prediction, labels)\r\n",
        "      loss.backward()\r\n",
        "      optimizer.step()\r\n",
        "    training_losses.append(float(loss))\r\n",
        "\r\n",
        "    for messages, labels in validationLoader:\r\n",
        "      prediction = model(messages[0])\r\n",
        "      loss = criterion(prediction, labels)\r\n",
        "    validation_losses.append(float(loss))\r\n",
        "\r\n",
        "    epochs.append(epoch)\r\n",
        "    \r\n",
        "    training_accuracy.append(get_accuracy(model, training, batch_size))\r\n",
        "    validation_accuracy.append(get_accuracy(model, validation, batch_size))\r\n",
        "\r\n",
        "    print(\"Epoch:\", epoch + 1, \", Training Accuracy:\", training_accuracy[-1], \", Validation Accuracy:\", validation_accuracy[-1])\r\n",
        "\r\n",
        "'''\r\n",
        "  #Accuracy Plot\r\n",
        "  plt.title(\"Training Curve\")\r\n",
        "  plt.plot(training_accuracy, label='Training')\r\n",
        "  plt.plot(validation_accuracy, label='Validation')\r\n",
        "  plt.xlabel('Iterations')\r\n",
        "  plt.ylabel('Accuracy')\r\n",
        "  plt.show()\r\n",
        "\r\n",
        "  #Loss Plot\r\n",
        "  plt.title('Training Curve')\r\n",
        "  plt.plot(training_losses, label='Training')\r\n",
        "  plt.plot(validation_losses, label='Validation')\r\n",
        "  plt.xlabel('Iterations')\r\n",
        "  plt.ylabel('Loss')\r\n",
        "  plt.show()\r\n",
        "'''"
      ],
      "execution_count": null,
      "outputs": []
    },
    {
      "cell_type": "code",
      "metadata": {
        "colab": {
          "base_uri": "https://localhost:8080/",
          "height": 828
        },
        "id": "N4OaHdUqHLWG",
        "outputId": "03e88ce8-1c68-42d2-963b-1a7956b0d824"
      },
      "source": [
        "#Running my RNN model for the first time\r\n",
        "#hidden_size = 50, num_classes = 2\r\n",
        "input_size = len(text_field.vocab.itos)\r\n",
        "myModel = SpamDetectionRNN(input_size, hidden_size=50, num_classes=2)\r\n",
        "trainRNN(myModel, train, valid, batch_size=64, num_epochs=15, learning_rate=1e-4)"
      ],
      "execution_count": 68,
      "outputs": [
        {
          "output_type": "stream",
          "text": [
            "Epoch: 1 , Training Accuracy: 0.4800198971978113 , Validation Accuracy: 0.8654708520179372\n",
            "Epoch: 2 , Training Accuracy: 0.4800198971978113 , Validation Accuracy: 0.8654708520179372\n",
            "Epoch: 3 , Training Accuracy: 0.6738517658763058 , Validation Accuracy: 0.9103139013452914\n",
            "Epoch: 4 , Training Accuracy: 0.8867517824573039 , Validation Accuracy: 0.8547085201793722\n",
            "Epoch: 5 , Training Accuracy: 0.9003482009616979 , Validation Accuracy: 0.873542600896861\n",
            "Epoch: 6 , Training Accuracy: 0.9185872989553971 , Validation Accuracy: 0.9022421524663677\n",
            "Epoch: 7 , Training Accuracy: 0.9469408058365114 , Validation Accuracy: 0.9291479820627803\n",
            "Epoch: 8 , Training Accuracy: 0.8585640855579506 , Validation Accuracy: 0.9452914798206278\n",
            "Epoch: 9 , Training Accuracy: 0.9320179074780301 , Validation Accuracy: 0.9381165919282511\n",
            "Epoch: 10 , Training Accuracy: 0.9351682971314873 , Validation Accuracy: 0.9479820627802691\n",
            "Epoch: 11 , Training Accuracy: 0.9305256176421821 , Validation Accuracy: 0.9147982062780269\n",
            "Epoch: 12 , Training Accuracy: 0.9361631570220528 , Validation Accuracy: 0.9408071748878923\n",
            "Epoch: 13 , Training Accuracy: 0.9422981263472061 , Validation Accuracy: 0.9372197309417041\n",
            "Epoch: 14 , Training Accuracy: 0.9427955562924888 , Validation Accuracy: 0.9488789237668162\n",
            "Epoch: 15 , Training Accuracy: 0.9466091858729896 , Validation Accuracy: 0.9506726457399103\n"
          ],
          "name": "stdout"
        },
        {
          "output_type": "display_data",
          "data": {
            "image/png": "[encoded data removed]",
            "text/plain": [
              "<Figure size 432x288 with 1 Axes>"
            ]
          },
          "metadata": {
            "tags": [],
            "needs_background": "light"
          }
        },
        {
          "output_type": "display_data",
          "data": {
            "image/png": "[encoded data removed]",
            "text/plain": [
              "<Figure size 432x288 with 1 Axes>"
            ]
          },
          "metadata": {
            "tags": [],
            "needs_background": "light"
          }
        }
      ]
    },
    {
      "cell_type": "markdown",
      "metadata": {
        "id": "fE3eRkDAa91F"
      },
      "source": [
        "### Part (c) [4 pt]\n",
        "\n",
        "Choose at least 4 hyperparameters to tune. Explain how you tuned the hyperparameters.\n",
        "You don't need to include your training curve for every model you trained.\n",
        "Instead, explain what hyperparemters you tuned, what the best validation accuracy was,\n",
        "and the reasoning behind the hyperparameter decisions you made.\n",
        "\n",
        "For this assignment, you should tune more than just your learning rate and epoch. \n",
        "Choose at least 2 hyperparameters that are unrelated to the optimizer."
      ]
    },
    {
      "cell_type": "code",
      "metadata": {
        "collapsed": true,
        "id": "A2GEWfDca91G",
        "colab": {
          "base_uri": "https://localhost:8080/"
        },
        "outputId": "aaef3507-8431-47c0-b1ee-a317a8f3702e"
      },
      "source": [
        "#Running my RNN model for the second time\r\n",
        "#Here I will be increasing the number of hidden_size and I will also be decreasing the learning_rate\r\n",
        "#Reasoning: Hoping to see more steady results and greater accuracy\r\n",
        "#hidden_size = 100, num_classes = 2\r\n",
        "#batch_size = 64, num_epochs = 15, learning_rate = 1e-5\r\n",
        "input_size = len(text_field.vocab.itos)\r\n",
        "mySecondModel = SpamDetectionRNN(input_size, hidden_size=100, num_classes=2)\r\n",
        "trainRNN(mySecondModel, train, valid, batch_size=64, num_epochs=15, learning_rate=1e-5)"
      ],
      "execution_count": 14,
      "outputs": [
        {
          "output_type": "stream",
          "text": [
            "Epoch: 1 , Training Accuracy: 0.4800198971978113 , Validation Accuracy: 0.8654708520179372\n",
            "Epoch: 2 , Training Accuracy: 0.4800198971978113 , Validation Accuracy: 0.8654708520179372\n",
            "Epoch: 3 , Training Accuracy: 0.4816779970154203 , Validation Accuracy: 0.8663677130044843\n",
            "Epoch: 4 , Training Accuracy: 0.5703863372575029 , Validation Accuracy: 0.8798206278026905\n",
            "Epoch: 5 , Training Accuracy: 0.6128336925882938 , Validation Accuracy: 0.884304932735426\n",
            "Epoch: 6 , Training Accuracy: 0.793566572707677 , Validation Accuracy: 0.8941704035874439\n",
            "Epoch: 7 , Training Accuracy: 0.8452992870170785 , Validation Accuracy: 0.8860986547085202\n",
            "Epoch: 8 , Training Accuracy: 0.7925717128171116 , Validation Accuracy: 0.7067264573991031\n",
            "Epoch: 9 , Training Accuracy: 0.8040126015586139 , Validation Accuracy: 0.7309417040358744\n",
            "Epoch: 10 , Training Accuracy: 0.7643840159177583 , Validation Accuracy: 0.6322869955156951\n",
            "Epoch: 11 , Training Accuracy: 0.7201127507875974 , Validation Accuracy: 0.5354260089686098\n",
            "Epoch: 12 , Training Accuracy: 0.7056872823743989 , Validation Accuracy: 0.4959641255605381\n",
            "Epoch: 13 , Training Accuracy: 0.6584314375725419 , Validation Accuracy: 0.4008968609865471\n",
            "Epoch: 14 , Training Accuracy: 0.644669209086387 , Validation Accuracy: 0.37309417040358744\n",
            "Epoch: 15 , Training Accuracy: 0.6534571381197148 , Validation Accuracy: 0.39282511210762333\n"
          ],
          "name": "stdout"
        }
      ]
    },
    {
      "cell_type": "code",
      "metadata": {
        "colab": {
          "base_uri": "https://localhost:8080/"
        },
        "id": "PoRtfbHm1X4E",
        "outputId": "3194de7f-c010-4403-b09c-c3f13d2508c0"
      },
      "source": [
        "#Running my RNN model for the third time\r\n",
        "#Here I will be increasing the number of epochs and I will also be increasing the learning rate\r\n",
        "#Reasoning: Based on my second model, my results significantly declined. I'm hoping to retain\r\n",
        "#a high accuracy and provide a longer training period to see more stability.\r\n",
        "#hidden_size = 100, num_classes = 2\r\n",
        "#batch_size = 64, num_epochs = 20, learning_rate = 1e-4\r\n",
        "input_size = len(text_field.vocab.itos)\r\n",
        "myThirdModel = SpamDetectionRNN(input_size, hidden_size=100, num_classes=2)\r\n",
        "trainRNN(myThirdModel, train, valid, batch_size=64, num_epochs=20, learning_rate=1e-4)"
      ],
      "execution_count": 35,
      "outputs": [
        {
          "output_type": "stream",
          "text": [
            "Epoch: 1 , Training Accuracy: 0.576852926546178 , Validation Accuracy: 0.19282511210762332\n",
            "Epoch: 2 , Training Accuracy: 0.5365611009782789 , Validation Accuracy: 0.15784753363228698\n",
            "Epoch: 3 , Training Accuracy: 0.6259326811474051 , Validation Accuracy: 0.2538116591928251\n",
            "Epoch: 4 , Training Accuracy: 0.8597247554302769 , Validation Accuracy: 0.9121076233183857\n",
            "Epoch: 5 , Training Accuracy: 0.9107942298126347 , Validation Accuracy: 0.9085201793721973\n",
            "Epoch: 6 , Training Accuracy: 0.9446194660918588 , Validation Accuracy: 0.947085201793722\n",
            "Epoch: 7 , Training Accuracy: 0.9439562261648151 , Validation Accuracy: 0.9515695067264573\n",
            "Epoch: 8 , Training Accuracy: 0.9490963355994031 , Validation Accuracy: 0.9551569506726457\n",
            "Epoch: 9 , Training Accuracy: 0.9504228154534903 , Validation Accuracy: 0.9596412556053812\n",
            "Epoch: 10 , Training Accuracy: 0.9381528768031836 , Validation Accuracy: 0.905829596412556\n",
            "Epoch: 11 , Training Accuracy: 0.9580500746144918 , Validation Accuracy: 0.9659192825112107\n",
            "Epoch: 12 , Training Accuracy: 0.9587133145415354 , Validation Accuracy: 0.9551569506726457\n",
            "Epoch: 13 , Training Accuracy: 0.9592107444868181 , Validation Accuracy: 0.9668161434977578\n",
            "Epoch: 14 , Training Accuracy: 0.9658431437572542 , Validation Accuracy: 0.9596412556053812\n",
            "Epoch: 15 , Training Accuracy: 0.9497595755264467 , Validation Accuracy: 0.968609865470852\n",
            "Epoch: 16 , Training Accuracy: 0.9577184546509699 , Validation Accuracy: 0.9704035874439462\n",
            "Epoch: 17 , Training Accuracy: 0.9646824738849279 , Validation Accuracy: 0.9479820627802691\n",
            "Epoch: 18 , Training Accuracy: 0.9641850439396452 , Validation Accuracy: 0.9748878923766816\n",
            "Epoch: 19 , Training Accuracy: 0.9666721936660587 , Validation Accuracy: 0.9641255605381166\n",
            "Epoch: 20 , Training Accuracy: 0.9673354335931023 , Validation Accuracy: 0.9695067264573991\n"
          ],
          "name": "stdout"
        }
      ]
    },
    {
      "cell_type": "code",
      "metadata": {
        "colab": {
          "base_uri": "https://localhost:8080/"
        },
        "id": "q5fScTdD2e0j",
        "outputId": "66bf6147-8b6c-4542-f6df-d5fe0d73c51c"
      },
      "source": [
        "#Running my RNN model for the fourth time\r\n",
        "#Reflection: In the last iteration, I had the best validation accuracy so far of 96.9%\r\n",
        "#Reasoning: Now I will try to use the RNN raw output value for the final token instead of concatenated\r\n",
        "#max-pooling and average-pooling layers which I have used until now. I understand that those work better\r\n",
        "#better in practice. But I want to confirm this theory and test whether my validation accuracy is now \r\n",
        "#reduced due to this change\r\n",
        "\r\n",
        "'''\r\n",
        "class SpamDetectionRNN(nn.Module):\r\n",
        "  def __init__(self, input_size, hidden_size, num_classes):\r\n",
        "    super(SpamDetectionRNN, self).__init__()\r\n",
        "    self.emb = torch.eye(input_size)\r\n",
        "    self.hidden_size = hidden_size\r\n",
        "    self.rnn = nn.RNN(input_size, hidden_size, batch_first= True)\r\n",
        "    self.fc = nn.Linear(hidden_size, num_classes)\r\n",
        "\r\n",
        "  def forward(self, x):\r\n",
        "    # Look up the embedding\r\n",
        "    x = self.emb[x]\r\n",
        "    # Set an initial hidden state\r\n",
        "    h0 = torch.zeros(1, x.size(0), self.hidden_size)\r\n",
        "    # Forward pass propagate the RNN\r\n",
        "    out, _ = self.rnn(x, h0)\r\n",
        "    # Pass the output from the last time step to the classifier\r\n",
        "    out = self.fc(out[:, -1, :])\r\n",
        "    return out\r\n",
        "'''\r\n",
        "\r\n",
        "#hidden_size = 100, num_classes = 2\r\n",
        "#batch_size = 64, num_epochs = 20, learning_rate = 1e-5\r\n",
        "input_size = len(text_field.vocab.itos)\r\n",
        "myThirdModel = SpamDetectionRNN(input_size, hidden_size=100, num_classes=2)\r\n",
        "trainRNN(myThirdModel, train, valid, batch_size=64, num_epochs=20, learning_rate=1e-4)"
      ],
      "execution_count": 26,
      "outputs": [
        {
          "output_type": "stream",
          "text": [
            "Epoch: 1 , Training Accuracy: 0.6360470900348201 , Validation Accuracy: 0.7076233183856502\n",
            "Epoch: 2 , Training Accuracy: 0.7398441386171447 , Validation Accuracy: 0.7668161434977578\n",
            "Epoch: 3 , Training Accuracy: 0.8126347206101807 , Validation Accuracy: 0.7300448430493274\n",
            "Epoch: 4 , Training Accuracy: 0.7151384513347704 , Validation Accuracy: 0.7201793721973094\n",
            "Epoch: 5 , Training Accuracy: 0.9185872989553971 , Validation Accuracy: 0.9049327354260089\n",
            "Epoch: 6 , Training Accuracy: 0.9162659592107445 , Validation Accuracy: 0.9067264573991032\n",
            "Epoch: 7 , Training Accuracy: 0.9338418172774001 , Validation Accuracy: 0.8995515695067264\n",
            "Epoch: 8 , Training Accuracy: 0.9318520974962693 , Validation Accuracy: 0.9183856502242153\n",
            "Epoch: 9 , Training Accuracy: 0.9293649477698558 , Validation Accuracy: 0.9139013452914798\n",
            "Epoch: 10 , Training Accuracy: 0.925717128171116 , Validation Accuracy: 0.9461883408071748\n",
            "Epoch: 11 , Training Accuracy: 0.9462775659094678 , Validation Accuracy: 0.9354260089686098\n",
            "Epoch: 12 , Training Accuracy: 0.9432929862377715 , Validation Accuracy: 0.9318385650224216\n",
            "Epoch: 13 , Training Accuracy: 0.9456143259824241 , Validation Accuracy: 0.9399103139013453\n",
            "Epoch: 14 , Training Accuracy: 0.9479356657270768 , Validation Accuracy: 0.9479820627802691\n",
            "Epoch: 15 , Training Accuracy: 0.9335101973138783 , Validation Accuracy: 0.9515695067264573\n",
            "Epoch: 16 , Training Accuracy: 0.9426297463107279 , Validation Accuracy: 0.9506726457399103\n",
            "Epoch: 17 , Training Accuracy: 0.9388161167302271 , Validation Accuracy: 0.9533632286995516\n",
            "Epoch: 18 , Training Accuracy: 0.940805836511358 , Validation Accuracy: 0.957847533632287\n",
            "Epoch: 19 , Training Accuracy: 0.9459459459459459 , Validation Accuracy: 0.9542600896860987\n",
            "Epoch: 20 , Training Accuracy: 0.9567235947604046 , Validation Accuracy: 0.947085201793722\n"
          ],
          "name": "stdout"
        }
      ]
    },
    {
      "cell_type": "markdown",
      "metadata": {
        "id": "Bl-AqCzS74OH"
      },
      "source": [
        "After training four models, we can see that the my best model was my third model. This model used the original final token of concatenating the max-pooling and the average-pooling of the RNN outputs. This model also had a dimension of 100 for the hidden units. Lastly, the batch_size was 64, the num_epochs was 20, and the learning_rate was 1e-4. With this architecture and hyperparameter combination, I was able to achieve a validation accuracy of 96.9% Additionally, this result was steady and consistent over the last 3 epochs suggesting this is a good result to end of on."
      ]
    },
    {
      "cell_type": "markdown",
      "metadata": {
        "id": "v7DY56rKa91I"
      },
      "source": [
        "### Part (d) [2 pt]\n",
        "\n",
        "Before we deploy a machine learning model, we usually want to have a better understanding\n",
        "of how our model performs beyond its validation accuracy. An important metric to track is\n",
        "*how well our model performs in certain subsets of the data*.\n",
        "\n",
        "In particular, what is the model's error rate amongst data with negative labels?\n",
        "This is called the **false positive rate**.\n",
        "\n",
        "What about the model's error rate amongst data with positive labels?\n",
        "This is called the **false negative rate**.\n",
        "\n",
        "Report your final model's false positive and false negative rate across the\n",
        "validation set."
      ]
    },
    {
      "cell_type": "code",
      "metadata": {
        "collapsed": true,
        "id": "7ggbQSdba91J",
        "colab": {
          "base_uri": "https://localhost:8080/"
        },
        "outputId": "17d84c34-a6b2-4194-f68f-b3ecb7d5af24"
      },
      "source": [
        "# Create a Dataset of only spam validation examples\n",
        "valid_spam = torchtext.legacy.data.Dataset(\n",
        "    [e for e in valid.examples if e.label == 1],\n",
        "    valid.fields)\n",
        "# Create a Dataset of only non-spam validation examples\n",
        "valid_nospam = torchtext.legacy.data.Dataset(\n",
        "    [e for e in valid.examples if e.label == 0],\n",
        "    valid.fields)\n",
        "\n",
        "#Final Model = myThirdModel\n",
        "#hidden_size = 100, num_classes = 2\n",
        "#batch_size = 64, num_epochs = 20, learning_rate = 1e-4\n",
        "falsePositiveRate = 1 - get_accuracy(myThirdModel, valid_nospam, 64)\n",
        "falseNegativeRate = 1 - get_accuracy(myThirdModel, valid_spam, 64)\n",
        "\n",
        "print(\"The Final Model's false positive rate across the validation set is:\", falsePositiveRate*100, \"%\")\n",
        "print(\"The Final Model's false negative rate across the validation set is:\", falseNegativeRate*100, \"%\")"
      ],
      "execution_count": 50,
      "outputs": [
        {
          "output_type": "stream",
          "text": [
            "The Final Model's false positive rate across the validation set is: 2.2797927461139844 %\n",
            "The Final Model's false negative rate across the validation set is: 6.666666666666665 %\n"
          ],
          "name": "stdout"
        }
      ]
    },
    {
      "cell_type": "markdown",
      "metadata": {
        "id": "N1iRteb3a91O"
      },
      "source": [
        "### Part (e) [2 pt]\n",
        "\n",
        "The impact of a false positive vs a false negative can be drastically different.\n",
        "If our spam detection algorithm was deployed on your phone, what is the impact\n",
        "of a false positive on the phone's user? What is the impact of a false negative?"
      ]
    },
    {
      "cell_type": "code",
      "metadata": {
        "collapsed": true,
        "id": "hFLUOJTGa91Q"
      },
      "source": [
        "'''\r\n",
        "The impact of a false positive is that the user's phone could falsely detect spam information as \r\n",
        "non-spam. This will annoy the user as these spam messages will still go through and go to the user.\r\n",
        "\r\n",
        "The impact of false negatives is that the user's phone could falsely detect non-spam information as\r\n",
        "spam and prevent the user from recieving this information. This could be problematic because potentially\r\n",
        "important information could be blocked from the user and could frustrate the user.\r\n",
        "'''"
      ],
      "execution_count": null,
      "outputs": []
    },
    {
      "cell_type": "markdown",
      "metadata": {
        "id": "Gznefulsa91V"
      },
      "source": [
        "## Part 4. Evaluation [11 pt]\n",
        "\n",
        "### Part (a) [1 pt]\n",
        "\n",
        "Report the final test accuracy of your model."
      ]
    },
    {
      "cell_type": "code",
      "metadata": {
        "collapsed": true,
        "id": "D5L5D-A1a91W",
        "colab": {
          "base_uri": "https://localhost:8080/"
        },
        "outputId": "061c15cc-3928-4a59-8e8f-14dfc55851e0"
      },
      "source": [
        "finalTestAccuracy = get_accuracy(myThirdModel, test, 64)\r\n",
        "print(\"The final test accuracy is:\", finalTestAccuracy)"
      ],
      "execution_count": 51,
      "outputs": [
        {
          "output_type": "stream",
          "text": [
            "The final test accuracy is: 0.9703770197486535\n"
          ],
          "name": "stdout"
        }
      ]
    },
    {
      "cell_type": "markdown",
      "metadata": {
        "id": "6Hjmd8rca91Y"
      },
      "source": [
        "### Part (b) [3 pt]\n",
        "\n",
        "Report the false positive rate and false negative rate of your model across the test set."
      ]
    },
    {
      "cell_type": "code",
      "metadata": {
        "collapsed": true,
        "id": "GFiAKztJa91Z",
        "colab": {
          "base_uri": "https://localhost:8080/"
        },
        "outputId": "b41c73b4-5ac1-4a52-fb14-c174b44939a1"
      },
      "source": [
        "# Create a Dataset of only spam testing examples\r\n",
        "test_spam = torchtext.legacy.data.Dataset(\r\n",
        "    [e for e in test.examples if e.label == 1],\r\n",
        "    test.fields)\r\n",
        "# Create a Dataset of only non-spam testing examples\r\n",
        "test_nospam = torchtext.legacy.data.Dataset(\r\n",
        "    [e for e in test.examples if e.label == 0],\r\n",
        "    test.fields)\r\n",
        "\r\n",
        "#Final Model = myThirdModel\r\n",
        "#hidden_size = 100, num_classes = 2\r\n",
        "#batch_size = 64, num_epochs = 20, learning_rate = 1e-4\r\n",
        "falsePositiveRate = 1 - get_accuracy(myThirdModel, test_nospam, 64)\r\n",
        "falseNegativeRate = 1 - get_accuracy(myThirdModel, test_spam, 64)\r\n",
        "\r\n",
        "print(\"The Final Model's false positive rate across the testing set is:\", falsePositiveRate*100, \"%\")\r\n",
        "print(\"The Final Model's false negative rate across the testing set is:\", falseNegativeRate*100, \"%\")"
      ],
      "execution_count": 54,
      "outputs": [
        {
          "output_type": "stream",
          "text": [
            "The Final Model's false positive rate across the testing set is: 2.1761658031088094 %\n",
            "The Final Model's false negative rate across the testing set is: 8.053691275167784 %\n"
          ],
          "name": "stdout"
        }
      ]
    },
    {
      "cell_type": "markdown",
      "metadata": {
        "id": "0jGHtQFpa91b"
      },
      "source": [
        "### Part (c) [3 pt]\n",
        "\n",
        "What is your model's prediction of the **probability** that\n",
        "the SMS message \"machine learning is sooo cool!\" is spam?\n",
        "\n",
        "Hint: To begin, use `text_field.vocab.stoi` to look up the index\n",
        "of each character in the vocabulary."
      ]
    },
    {
      "cell_type": "code",
      "metadata": {
        "collapsed": true,
        "id": "h_2nSJq8a91b",
        "colab": {
          "base_uri": "https://localhost:8080/"
        },
        "outputId": "6cc09ff4-4d25-4adf-9242-e98c34207f1c"
      },
      "source": [
        "msg = \"machine learning is sooo cool!\"\r\n",
        "\r\n",
        "msgIndex = []\r\n",
        "\r\n",
        "for i in msg:\r\n",
        "  idx = text_field.vocab.stoi[i]\r\n",
        "  msgIndex.append(idx)\r\n",
        "\r\n",
        "msgTensor = torch.tensor(msgIndex).unsqueeze(0)\r\n",
        "prediction = myThirdModel(msgTensor)\r\n",
        "prediction = F.softmax(prediction, dim=1)\r\n",
        "\r\n",
        "print(prediction)"
      ],
      "execution_count": 56,
      "outputs": [
        {
          "output_type": "stream",
          "text": [
            "tensor([[0.9406, 0.0594]], grad_fn=<SoftmaxBackward>)\n"
          ],
          "name": "stdout"
        }
      ]
    },
    {
      "cell_type": "markdown",
      "metadata": {
        "id": "vFdCBr1shoim"
      },
      "source": [
        "This means that my best model predicts that the probability that this message is spam is: 5.94%. This means that my model believes that this is not a spam message."
      ]
    },
    {
      "cell_type": "markdown",
      "metadata": {
        "id": "QD1zgYJpa91f"
      },
      "source": [
        "### Part (d) [4 pt]\n",
        "\n",
        "Do you think detecting spam is an easy or difficult task?\n",
        "\n",
        "Since machine learning models are expensive to train and deploy, it is very\n",
        "important to compare our models against baseline models: a simple\n",
        "model that is easy to build and inexpensive to run that we can compare our\n",
        "recurrent neural network model against.\n",
        "\n",
        "Explain how you might build a simple baseline model. This baseline model\n",
        "can be a simple neural network (with very few weights), a hand-written algorithm,\n",
        "or any other strategy that is easy to build and test.\n",
        "\n",
        "**Do not actually build a baseline model. Instead, provide instructions on\n",
        "how to build it.**"
      ]
    },
    {
      "cell_type": "code",
      "metadata": {
        "collapsed": true,
        "id": "LTndp-IOa91g"
      },
      "source": [
        "'''\r\n",
        "I think that detecting spam is not an easy task. This is because spam can come in many shapes and sizes.\r\n",
        "Even though I was able to detect spam with a testing accuracy of 97%, there are still a lot of false\r\n",
        "positives and false negatives. Even though it may seem that this percentage isn't very, it may be\r\n",
        "crucial to achieve lower chances for error especially for more important work. Additionally, spam \r\n",
        "messages are always evolving and it may be difficult for my model to detect new variances.\r\n",
        "\r\n",
        "My baseline model would be extremely simple and make predictions of whether the message is spam or not\r\n",
        "based on the data available. For example, in our data the number of spam messages are: 747 and the number \r\n",
        "of non-spam messages are: 4827. So my model would always predict that the message is not spam to achieve\r\n",
        "an accuracy of 86.6%. I would also hard-code some common most popular spam words in my algorithm \r\n",
        "and check whether the message has any of those words and immediately mark those messages as spam. \r\n",
        "With this combination, I would achieve an accuracy in the high 80s which is great for a baseline\r\n",
        "model. Then I can compare my model with this model. My model should perform better than model,\r\n",
        "because this model is completely guessing and there is not much \"machine learning\" going on. \r\n",
        "If my model performs worse than this model, I would know that my model is not the best. This baseline\r\n",
        "model is a good standard of comparison for any machine learning model.\r\n",
        "'''\r\n"
      ],
      "execution_count": null,
      "outputs": []
    },
    {
      "cell_type": "code",
      "metadata": {
        "id": "CGp3T9Gdl-5R"
      },
      "source": [
        "%%shell\r\n",
        "jupyter nbconvert --to html /content/Lab_5_Spam_Detection.ipynb"
      ],
      "execution_count": null,
      "outputs": []
    }
  ]
}