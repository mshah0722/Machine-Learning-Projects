{
  "nbformat": 4,
  "nbformat_minor": 0,
  "metadata": {
    "colab": {
      "name": "Lab_3_Gesture_Recognition.ipynb",
      "provenance": [],
      "collapsed_sections": []
    },
    "kernelspec": {
      "display_name": "Python 3",
      "language": "python",
      "name": "python3"
    },
    "language_info": {
      "codemirror_mode": {
        "name": "ipython",
        "version": 3
      },
      "file_extension": ".py",
      "mimetype": "text/x-python",
      "name": "python",
      "nbconvert_exporter": "python",
      "pygments_lexer": "ipython3",
      "version": "3.6.3"
    },
    "accelerator": "GPU"
  },
  "cells": [
    {
      "cell_type": "markdown",
      "metadata": {
        "id": "X6WDvajSqIDs"
      },
      "source": [
        "# Lab 3: Gesture Recognition using Convolutional Neural Networks\n",
        "\n",
        "**Deadlines**: Feb 8, 5:00PM\n",
        "\n",
        "**Late Penalty**: There is a penalty-free grace period of one hour past the deadline. Any work that is submitted between 1 hour and 24 hours past the deadline will receive a 20% grade deduction. No other late work is accepted. Quercus submission time will be used, not your local computer time. You can submit your labs as many times as you want before the deadline, so please submit often and early.\n",
        "\n",
        "**Grading TAs**: \n",
        "Geoff Donoghue  \n",
        "\n",
        "This lab is based on an assignment developed by Prof. Lisa Zhang.\n",
        "\n",
        "This lab will be completed in two parts. In Part A you will you will gain experience gathering your own data set (specifically images of hand gestures), and understand the challenges involved in the data cleaning process. In Part B you will train a convolutional neural network to make classifications on different hand gestures. By the end of the lab, you should be able to:\n",
        "\n",
        "1. Generate and preprocess your own data\n",
        "2. Load and split data for training, validation and testing\n",
        "3. Train a Convolutional Neural Network\n",
        "4. Apply transfer learning to improve your model\n",
        "\n",
        "Note that for this lab we will not be providing you with any starter code. You should be able to take the code used in previous labs, tutorials and lectures and modify it accordingly to complete the tasks outlined below.\n",
        "\n",
        "### What to submit\n",
        "\n",
        "**Submission for Part A:**  \n",
        "Submit a zip file containing your images. Three images each of American Sign Language gestures for letters A - I (total of 27 images). You will be required to clean the images before submitting them. Details are provided under Part A of the handout.\n",
        "\n",
        "Individual image file names should follow the convention of student-number_Alphabet_file-number.jpg\n",
        "(e.g. 100343434_A_1.jpg).\n",
        "\n",
        "\n",
        "**Submission for Part B:**  \n",
        "Submit a PDF file containing all your code, outputs, and write-up\n",
        "from parts 1-5. You can produce a PDF of your Google Colab file by\n",
        "going to **File > Print** and then save as PDF. The Colab instructions\n",
        "has more information. Make sure to review the PDF submission to ensure that your answers are easy to read. Make sure that your text is not cut off at the margins. \n",
        "\n",
        "**Do not submit any other files produced by your code.**\n",
        "\n",
        "Include a link to your colab file in your submission.\n",
        "\n",
        "Please use Google Colab to complete this assignment. If you want to use Jupyter Notebook, please complete the assignment and upload your Jupyter Notebook file to Google Colab for submission. "
      ]
    },
    {
      "cell_type": "markdown",
      "metadata": {
        "id": "LfiFE_WOqIDu"
      },
      "source": [
        "## Colab Link\n",
        "\n",
        "Include a link to your colab file here\n",
        "\n",
        "Colab Link: https://drive.google.com/file/d/1YkKH9PmksDLZKpsMJgsBnyll1fHwgjVw/view?usp=sharing"
      ]
    },
    {
      "cell_type": "markdown",
      "metadata": {
        "id": "kvTXpH_kqIDy"
      },
      "source": [
        "## Part A. Data Collection [10 pt]\n",
        "\n",
        "So far, we have worked with data sets that have been collected, cleaned, and curated by machine learning\n",
        "researchers and practitioners. Datasets like MNIST and CIFAR are often used as toy examples, both by\n",
        "students and by researchers testing new machine learning models.\n",
        "\n",
        "In the real world, getting a clean data set is never that easy. More than half the work in applying machine\n",
        "learning is finding, gathering, cleaning, and formatting your data set.\n",
        "\n",
        "The purpose of this lab is to help you gain experience gathering your own data set, and understand the\n",
        "challenges involved in the data cleaning process.\n",
        "\n",
        "### American Sign Language\n",
        "\n",
        "American Sign Language (ASL) is a complete, complex language that employs signs made by moving the\n",
        "hands combined with facial expressions and postures of the body. It is the primary language of many\n",
        "North Americans who are deaf and is one of several communication options used by people who are deaf or\n",
        "hard-of-hearing.\n",
        "\n",
        "The hand gestures representing English alphabet are shown below. This lab focuses on classifying a subset\n",
        "of these hand gesture images using convolutional neural networks. Specifically, given an image of a hand\n",
        "showing one of the letters A-I, we want to detect which letter is being represented.\n",
        "\n",
        "![alt text](https://www.disabled-world.com/pics/1/asl-alphabet.jpg)\n",
        "\n",
        "\n",
        "### Generating Data\n",
        "We will produce the images required for this lab by ourselves. Each student will collect, clean and submit\n",
        "three images each of Americal Sign Language gestures for letters A - I (total of 27 images)\n",
        "Steps involved in data collection\n",
        "\n",
        "1. Familiarize yourself with American Sign Language gestures for letters from A - I (9 letters).\n",
        "2. Take three pictures at slightly different orientation for each letter gesture using your\n",
        "mobile phone.\n",
        " - Ensure adequate lighting while you are capturing the images.\n",
        " - Use a white wall as your background.\n",
        " - Use your right hand to create gestures (for consistency).\n",
        " - Keep your right hand fairly apart from your body and any other obstructions.\n",
        " - Avoid having shadows on parts of your hand.\n",
        "3. Transfer the images to your laptop for cleaning.\n",
        "\n",
        "### Cleaning Data\n",
        "To simplify the machine learning the task, we will standardize the training images. We will make sure that\n",
        "all our images are of the same size (224 x 224 pixels RGB), and have the hand in the center of the cropped\n",
        "regions.\n",
        "\n",
        "You may use the following applications to crop and resize your images:\n",
        "\n",
        "**Mac**\n",
        "- Use Preview:\n",
        "– Holding down CMD + Shift will keep a square aspect ratio while selecting the hand area.\n",
        "– Resize to 224x224 pixels.\n",
        "\n",
        "**Windows 10**\n",
        "- Use Photos app to edit and crop the image and keep the aspect ratio a square.\n",
        "- Use Paint to resize the image to the final image size of 224x224 pixels.\n",
        "\n",
        "**Linux**\n",
        "- You can use GIMP, imagemagick, or other tools of your choosing.\n",
        "You may also use online tools such as http://picresize.com\n",
        "All the above steps are illustrative only. You need not follow these steps but following these will ensure that\n",
        "you produce a good quality dataset. You will be judged based on the quality of the images alone.\n",
        "Please do not edit your photos in any other way. You should not need to change the aspect ratio of your\n",
        "image. You also should not digitally remove the background or shadows—instead, take photos with a white\n",
        "background and minimal shadows.\n",
        "\n",
        "### Accepted Images\n",
        "Images will be accepted and graded based on the criteria below\n",
        "1. The final image should be size 224x224 pixels (RGB).\n",
        "2. The file format should be a .jpg file.\n",
        "3. The hand should be approximately centered on the frame.\n",
        "4. The hand should not be obscured or cut off.\n",
        "5. The photos follows the ASL gestures posted earlier.\n",
        "6. The photos were not edited in any other way (e.g. no electronic removal of shadows or background).\n",
        "\n",
        "### Submission\n",
        "Submit a zip file containing your images. There should be a total of 27 images (3 for each category)\n",
        "1. Individual image file names should follow the convention of student-number_Alphabet_file-number.jpg\n",
        "(e.g. 100343434_A_1.jpg)\n",
        "2. Zip all the images together and name it with the following convention: last-name_student-number.zip\n",
        "(e.g. last-name_100343434.zip).\n",
        "3. Submit the zipped folder.\n",
        "We will be anonymizing and combining the images that everyone submits. We will announce when the\n",
        "combined data set will be available for download.\n",
        "\n",
        "![alt text](https://github.com/UTNeural/APS360/blob/master/Gesture%20Images.PNG?raw=true)"
      ]
    },
    {
      "cell_type": "markdown",
      "metadata": {
        "id": "bJxMgWGNqID2"
      },
      "source": [
        "## Part B. Building a CNN [50 pt]\n",
        "\n",
        "For this lab, we are not going to give you any starter code. You will be writing a convolutional neural network\n",
        "from scratch. You are welcome to use any code from previous labs, lectures and tutorials. You should also\n",
        "write your own code.\n",
        "\n",
        "You may use the PyTorch documentation freely. You might also find online tutorials helpful. However, all\n",
        "code that you submit must be your own.\n",
        "\n",
        "Make sure that your code is vectorized, and does not contain obvious inefficiencies (for example, unecessary\n",
        "for loops, or unnecessary calls to unsqueeze()). Ensure enough comments are included in the code so that\n",
        "your TA can understand what you are doing. It is your responsibility to show that you understand what you\n",
        "write.\n",
        "\n",
        "**This is much more challenging and time-consuming than the previous labs.** Make sure that you\n",
        "give yourself plenty of time by starting early."
      ]
    },
    {
      "cell_type": "markdown",
      "metadata": {
        "id": "MiDuQaAh56sT"
      },
      "source": [
        "### 1. Data Loading and Splitting [5 pt]\n",
        "\n",
        "Download the anonymized data provided on Quercus. To allow you to get a heads start on this project we will provide you with sample data from previous years. Split the data into training, validation, and test sets.\n",
        "\n",
        "Note: Data splitting is not as trivial in this lab. We want our test set to closely resemble the setting in which\n",
        "our model will be used. In particular, our test set should contain hands that are never seen in training!\n",
        "\n",
        "Explain how you split the data, either by describing what you did, or by showing the code that you used.\n",
        "Justify your choice of splitting strategy. How many training, validation, and test images do you have?\n",
        "\n",
        "For loading the data, you can use plt.imread as in Lab 1, or any other method that you choose. You may find\n",
        "torchvision.datasets.ImageFolder helpful. (see https://pytorch.org/docs/stable/torchvision/datasets.html?highlight=image%20folder#torchvision.datasets.ImageFolder\n",
        ") "
      ]
    },
    {
      "cell_type": "code",
      "metadata": {
        "collapsed": true,
        "id": "WBrH5kBqRLa6"
      },
      "source": [
        "# First we need to mount Google Drive in order to load the data\r\n",
        "from google.colab import drive\r\n",
        "drive.mount('/content/drive')\r\n",
        "\r\n",
        "#Unzip the file with all the images\r\n",
        "!unzip '/content/drive/My Drive/APS360 Tuturials/Tutorial3/Lab_3_Gesture_Dataset' -d '/root/datasets'"
      ],
      "execution_count": null,
      "outputs": []
    },
    {
      "cell_type": "code",
      "metadata": {
        "id": "qwF7cZLZ9qIQ"
      },
      "source": [
        "#Import all the important libraries\r\n",
        "import os\r\n",
        "import torch\r\n",
        "import torch.nn as nn\r\n",
        "import torch.optim as optim\r\n",
        "import torch.nn.functional as F\r\n",
        "import torchvision\r\n",
        "import numpy as np\r\n",
        "import matplotlib.pyplot as plt\r\n",
        "\r\n",
        "from torch.utils.data import TensorDataset\r\n",
        "from torch.utils.data.sampler import SubsetRandomSampler\r\n",
        "from torchvision import datasets, models, transforms\r\n",
        "from math import floor"
      ],
      "execution_count": 19,
      "outputs": []
    },
    {
      "cell_type": "code",
      "metadata": {
        "colab": {
          "base_uri": "https://localhost:8080/"
        },
        "id": "kT9-u7cH_Ye_",
        "outputId": "570d9854-5d76-42a5-8ccd-417cc7d4fe20"
      },
      "source": [
        "#Using data transform, make all the images the correct size of 224 x 224\r\n",
        "transformData = transforms.Compose( [transforms.CenterCrop(224), transforms.Resize((224, 224)), transforms.ToTensor()])\r\n",
        "\r\n",
        "#Defining a directory for the data\r\n",
        "dataDirectory = '/root/datasets/root/datasets/Lab_3b_Gesture_Dataset'\r\n",
        "\r\n",
        "#Splitting the data into separate folders based on testing, validation and training set\r\n",
        "#This part was completed manually\r\n",
        "#Testing data contains 27 images from each letter\r\n",
        "#Validation data contains 45 images from each letter\r\n",
        "#Training data contains all of the rest of the images \r\n",
        "#I chose this splitting strategy because I wanted to leave most of the data for the training set\r\n",
        "#Next I wanted sufficient data in the validation set\r\n",
        "#Lastly I wanted sufficient new and never before seen hands in the testing set\r\n",
        "\r\n",
        "#Below are the three data set directories\r\n",
        "trainingData = datasets.ImageFolder(os.path.join(dataDirectory, 'Training/'), transform = transformData)\r\n",
        "validationData = datasets.ImageFolder(os.path.join(dataDirectory, 'Validation/'), transform = transformData)\r\n",
        "testingData = datasets.ImageFolder(os.path.join(dataDirectory, 'Testing/'), transform = transformData)\r\n",
        "\r\n",
        "#Array contains all the letters subfolders\r\n",
        "letters = ['A', 'B', 'C', 'D', 'E', 'F', 'G', 'H', 'I']\r\n",
        "\r\n",
        "print('The Training dataset contains: ', len(trainingData))\r\n",
        "print('The Validation dataset contains: ', len(validationData))\r\n",
        "print('The Testing dataset contains: ', len(testingData))"
      ],
      "execution_count": 4,
      "outputs": [
        {
          "output_type": "stream",
          "text": [
            "The Training dataset contains:  1783\n",
            "The Validation dataset contains:  405\n",
            "The Testing dataset contains:  243\n"
          ],
          "name": "stdout"
        }
      ]
    },
    {
      "cell_type": "markdown",
      "metadata": {
        "id": "5VWX4DGY5gQE"
      },
      "source": [
        "### 2. Model Building and Sanity Checking [15 pt]\n",
        "\n",
        "### Part (a) Convolutional Network - 5 pt\n",
        "\n",
        "Build a convolutional neural network model that takes the (224x224 RGB) image as input, and predicts the gesture\n",
        "letter. Your model should be a subclass of nn.Module. Explain your choice of neural network architecture: how\n",
        "many layers did you choose? What types of layers did you use? Were they fully-connected or convolutional?\n",
        "What about other decisions like pooling layers, activation functions, number of channels / hidden units?"
      ]
    },
    {
      "cell_type": "code",
      "metadata": {
        "collapsed": true,
        "id": "2dtx1z5951fS"
      },
      "source": [
        "#In my CNN model i plan on using 7 layers in total\r\n",
        "#First, I will be using 2 Convolutional layers of kernel size 5\r\n",
        "#Second, I have 2 Max Pooling layers with shape 2x2\r\n",
        "#Next, I have 2 fully connected layers\r\n",
        "#Lastly, I have an output layer\r\n",
        "\r\n",
        "class CNN_Model(nn.Module):\r\n",
        "  def __init__(self):\r\n",
        "    super(CNN_Model, self).__init__()\r\n",
        "    #Input channels = 3, Output channels = 10, Kernel size = 5\r\n",
        "    self.conv1 = nn.Conv2d(3, 10, 5)\r\n",
        "    #Input channels = 10, Output channels = 5, Kernel size = 5\r\n",
        "    self.conv2 = nn.Conv2d(10, 5, 5)\r\n",
        "    #Kernel size = 2, Stride = 2\r\n",
        "    self.pool = nn.MaxPool2d(2, 2)\r\n",
        "    #Input features = 14045, Output features = 35\r\n",
        "    self.fc1 = nn.Linear(5*53*53, 35)\r\n",
        "    #Input features = 35, Output features = 9\r\n",
        "    self.fc2 = nn.Linear(35, 9)\r\n",
        "  \r\n",
        "  def forward(self, x):\r\n",
        "    #ReLU Activation layer\r\n",
        "    x = self.pool(F.relu(self.conv1(x)))\r\n",
        "    #ReLU Activation layer\r\n",
        "    x = self.pool(F.relu(self.conv2(x)))\r\n",
        "    #Flatten the tensor\r\n",
        "    x = x.view(-1, 5*53*53)\r\n",
        "    #ReLU Activation layer\r\n",
        "    x = F.relu(self.fc1(x))\r\n",
        "    x = self.fc2(x)\r\n",
        "    #Return the output layer\r\n",
        "    return x\r\n",
        "\r\n",
        "'''\r\n",
        "Further explanation of design choices:\r\n",
        "Initially, I have chosen the output of the Convolutional layer to be 10 and 5 so many different\r\n",
        "features can be looked at and examined from the image.\r\n",
        "I have 2 pooling layers to consolidate important information after the convolutional layer\r\n",
        "I have chosen ReLU as my activation function\r\n",
        "In the end I have 2 large fully connected layers to find relationships and patterns in the \r\n",
        "consolidated information and hopefully help in classifying the images\r\n",
        "'''"
      ],
      "execution_count": null,
      "outputs": []
    },
    {
      "cell_type": "markdown",
      "metadata": {
        "id": "XeGvelvb515e"
      },
      "source": [
        "### Part (b) Training Code - 5 pt\n",
        "\n",
        "Write code that trains your neural network given some training data. Your training code should make it easy\n",
        "to tweak the usual hyperparameters, like batch size, learning rate, and the model object itself. Make sure\n",
        "that you are checkpointing your models from time to time (the frequency is up to you). Explain your choice\n",
        "of loss function and optimizer."
      ]
    },
    {
      "cell_type": "code",
      "metadata": {
        "collapsed": true,
        "id": "17YTQv4l54W1"
      },
      "source": [
        "#Get the accuracy of the model\r\n",
        "def get_accuracy(model, dataLoader):\r\n",
        "  correct = 0\r\n",
        "  total = 0\r\n",
        "\r\n",
        "  for images, labels in iter(dataLoader):\r\n",
        "    #Allow GPUs to be used\r\n",
        "    if torch.cuda.is_available():\r\n",
        "      images = images.cuda()\r\n",
        "      labels = labels.cuda()\r\n",
        "      model.cuda()\r\n",
        "\r\n",
        "    output = model(images)\r\n",
        "\r\n",
        "    #Choose the index with the highest probability\r\n",
        "    prediction = output.max(1, keepdim = True)[1]\r\n",
        "    correct += prediction.eq(labels.view_as(prediction)).sum().item()\r\n",
        "    total += images.shape[0]\r\n",
        "\r\n",
        "  #Get the final accuracy of the model from the images that were tested\r\n",
        "  accuracy = correct/total\r\n",
        "  return accuracy\r\n"
      ],
      "execution_count": 6,
      "outputs": []
    },
    {
      "cell_type": "code",
      "metadata": {
        "id": "BNPB0iICZvX5",
        "colab": {
          "base_uri": "https://localhost:8080/",
          "height": 52
        },
        "outputId": "9db86e28-32fd-4a7a-c215-830baa93b692"
      },
      "source": [
        "#Train the neural network given training data\r\n",
        "def train(model, trainingData, validationData, batch_size = 27, epochs = 1, learning_rate = 0.01):\r\n",
        "  train_loader = torch.utils.data.DataLoader(trainingData, batch_size=batch_size, shuffle=True)\r\n",
        "  validation_loader = torch.utils.data.DataLoader(validationData, batch_size=batch_size, shuffle=True)\r\n",
        "\r\n",
        "  torch.manual_seed(50) \r\n",
        "\r\n",
        "  criterion = nn.CrossEntropyLoss()\r\n",
        "  optimizer = optim.SGD(model.parameters(), lr=learning_rate, momentum=0.9)\r\n",
        "\r\n",
        "  iterations = 0\r\n",
        "  trainingAccuracy = []\r\n",
        "  validationAccuracy = []\r\n",
        "  losses = []\r\n",
        "\r\n",
        "  for epoch in range(epochs):\r\n",
        "    for images, labels in iter(train_loader):\r\n",
        "      if torch.cuda.is_available():\r\n",
        "        images = images.cuda()\r\n",
        "        labels = labels.cuda()\r\n",
        "        model.cuda()\r\n",
        "\r\n",
        "      #Forward Pass\r\n",
        "      output = model(images)\r\n",
        "      #Calculating the loss\r\n",
        "      loss = criterion(output, labels)\r\n",
        "      #Backwards Pass\r\n",
        "      loss.backward()\r\n",
        "      #Updating the parameters\r\n",
        "      optimizer.step()\r\n",
        "      #Cleaning up\r\n",
        "      optimizer.zero_grad()\r\n",
        "\r\n",
        "      iterations += 1\r\n",
        "\r\n",
        "    trainingAccuracy.append(get_accuracy(model, train_loader))\r\n",
        "    validationAccuracy.append(get_accuracy(model, validation_loader))\r\n",
        "    losses.append(float(loss)/batch_size)\r\n",
        "    print('Epoch: ', epoch, 'Training Accuracy: ', trainingAccuracy[-1], 'Validation Accuracy: ', validationAccuracy[-1])\r\n",
        "  \r\n",
        "  #Plot the graphs\r\n",
        "\r\n",
        "  #Accuracy Plot\r\n",
        "  plt.title(\"Training Curve\")\r\n",
        "  plt.plot(trainingAccuracy, label='Training')\r\n",
        "  plt.plot(validationAccuracy, label='Validation')\r\n",
        "  plt.xlabel('Iterations')\r\n",
        "  plt.ylabel('Accuracy')\r\n",
        "  plt.show()\r\n",
        "\r\n",
        "  #Loss Plot\r\n",
        "  plt.title('Training Curve')\r\n",
        "  plt.plot(losses, label='Training')\r\n",
        "  plt.xlabel('Iterations')\r\n",
        "  plt.ylabel('Loss')\r\n",
        "  plt.show()\r\n",
        "\r\n",
        "'''\r\n",
        "Explaining my choices for the loss function and the optimizer\r\n",
        "Loss Function:\r\n",
        "Here I used Cross Entropy loss because this is a better choice for classification problems\r\n",
        "Optimizer:\r\n",
        "Here I used Stochastic Gradient Descent (SGD) because it is efficient, and faster when trying to fit linear\r\n",
        "classifiers.\r\n",
        "'''"
      ],
      "execution_count": 55,
      "outputs": [
        {
          "output_type": "execute_result",
          "data": {
            "application/vnd.google.colaboratory.intrinsic+json": {
              "type": "string"
            },
            "text/plain": [
              "'\\nExplaining my choices for the loss function and the optimizer\\nLoss Function:\\nHere I used Cross Entropy loss because this is a better choice for classification problems\\nOptimizer:\\nHere I used Stochastic Gradient Descent (SGD) because it is efficient, and faster when trying to fit linear\\nclassifiers.\\n'"
            ]
          },
          "metadata": {
            "tags": []
          },
          "execution_count": 55
        }
      ]
    },
    {
      "cell_type": "markdown",
      "metadata": {
        "id": "bk1RNgAj54rZ"
      },
      "source": [
        "### Part (c) “Overfit” to a Small Dataset - 5 pt\n",
        "\n",
        "One way to sanity check our neural network model and training code is to check whether the model is capable\n",
        "of “overfitting” or “memorizing” a small dataset. A properly constructed CNN with correct training code\n",
        "should be able to memorize the answers to a small number of images quickly.\n",
        "\n",
        "Construct a small dataset (e.g. just the images that you have collected). Then show that your model and\n",
        "training code is capable of memorizing the labels of this small data set.\n",
        "\n",
        "With a large batch size (e.g. the entire small dataset) and learning rate that is not too high, You should be\n",
        "able to obtain a 100% training accuracy on that small dataset relatively quickly (within 200 iterations)."
      ]
    },
    {
      "cell_type": "code",
      "metadata": {
        "collapsed": true,
        "id": "lXYRBhQO6d3u"
      },
      "source": [
        "#Unzip the file with all my hand images\r\n",
        "!unzip '/content/drive/My Drive/APS360 Tuturials/Tutorial3/myImages' -d '/root/datasets'"
      ],
      "execution_count": null,
      "outputs": []
    },
    {
      "cell_type": "code",
      "metadata": {
        "id": "pYrQEwWtK-m9",
        "colab": {
          "base_uri": "https://localhost:8080/",
          "height": 1000
        },
        "outputId": "bf11a62d-f799-4407-b6ac-71e3703b7d8c"
      },
      "source": [
        "dataDirectory2 = '/root/datasets/myImages'\r\n",
        "\r\n",
        "myData = datasets.ImageFolder(os.path.join(dataDirectory2), transform=transformData)\r\n",
        "myDataLoader = torch.utils.data.DataLoader(myData, batch_size=27, shuffle=True)\r\n",
        "\r\n",
        "torch.manual_seed(60)\r\n",
        "\r\n",
        "myModel = CNN_Model()\r\n",
        "\r\n",
        "criterion = nn.CrossEntropyLoss()\r\n",
        "optimizer = optim.SGD(myModel.parameters(), lr=0.001, momentum=0.9)\r\n",
        "\r\n",
        "iterations = 0\r\n",
        "trainingAccuracy = []\r\n",
        "validationAccuracy = []\r\n",
        "losses = []\r\n",
        "\r\n",
        "#Doing 200 iterations\r\n",
        "for epoch in range(200):\r\n",
        "  for images, labels in iter(myDataLoader):\r\n",
        "    if torch.cuda.is_available():\r\n",
        "      images = images.cuda()\r\n",
        "      labels = labels.cuda()\r\n",
        "      myModel.cuda()\r\n",
        "\r\n",
        "    #Forward Pass\r\n",
        "    output = myModel(images)\r\n",
        "    #Calculating the loss\r\n",
        "    #print(output)\r\n",
        "    #print(labels)\r\n",
        "    loss = criterion(output, labels)\r\n",
        "    #Backwards Pass\r\n",
        "    loss.backward()\r\n",
        "    #Updating the parameters\r\n",
        "    optimizer.step()\r\n",
        "    #Cleaning up\r\n",
        "    optimizer.zero_grad()\r\n",
        "\r\n",
        "    iterations += 1\r\n",
        "\r\n",
        "  trainingAccuracy.append(get_accuracy(myModel, myDataLoader))\r\n",
        "  losses.append(float(loss)/27)\r\n",
        "  print('Epoch: ', epoch, 'Training Accuracy: ', trainingAccuracy[-1])\r\n",
        "\r\n",
        "#Plot the graphs\r\n",
        "\r\n",
        "#Accuracy Plot\r\n",
        "plt.title(\"Training Curve\")\r\n",
        "plt.plot(trainingAccuracy, label='Training')\r\n",
        "plt.xlabel('Iterations')\r\n",
        "plt.ylabel('Accuracy')\r\n",
        "plt.show()\r\n",
        "\r\n",
        "#Loss Plot\r\n",
        "plt.title('Training Curve')\r\n",
        "plt.plot(losses, label='Training')\r\n",
        "plt.xlabel('Iterations')\r\n",
        "plt.ylabel('Loss')\r\n",
        "plt.show()"
      ],
      "execution_count": 25,
      "outputs": [
        {
          "output_type": "stream",
          "text": [
            "Epoch:  0 Training Accuracy:  0.1111111111111111\n",
            "Epoch:  1 Training Accuracy:  0.1111111111111111\n",
            "Epoch:  2 Training Accuracy:  0.1111111111111111\n",
            "Epoch:  3 Training Accuracy:  0.1111111111111111\n",
            "Epoch:  4 Training Accuracy:  0.14814814814814814\n",
            "Epoch:  5 Training Accuracy:  0.14814814814814814\n",
            "Epoch:  6 Training Accuracy:  0.2222222222222222\n",
            "Epoch:  7 Training Accuracy:  0.2222222222222222\n",
            "Epoch:  8 Training Accuracy:  0.2222222222222222\n",
            "Epoch:  9 Training Accuracy:  0.2222222222222222\n",
            "Epoch:  10 Training Accuracy:  0.2222222222222222\n",
            "Epoch:  11 Training Accuracy:  0.2222222222222222\n",
            "Epoch:  12 Training Accuracy:  0.2222222222222222\n",
            "Epoch:  13 Training Accuracy:  0.18518518518518517\n",
            "Epoch:  14 Training Accuracy:  0.14814814814814814\n",
            "Epoch:  15 Training Accuracy:  0.14814814814814814\n",
            "Epoch:  16 Training Accuracy:  0.14814814814814814\n",
            "Epoch:  17 Training Accuracy:  0.14814814814814814\n",
            "Epoch:  18 Training Accuracy:  0.1111111111111111\n",
            "Epoch:  19 Training Accuracy:  0.1111111111111111\n",
            "Epoch:  20 Training Accuracy:  0.1111111111111111\n",
            "Epoch:  21 Training Accuracy:  0.1111111111111111\n",
            "Epoch:  22 Training Accuracy:  0.1111111111111111\n",
            "Epoch:  23 Training Accuracy:  0.1111111111111111\n",
            "Epoch:  24 Training Accuracy:  0.1111111111111111\n",
            "Epoch:  25 Training Accuracy:  0.1111111111111111\n",
            "Epoch:  26 Training Accuracy:  0.1111111111111111\n",
            "Epoch:  27 Training Accuracy:  0.1111111111111111\n",
            "Epoch:  28 Training Accuracy:  0.1111111111111111\n",
            "Epoch:  29 Training Accuracy:  0.1111111111111111\n",
            "Epoch:  30 Training Accuracy:  0.1111111111111111\n",
            "Epoch:  31 Training Accuracy:  0.1111111111111111\n",
            "Epoch:  32 Training Accuracy:  0.1111111111111111\n",
            "Epoch:  33 Training Accuracy:  0.1111111111111111\n",
            "Epoch:  34 Training Accuracy:  0.1111111111111111\n",
            "Epoch:  35 Training Accuracy:  0.1111111111111111\n",
            "Epoch:  36 Training Accuracy:  0.1111111111111111\n",
            "Epoch:  37 Training Accuracy:  0.1111111111111111\n",
            "Epoch:  38 Training Accuracy:  0.1111111111111111\n",
            "Epoch:  39 Training Accuracy:  0.1111111111111111\n",
            "Epoch:  40 Training Accuracy:  0.1111111111111111\n",
            "Epoch:  41 Training Accuracy:  0.1111111111111111\n",
            "Epoch:  42 Training Accuracy:  0.1111111111111111\n",
            "Epoch:  43 Training Accuracy:  0.1111111111111111\n",
            "Epoch:  44 Training Accuracy:  0.1111111111111111\n",
            "Epoch:  45 Training Accuracy:  0.1111111111111111\n",
            "Epoch:  46 Training Accuracy:  0.1111111111111111\n",
            "Epoch:  47 Training Accuracy:  0.1111111111111111\n",
            "Epoch:  48 Training Accuracy:  0.1111111111111111\n",
            "Epoch:  49 Training Accuracy:  0.1111111111111111\n",
            "Epoch:  50 Training Accuracy:  0.1111111111111111\n",
            "Epoch:  51 Training Accuracy:  0.1111111111111111\n",
            "Epoch:  52 Training Accuracy:  0.1111111111111111\n",
            "Epoch:  53 Training Accuracy:  0.1111111111111111\n",
            "Epoch:  54 Training Accuracy:  0.1111111111111111\n",
            "Epoch:  55 Training Accuracy:  0.1111111111111111\n",
            "Epoch:  56 Training Accuracy:  0.14814814814814814\n",
            "Epoch:  57 Training Accuracy:  0.18518518518518517\n",
            "Epoch:  58 Training Accuracy:  0.18518518518518517\n",
            "Epoch:  59 Training Accuracy:  0.2222222222222222\n",
            "Epoch:  60 Training Accuracy:  0.2222222222222222\n",
            "Epoch:  61 Training Accuracy:  0.2222222222222222\n",
            "Epoch:  62 Training Accuracy:  0.2222222222222222\n",
            "Epoch:  63 Training Accuracy:  0.2222222222222222\n",
            "Epoch:  64 Training Accuracy:  0.2222222222222222\n",
            "Epoch:  65 Training Accuracy:  0.2222222222222222\n",
            "Epoch:  66 Training Accuracy:  0.2222222222222222\n",
            "Epoch:  67 Training Accuracy:  0.2222222222222222\n",
            "Epoch:  68 Training Accuracy:  0.2222222222222222\n",
            "Epoch:  69 Training Accuracy:  0.2222222222222222\n",
            "Epoch:  70 Training Accuracy:  0.2962962962962963\n",
            "Epoch:  71 Training Accuracy:  0.2962962962962963\n",
            "Epoch:  72 Training Accuracy:  0.3333333333333333\n",
            "Epoch:  73 Training Accuracy:  0.3333333333333333\n",
            "Epoch:  74 Training Accuracy:  0.3333333333333333\n",
            "Epoch:  75 Training Accuracy:  0.3333333333333333\n",
            "Epoch:  76 Training Accuracy:  0.3333333333333333\n",
            "Epoch:  77 Training Accuracy:  0.3333333333333333\n",
            "Epoch:  78 Training Accuracy:  0.3333333333333333\n",
            "Epoch:  79 Training Accuracy:  0.2962962962962963\n",
            "Epoch:  80 Training Accuracy:  0.2962962962962963\n",
            "Epoch:  81 Training Accuracy:  0.2962962962962963\n",
            "Epoch:  82 Training Accuracy:  0.2222222222222222\n",
            "Epoch:  83 Training Accuracy:  0.2222222222222222\n",
            "Epoch:  84 Training Accuracy:  0.2222222222222222\n",
            "Epoch:  85 Training Accuracy:  0.2222222222222222\n",
            "Epoch:  86 Training Accuracy:  0.2222222222222222\n",
            "Epoch:  87 Training Accuracy:  0.2222222222222222\n",
            "Epoch:  88 Training Accuracy:  0.2222222222222222\n",
            "Epoch:  89 Training Accuracy:  0.2222222222222222\n",
            "Epoch:  90 Training Accuracy:  0.25925925925925924\n",
            "Epoch:  91 Training Accuracy:  0.2962962962962963\n",
            "Epoch:  92 Training Accuracy:  0.2962962962962963\n",
            "Epoch:  93 Training Accuracy:  0.3333333333333333\n",
            "Epoch:  94 Training Accuracy:  0.37037037037037035\n",
            "Epoch:  95 Training Accuracy:  0.4074074074074074\n",
            "Epoch:  96 Training Accuracy:  0.4074074074074074\n",
            "Epoch:  97 Training Accuracy:  0.4444444444444444\n",
            "Epoch:  98 Training Accuracy:  0.4444444444444444\n",
            "Epoch:  99 Training Accuracy:  0.48148148148148145\n",
            "Epoch:  100 Training Accuracy:  0.5925925925925926\n",
            "Epoch:  101 Training Accuracy:  0.6296296296296297\n",
            "Epoch:  102 Training Accuracy:  0.6296296296296297\n",
            "Epoch:  103 Training Accuracy:  0.7777777777777778\n",
            "Epoch:  104 Training Accuracy:  0.8148148148148148\n",
            "Epoch:  105 Training Accuracy:  0.8148148148148148\n",
            "Epoch:  106 Training Accuracy:  0.8518518518518519\n",
            "Epoch:  107 Training Accuracy:  0.8888888888888888\n",
            "Epoch:  108 Training Accuracy:  0.8888888888888888\n",
            "Epoch:  109 Training Accuracy:  0.8888888888888888\n",
            "Epoch:  110 Training Accuracy:  0.8888888888888888\n",
            "Epoch:  111 Training Accuracy:  0.8888888888888888\n",
            "Epoch:  112 Training Accuracy:  0.8888888888888888\n",
            "Epoch:  113 Training Accuracy:  0.8888888888888888\n",
            "Epoch:  114 Training Accuracy:  0.8888888888888888\n",
            "Epoch:  115 Training Accuracy:  0.9259259259259259\n",
            "Epoch:  116 Training Accuracy:  0.9259259259259259\n",
            "Epoch:  117 Training Accuracy:  0.9259259259259259\n",
            "Epoch:  118 Training Accuracy:  0.9259259259259259\n",
            "Epoch:  119 Training Accuracy:  0.9629629629629629\n",
            "Epoch:  120 Training Accuracy:  0.9629629629629629\n",
            "Epoch:  121 Training Accuracy:  0.9629629629629629\n",
            "Epoch:  122 Training Accuracy:  0.9629629629629629\n",
            "Epoch:  123 Training Accuracy:  1.0\n",
            "Epoch:  124 Training Accuracy:  1.0\n",
            "Epoch:  125 Training Accuracy:  1.0\n",
            "Epoch:  126 Training Accuracy:  1.0\n",
            "Epoch:  127 Training Accuracy:  1.0\n",
            "Epoch:  128 Training Accuracy:  1.0\n",
            "Epoch:  129 Training Accuracy:  1.0\n",
            "Epoch:  130 Training Accuracy:  1.0\n",
            "Epoch:  131 Training Accuracy:  1.0\n",
            "Epoch:  132 Training Accuracy:  1.0\n",
            "Epoch:  133 Training Accuracy:  1.0\n",
            "Epoch:  134 Training Accuracy:  1.0\n",
            "Epoch:  135 Training Accuracy:  1.0\n",
            "Epoch:  136 Training Accuracy:  1.0\n",
            "Epoch:  137 Training Accuracy:  1.0\n",
            "Epoch:  138 Training Accuracy:  1.0\n",
            "Epoch:  139 Training Accuracy:  1.0\n",
            "Epoch:  140 Training Accuracy:  1.0\n",
            "Epoch:  141 Training Accuracy:  1.0\n",
            "Epoch:  142 Training Accuracy:  1.0\n",
            "Epoch:  143 Training Accuracy:  1.0\n",
            "Epoch:  144 Training Accuracy:  1.0\n",
            "Epoch:  145 Training Accuracy:  1.0\n",
            "Epoch:  146 Training Accuracy:  1.0\n",
            "Epoch:  147 Training Accuracy:  1.0\n",
            "Epoch:  148 Training Accuracy:  1.0\n",
            "Epoch:  149 Training Accuracy:  1.0\n",
            "Epoch:  150 Training Accuracy:  1.0\n",
            "Epoch:  151 Training Accuracy:  1.0\n",
            "Epoch:  152 Training Accuracy:  1.0\n",
            "Epoch:  153 Training Accuracy:  1.0\n",
            "Epoch:  154 Training Accuracy:  1.0\n",
            "Epoch:  155 Training Accuracy:  1.0\n",
            "Epoch:  156 Training Accuracy:  1.0\n",
            "Epoch:  157 Training Accuracy:  1.0\n",
            "Epoch:  158 Training Accuracy:  1.0\n",
            "Epoch:  159 Training Accuracy:  1.0\n",
            "Epoch:  160 Training Accuracy:  1.0\n",
            "Epoch:  161 Training Accuracy:  1.0\n",
            "Epoch:  162 Training Accuracy:  1.0\n",
            "Epoch:  163 Training Accuracy:  1.0\n",
            "Epoch:  164 Training Accuracy:  1.0\n",
            "Epoch:  165 Training Accuracy:  1.0\n",
            "Epoch:  166 Training Accuracy:  1.0\n",
            "Epoch:  167 Training Accuracy:  1.0\n",
            "Epoch:  168 Training Accuracy:  1.0\n",
            "Epoch:  169 Training Accuracy:  1.0\n",
            "Epoch:  170 Training Accuracy:  1.0\n",
            "Epoch:  171 Training Accuracy:  1.0\n",
            "Epoch:  172 Training Accuracy:  1.0\n",
            "Epoch:  173 Training Accuracy:  1.0\n",
            "Epoch:  174 Training Accuracy:  1.0\n",
            "Epoch:  175 Training Accuracy:  1.0\n",
            "Epoch:  176 Training Accuracy:  1.0\n",
            "Epoch:  177 Training Accuracy:  1.0\n",
            "Epoch:  178 Training Accuracy:  1.0\n",
            "Epoch:  179 Training Accuracy:  1.0\n",
            "Epoch:  180 Training Accuracy:  1.0\n",
            "Epoch:  181 Training Accuracy:  1.0\n",
            "Epoch:  182 Training Accuracy:  1.0\n",
            "Epoch:  183 Training Accuracy:  1.0\n",
            "Epoch:  184 Training Accuracy:  1.0\n",
            "Epoch:  185 Training Accuracy:  1.0\n",
            "Epoch:  186 Training Accuracy:  1.0\n",
            "Epoch:  187 Training Accuracy:  1.0\n",
            "Epoch:  188 Training Accuracy:  1.0\n",
            "Epoch:  189 Training Accuracy:  1.0\n",
            "Epoch:  190 Training Accuracy:  1.0\n",
            "Epoch:  191 Training Accuracy:  1.0\n",
            "Epoch:  192 Training Accuracy:  1.0\n",
            "Epoch:  193 Training Accuracy:  1.0\n",
            "Epoch:  194 Training Accuracy:  1.0\n",
            "Epoch:  195 Training Accuracy:  1.0\n",
            "Epoch:  196 Training Accuracy:  1.0\n",
            "Epoch:  197 Training Accuracy:  1.0\n",
            "Epoch:  198 Training Accuracy:  1.0\n",
            "Epoch:  199 Training Accuracy:  1.0\n"
          ],
          "name": "stdout"
        },
        {
          "output_type": "display_data",
          "data": {
            "image/png": "[encoded data removed]",
            "text/plain": [
              "<Figure size 432x288 with 1 Axes>"
            ]
          },
          "metadata": {
            "tags": [],
            "needs_background": "light"
          }
        },
        {
          "output_type": "display_data",
          "data": {
            "image/png": "[encoded data removed]",
            "text/plain": [
              "<Figure size 432x288 with 1 Axes>"
            ]
          },
          "metadata": {
            "tags": [],
            "needs_background": "light"
          }
        }
      ]
    },
    {
      "cell_type": "markdown",
      "metadata": {
        "id": "nvDLw-Vz6eVS"
      },
      "source": [
        "### 3. Hyperparameter Search [10 pt]\n",
        "\n",
        "### Part (a) - 1 pt\n",
        "\n",
        "List 3 hyperparameters that you think are most worth tuning. Choose at least one hyperparameter related to\n",
        "the model architecture."
      ]
    },
    {
      "cell_type": "markdown",
      "metadata": {
        "id": "8BvCYkT4PnQO"
      },
      "source": [
        "\r\n",
        "\r\n",
        "1.   Learning Rate\r\n",
        "2.   Batch size\r\n",
        "3.   Number of output channels in the Convolutional Layer\r\n",
        "\r\n",
        "\r\n",
        "\r\n"
      ]
    },
    {
      "cell_type": "markdown",
      "metadata": {
        "id": "zeD6EzPB6kSW"
      },
      "source": [
        "### Part (b) - 5 pt\n",
        "\n",
        "Tune the hyperparameters you listed in Part (a), trying as many values as you need to until you feel satisfied\n",
        "that you are getting a good model. Plot the training curve of at least 4 different hyperparameter settings."
      ]
    },
    {
      "cell_type": "code",
      "metadata": {
        "collapsed": true,
        "id": "UkvdR-cB6nzm",
        "colab": {
          "base_uri": "https://localhost:8080/",
          "height": 1000
        },
        "outputId": "9bdf6aa5-c2a5-4eb7-9103-3709fa198be1"
      },
      "source": [
        "# First I will be tuning the learning rate and batch size \r\n",
        "# This will still have the original model architecture\r\n",
        "\r\n",
        "'''\r\n",
        "class CNN_Model(nn.Module):\r\n",
        "  def __init__(self):\r\n",
        "    super(CNN_Model, self).__init__()\r\n",
        "    #Input channels = 3, Output channels = 10, Kernel size = 5\r\n",
        "    self.conv1 = nn.Conv2d(3, 10, 5)\r\n",
        "    #Input channels = 10, Output channels = 5, Kernel size = 5\r\n",
        "    self.conv2 = nn.Conv2d(10, 5, 5)\r\n",
        "    #Kernel size = 2, Stride = 2\r\n",
        "    self.pool = nn.MaxPool2d(2, 2)\r\n",
        "    #Input features = 14045, Output features = 35\r\n",
        "    self.fc1 = nn.Linear(5*53*53, 35)\r\n",
        "    #Input features = 35, Output features = 9\r\n",
        "    self.fc2 = nn.Linear(35, 9)\r\n",
        "  \r\n",
        "  def forward(self, x):\r\n",
        "    #ReLU Activation layer\r\n",
        "    x = self.pool(F.relu(self.conv1(x)))\r\n",
        "    #ReLU Activation layer\r\n",
        "    x = self.pool(F.relu(self.conv2(x)))\r\n",
        "    #Flatten the tensor\r\n",
        "    x = x.view(-1, 5*53*53)\r\n",
        "    #ReLU Activation layer\r\n",
        "    x = F.relu(self.fc1(x))\r\n",
        "    x = self.fc2(x)\r\n",
        "    #Return the output layer\r\n",
        "    return x\r\n",
        "'''\r\n",
        "\r\n",
        "use_cuda = True\r\n",
        "\r\n",
        "firstModel = CNN_Model()\r\n",
        "\r\n",
        "if use_cuda and torch.cuda.is_available():\r\n",
        "  firstModel.cuda()\r\n",
        "  print('Using CUDA!')\r\n",
        "else:\r\n",
        "  print('Not using CUDA!')\r\n",
        "train(firstModel, trainingData, validationData, batch_size=128, epochs=25, learning_rate=0.005)"
      ],
      "execution_count": 31,
      "outputs": [
        {
          "output_type": "stream",
          "text": [
            "Using CUDA!\n",
            "Epoch:  0 Training Accuracy:  0.11217049915872125 Validation Accuracy:  0.1111111111111111\n",
            "Epoch:  1 Training Accuracy:  0.21592821088053843 Validation Accuracy:  0.22469135802469137\n",
            "Epoch:  2 Training Accuracy:  0.2938867077958497 Validation Accuracy:  0.2938271604938272\n",
            "Epoch:  3 Training Accuracy:  0.5591699383062254 Validation Accuracy:  0.5506172839506173\n",
            "Epoch:  4 Training Accuracy:  0.5457094784071789 Validation Accuracy:  0.5135802469135803\n",
            "Epoch:  5 Training Accuracy:  0.5759955131800336 Validation Accuracy:  0.5530864197530864\n",
            "Epoch:  6 Training Accuracy:  0.6242288278182838 Validation Accuracy:  0.582716049382716\n",
            "Epoch:  7 Training Accuracy:  0.5928210880538418 Validation Accuracy:  0.5654320987654321\n",
            "Epoch:  8 Training Accuracy:  0.5967470555243971 Validation Accuracy:  0.5876543209876544\n",
            "Epoch:  9 Training Accuracy:  0.6561974200785193 Validation Accuracy:  0.6246913580246913\n",
            "Epoch:  10 Training Accuracy:  0.6948962422882782 Validation Accuracy:  0.6962962962962963\n",
            "Epoch:  11 Training Accuracy:  0.7083567021873247 Validation Accuracy:  0.671604938271605\n",
            "Epoch:  12 Training Accuracy:  0.6876051598429613 Validation Accuracy:  0.6493827160493827\n",
            "Epoch:  13 Training Accuracy:  0.7010656197420079 Validation Accuracy:  0.671604938271605\n",
            "Epoch:  14 Training Accuracy:  0.6977005047672462 Validation Accuracy:  0.671604938271605\n",
            "Epoch:  15 Training Accuracy:  0.71228266965788 Validation Accuracy:  0.6567901234567901\n",
            "Epoch:  16 Training Accuracy:  0.7285473920358946 Validation Accuracy:  0.6864197530864198\n",
            "Epoch:  17 Training Accuracy:  0.71228266965788 Validation Accuracy:  0.6888888888888889\n",
            "Epoch:  18 Training Accuracy:  0.7380818844643858 Validation Accuracy:  0.691358024691358\n",
            "Epoch:  19 Training Accuracy:  0.7201346045989905 Validation Accuracy:  0.6641975308641975\n",
            "Epoch:  20 Training Accuracy:  0.7588334268087493 Validation Accuracy:  0.6962962962962963\n",
            "Epoch:  21 Training Accuracy:  0.7111609646662927 Validation Accuracy:  0.674074074074074\n",
            "Epoch:  22 Training Accuracy:  0.7577117218171621 Validation Accuracy:  0.7037037037037037\n",
            "Epoch:  23 Training Accuracy:  0.749298934380258 Validation Accuracy:  0.7012345679012346\n",
            "Epoch:  24 Training Accuracy:  0.7683679192372406 Validation Accuracy:  0.7160493827160493\n"
          ],
          "name": "stdout"
        },
        {
          "output_type": "display_data",
          "data": {
            "image/png": "[encoded data removed]",
            "text/plain": [
              "<Figure size 432x288 with 1 Axes>"
            ]
          },
          "metadata": {
            "tags": [],
            "needs_background": "light"
          }
        },
        {
          "output_type": "display_data",
          "data": {
            "image/png": "[encoded data removed]",
            "text/plain": [
              "<Figure size 432x288 with 1 Axes>"
            ]
          },
          "metadata": {
            "tags": [],
            "needs_background": "light"
          }
        }
      ]
    },
    {
      "cell_type": "code",
      "metadata": {
        "colab": {
          "base_uri": "https://localhost:8080/",
          "height": 930
        },
        "id": "DZb0BQaVWGuc",
        "outputId": "86efe00d-968e-4303-d2da-b74f8773266a"
      },
      "source": [
        "# Second, I will be tuning the learning rate and batch size again based on the results from the\r\n",
        "# last settings\r\n",
        "\r\n",
        "use_cuda = True\r\n",
        "\r\n",
        "secondModel = CNN_Model()\r\n",
        "\r\n",
        "if use_cuda and torch.cuda.is_available():\r\n",
        "  secondModel.cuda()\r\n",
        "  print('Using CUDA!')\r\n",
        "else:\r\n",
        "  print('Not using CUDA!')\r\n",
        "train(secondModel, trainingData, validationData, batch_size=64, epochs=20, learning_rate=0.002)"
      ],
      "execution_count": 32,
      "outputs": [
        {
          "output_type": "stream",
          "text": [
            "Using CUDA!\n",
            "Epoch:  0 Training Accuracy:  0.16208637128435222 Validation Accuracy:  0.1654320987654321\n",
            "Epoch:  1 Training Accuracy:  0.22770611329220414 Validation Accuracy:  0.2222222222222222\n",
            "Epoch:  2 Training Accuracy:  0.269209197980931 Validation Accuracy:  0.24938271604938272\n",
            "Epoch:  3 Training Accuracy:  0.3393157599551318 Validation Accuracy:  0.36049382716049383\n",
            "Epoch:  4 Training Accuracy:  0.49803701626472235 Validation Accuracy:  0.4691358024691358\n",
            "Epoch:  5 Training Accuracy:  0.5513180033651149 Validation Accuracy:  0.5407407407407407\n",
            "Epoch:  6 Training Accuracy:  0.6130117779024117 Validation Accuracy:  0.5851851851851851\n",
            "Epoch:  7 Training Accuracy:  0.5978687605159843 Validation Accuracy:  0.6\n",
            "Epoch:  8 Training Accuracy:  0.6365675827257431 Validation Accuracy:  0.6271604938271605\n",
            "Epoch:  9 Training Accuracy:  0.6932136848008974 Validation Accuracy:  0.6444444444444445\n",
            "Epoch:  10 Training Accuracy:  0.7162086371284352 Validation Accuracy:  0.6567901234567901\n",
            "Epoch:  11 Training Accuracy:  0.6775098149186763 Validation Accuracy:  0.6419753086419753\n",
            "Epoch:  12 Training Accuracy:  0.683679192372406 Validation Accuracy:  0.6790123456790124\n",
            "Epoch:  13 Training Accuracy:  0.7184520471116096 Validation Accuracy:  0.6691358024691358\n",
            "Epoch:  14 Training Accuracy:  0.6920919798093101 Validation Accuracy:  0.6567901234567901\n",
            "Epoch:  15 Training Accuracy:  0.7240605720695457 Validation Accuracy:  0.674074074074074\n",
            "Epoch:  16 Training Accuracy:  0.7498597868760516 Validation Accuracy:  0.725925925925926\n",
            "Epoch:  17 Training Accuracy:  0.7509814918676389 Validation Accuracy:  0.7185185185185186\n",
            "Epoch:  18 Training Accuracy:  0.7638810992708918 Validation Accuracy:  0.7160493827160493\n",
            "Epoch:  19 Training Accuracy:  0.759394279304543 Validation Accuracy:  0.7209876543209877\n"
          ],
          "name": "stdout"
        },
        {
          "output_type": "display_data",
          "data": {
            "image/png": "[encoded data removed]",
            "text/plain": [
              "<Figure size 432x288 with 1 Axes>"
            ]
          },
          "metadata": {
            "tags": [],
            "needs_background": "light"
          }
        },
        {
          "output_type": "display_data",
          "data": {
            "image/png": "[encoded data removed]",
            "text/plain": [
              "<Figure size 432x288 with 1 Axes>"
            ]
          },
          "metadata": {
            "tags": [],
            "needs_background": "light"
          }
        }
      ]
    },
    {
      "cell_type": "code",
      "metadata": {
        "colab": {
          "base_uri": "https://localhost:8080/",
          "height": 930
        },
        "id": "cuAdzs6-aNIV",
        "outputId": "0957ea06-0961-42e1-f99c-5ad12a50cb77"
      },
      "source": [
        "#Third Attempt, I will be using the best combination of learning rate and batch size from the previous \r\n",
        "#two attempts, while also tuning the model architecture\r\n",
        "\r\n",
        "#Below I have changed the number of output channels from 10 to 15 in the Convolutional layers.\r\n",
        "#I believe this will help because now, with more output channels the model can identify more features\r\n",
        "#in the images by creating more feature maps which will help with classification\r\n",
        "'''\r\n",
        "class CNN_Model(nn.Module):\r\n",
        "  def __init__(self):\r\n",
        "    super(CNN_Model, self).__init__()\r\n",
        "    #Input channels = 3, Output channels = 15, Kernel size = 5\r\n",
        "    self.conv1 = nn.Conv2d(3, 15, 5)\r\n",
        "    #Input channels = 15, Output channels = 5, Kernel size = 5\r\n",
        "    self.conv2 = nn.Conv2d(15, 5, 5)\r\n",
        "    #Kernel size = 2, Stride = 2\r\n",
        "    self.pool = nn.MaxPool2d(2, 2)\r\n",
        "    #Input features = 14045, Output features = 35\r\n",
        "    self.fc1 = nn.Linear(5*53*53, 35)\r\n",
        "    #Input features = 35, Output features = 9\r\n",
        "    self.fc2 = nn.Linear(35, 9)\r\n",
        "  \r\n",
        "  def forward(self, x):\r\n",
        "    #ReLU Activation layer\r\n",
        "    x = self.pool(F.relu(self.conv1(x)))\r\n",
        "    #ReLU Activation layer\r\n",
        "    x = self.pool(F.relu(self.conv2(x)))\r\n",
        "    #Flatten the tensor\r\n",
        "    x = x.view(-1, 5*53*53)\r\n",
        "    #ReLU Activation layer\r\n",
        "    x = F.relu(self.fc1(x))\r\n",
        "    x = self.fc2(x)\r\n",
        "    #Return the output layer\r\n",
        "    return x\r\n",
        "'''\r\n",
        "use_cuda = True\r\n",
        "\r\n",
        "thirdModel = CNN_Model()\r\n",
        "\r\n",
        "if use_cuda and torch.cuda.is_available():\r\n",
        "  thirdModel.cuda()\r\n",
        "  print('Using CUDA!')\r\n",
        "else:\r\n",
        "  print('Not using CUDA!')\r\n",
        "train(thirdModel, trainingData, validationData, batch_size=64, epochs=20, learning_rate=0.002)"
      ],
      "execution_count": 34,
      "outputs": [
        {
          "output_type": "stream",
          "text": [
            "Using CUDA!\n",
            "Epoch:  0 Training Accuracy:  0.11273135165451487 Validation Accuracy:  0.1111111111111111\n",
            "Epoch:  1 Training Accuracy:  0.11273135165451487 Validation Accuracy:  0.1111111111111111\n",
            "Epoch:  2 Training Accuracy:  0.26247896803140774 Validation Accuracy:  0.2345679012345679\n",
            "Epoch:  3 Training Accuracy:  0.2579921480650589 Validation Accuracy:  0.254320987654321\n",
            "Epoch:  4 Training Accuracy:  0.3735277621985418 Validation Accuracy:  0.3160493827160494\n",
            "Epoch:  5 Training Accuracy:  0.5305664610207516 Validation Accuracy:  0.5037037037037037\n",
            "Epoch:  6 Training Accuracy:  0.5737521031968592 Validation Accuracy:  0.5259259259259259\n",
            "Epoch:  7 Training Accuracy:  0.5849691531127313 Validation Accuracy:  0.5506172839506173\n",
            "Epoch:  8 Training Accuracy:  0.6427369601794728 Validation Accuracy:  0.6345679012345679\n",
            "Epoch:  9 Training Accuracy:  0.6023555804823332 Validation Accuracy:  0.5382716049382716\n",
            "Epoch:  10 Training Accuracy:  0.6769489624228828 Validation Accuracy:  0.6222222222222222\n",
            "Epoch:  11 Training Accuracy:  0.683679192372406 Validation Accuracy:  0.6197530864197531\n",
            "Epoch:  12 Training Accuracy:  0.7016264722378015 Validation Accuracy:  0.6419753086419753\n",
            "Epoch:  13 Training Accuracy:  0.6629276500280427 Validation Accuracy:  0.6172839506172839\n",
            "Epoch:  14 Training Accuracy:  0.7128435221536736 Validation Accuracy:  0.6345679012345679\n",
            "Epoch:  15 Training Accuracy:  0.699383062254627 Validation Accuracy:  0.6592592592592592\n",
            "Epoch:  16 Training Accuracy:  0.7195737521031969 Validation Accuracy:  0.6296296296296297\n",
            "Epoch:  17 Training Accuracy:  0.6550757150869322 Validation Accuracy:  0.6320987654320988\n",
            "Epoch:  18 Training Accuracy:  0.7100392596747056 Validation Accuracy:  0.6888888888888889\n",
            "Epoch:  19 Training Accuracy:  0.7178911946158161 Validation Accuracy:  0.6395061728395062\n"
          ],
          "name": "stdout"
        },
        {
          "output_type": "display_data",
          "data": {
            "image/png": "[encoded data removed]",
            "text/plain": [
              "<Figure size 432x288 with 1 Axes>"
            ]
          },
          "metadata": {
            "tags": [],
            "needs_background": "light"
          }
        },
        {
          "output_type": "display_data",
          "data": {
            "image/png": "[encoded data removed]",
            "text/plain": [
              "<Figure size 432x288 with 1 Axes>"
            ]
          },
          "metadata": {
            "tags": [],
            "needs_background": "light"
          }
        }
      ]
    },
    {
      "cell_type": "code",
      "metadata": {
        "colab": {
          "base_uri": "https://localhost:8080/",
          "height": 930
        },
        "id": "hF4_BwTPmANE",
        "outputId": "c9a695eb-2284-4b45-aea2-43cb9afeec26"
      },
      "source": [
        "#Fourth Attempt: I will lower my Output channels to 10 again, because I noticed a decrease in validation\r\n",
        "#accuracy in my third attempt compared to my second attempt. I will also increase my batch size to 75. \r\n",
        "#I will be increasing my learning rate to 0.003. Based on my past three attempts, I believe this combination will\r\n",
        "#yield the best results\r\n",
        "\r\n",
        "'''\r\n",
        "class CNN_Model(nn.Module):\r\n",
        "  def __init__(self):\r\n",
        "    super(CNN_Model, self).__init__()\r\n",
        "    #Input channels = 3, Output channels = 10, Kernel size = 5\r\n",
        "    self.conv1 = nn.Conv2d(3, 10, 5)\r\n",
        "    #Input channels = 10, Output channels = 5, Kernel size = 5\r\n",
        "    self.conv2 = nn.Conv2d(10, 5, 5)\r\n",
        "    #Kernel size = 2, Stride = 2\r\n",
        "    self.pool = nn.MaxPool2d(2, 2)\r\n",
        "    #Input features = 14045, Output features = 35\r\n",
        "    self.fc1 = nn.Linear(5*53*53, 35)\r\n",
        "    #Input features = 35, Output features = 9\r\n",
        "    self.fc2 = nn.Linear(35, 9)\r\n",
        "  \r\n",
        "  def forward(self, x):\r\n",
        "    #ReLU Activation layer\r\n",
        "    x = self.pool(F.relu(self.conv1(x)))\r\n",
        "    #ReLU Activation layer\r\n",
        "    x = self.pool(F.relu(self.conv2(x)))\r\n",
        "    #Flatten the tensor\r\n",
        "    x = x.view(-1, 5*53*53)\r\n",
        "    #ReLU Activation layer\r\n",
        "    x = F.relu(self.fc1(x))\r\n",
        "    x = self.fc2(x)\r\n",
        "    #Return the output layer\r\n",
        "    return x\r\n",
        "'''\r\n",
        "use_cuda = True\r\n",
        "\r\n",
        "fourthModel = CNN_Model()\r\n",
        "\r\n",
        "if use_cuda and torch.cuda.is_available():\r\n",
        "  fourthModel.cuda()\r\n",
        "  print('Using CUDA!')\r\n",
        "else:\r\n",
        "  print('Not using CUDA!')\r\n",
        "train(fourthModel, trainingData, validationData, batch_size=50, epochs=20, learning_rate=0.003)"
      ],
      "execution_count": 59,
      "outputs": [
        {
          "output_type": "stream",
          "text": [
            "Using CUDA!\n",
            "Epoch:  0 Training Accuracy:  0.11273135165451487 Validation Accuracy:  0.1111111111111111\n",
            "Epoch:  1 Training Accuracy:  0.16152551878855861 Validation Accuracy:  0.14814814814814814\n",
            "Epoch:  2 Training Accuracy:  0.31015143017386426 Validation Accuracy:  0.30617283950617286\n",
            "Epoch:  3 Training Accuracy:  0.4974761637689288 Validation Accuracy:  0.4962962962962963\n",
            "Epoch:  4 Training Accuracy:  0.6948962422882782 Validation Accuracy:  0.654320987654321\n",
            "Epoch:  5 Training Accuracy:  0.7089175546831183 Validation Accuracy:  0.654320987654321\n",
            "Epoch:  6 Training Accuracy:  0.6904094223219294 Validation Accuracy:  0.5975308641975309\n",
            "Epoch:  7 Training Accuracy:  0.7543466068424004 Validation Accuracy:  0.6790123456790124\n",
            "Epoch:  8 Training Accuracy:  0.7644419517666854 Validation Accuracy:  0.725925925925926\n",
            "Epoch:  9 Training Accuracy:  0.7896803140773977 Validation Accuracy:  0.6888888888888889\n",
            "Epoch:  10 Training Accuracy:  0.7879977565900168 Validation Accuracy:  0.7012345679012346\n",
            "Epoch:  11 Training Accuracy:  0.8104318564217611 Validation Accuracy:  0.7283950617283951\n",
            "Epoch:  12 Training Accuracy:  0.8401570386988222 Validation Accuracy:  0.7407407407407407\n",
            "Epoch:  13 Training Accuracy:  0.8704430734716769 Validation Accuracy:  0.7580246913580246\n",
            "Epoch:  14 Training Accuracy:  0.8395961862030286 Validation Accuracy:  0.691358024691358\n",
            "Epoch:  15 Training Accuracy:  0.8681996634885025 Validation Accuracy:  0.7333333333333333\n",
            "Epoch:  16 Training Accuracy:  0.8524957936062816 Validation Accuracy:  0.7185185185185186\n",
            "Epoch:  17 Training Accuracy:  0.8625911385305665 Validation Accuracy:  0.7111111111111111\n",
            "Epoch:  18 Training Accuracy:  0.8883903533370724 Validation Accuracy:  0.7432098765432099\n",
            "Epoch:  19 Training Accuracy:  0.9097027481772294 Validation Accuracy:  0.7333333333333333\n"
          ],
          "name": "stdout"
        },
        {
          "output_type": "display_data",
          "data": {
            "image/png": "[encoded data removed]",
            "text/plain": [
              "<Figure size 432x288 with 1 Axes>"
            ]
          },
          "metadata": {
            "tags": [],
            "needs_background": "light"
          }
        },
        {
          "output_type": "display_data",
          "data": {
            "image/png": "[encoded data removed]",
            "text/plain": [
              "<Figure size 432x288 with 1 Axes>"
            ]
          },
          "metadata": {
            "tags": [],
            "needs_background": "light"
          }
        }
      ]
    },
    {
      "cell_type": "markdown",
      "metadata": {
        "id": "H93iN5_l60BO"
      },
      "source": [
        "### Part (c) - 2 pt\n",
        "Choose the best model out of all the ones that you have trained. Justify your choice."
      ]
    },
    {
      "cell_type": "code",
      "metadata": {
        "collapsed": true,
        "id": "kIhcN7IG6zRO"
      },
      "source": [
        "'''\r\n",
        "The best model based on my results is definitely my last model from above. This model has 10 output\r\n",
        "layers for the first convolutional layer. The learning rate was 0.03, and the batch size was 50. \r\n",
        "The reason why I believe this was my best model is because from all four of my models, this model\r\n",
        "ended with a training accuracy of around 90% and a validation accuracy of 74% which is my highest from\r\n",
        "all four models. Moving forward, I will be using these parameters and this architecture.\r\n",
        "'''"
      ],
      "execution_count": null,
      "outputs": []
    },
    {
      "cell_type": "markdown",
      "metadata": {
        "id": "QzNA5oup67JO"
      },
      "source": [
        "### Part (d) - 2 pt\n",
        "Report the test accuracy of your best model. You should only do this step once and prior to this step you should have only used the training and validation data."
      ]
    },
    {
      "cell_type": "code",
      "metadata": {
        "collapsed": true,
        "id": "2eJ7AbVl6-ax",
        "colab": {
          "base_uri": "https://localhost:8080/"
        },
        "outputId": "11bbafb5-af57-44ef-b3e1-6784e7291c6d"
      },
      "source": [
        "# Best Model Parameters: Batch size=50, Epochs=20, Learning Rate=0.003\r\n",
        "# Best Model Architecture:\r\n",
        "'''\r\n",
        "    #Input channels = 3, Output channels = 10, Kernel size = 5\r\n",
        "    self.conv1 = nn.Conv2d(3, 10, 5)\r\n",
        "    #Input channels = 10, Output channels = 5, Kernel size = 5\r\n",
        "    self.conv2 = nn.Conv2d(10, 5, 5)\r\n",
        "    #Kernel size = 2, Stride = 2\r\n",
        "    self.pool = nn.MaxPool2d(2, 2)\r\n",
        "    #Input features = 14045, Output features = 35\r\n",
        "    self.fc1 = nn.Linear(5*53*53, 35)\r\n",
        "    #Input features = 35, Output features = 9\r\n",
        "'''\r\n",
        "\r\n",
        "testLoader = torch.utils.data.DataLoader(testingData, batch_size=50, shuffle = True)\r\n",
        "print(get_accuracy(fourthModel, testLoader))"
      ],
      "execution_count": 63,
      "outputs": [
        {
          "output_type": "stream",
          "text": [
            "0.691358024691358\n"
          ],
          "name": "stdout"
        }
      ]
    },
    {
      "cell_type": "code",
      "metadata": {
        "id": "Vf6x0O2W5_K1"
      },
      "source": [
        "As we can see above, using the fourth model, we get a test accuracy of around 69%"
      ],
      "execution_count": null,
      "outputs": []
    },
    {
      "cell_type": "markdown",
      "metadata": {
        "id": "Wrem-iXV6_Bz"
      },
      "source": [
        "### 4. Transfer Learning [15 pt]\n",
        "For many image classification tasks, it is generally not a good idea to train a very large deep neural network\n",
        "model from scratch due to the enormous compute requirements and lack of sufficient amounts of training\n",
        "data.\n",
        "\n",
        "One of the better options is to try using an existing model that performs a similar task to the one you need\n",
        "to solve. This method of utilizing a pre-trained network for other similar tasks is broadly termed **Transfer\n",
        "Learning**. In this assignment, we will use Transfer Learning to extract features from the hand gesture\n",
        "images. Then, train a smaller network to use these features as input and classify the hand gestures.\n",
        "\n",
        "As you have learned from the CNN lecture, convolution layers extract various features from the images which\n",
        "get utilized by the fully connected layers for correct classification. AlexNet architecture played a pivotal\n",
        "role in establishing Deep Neural Nets as a go-to tool for image classification problems and we will use an\n",
        "ImageNet pre-trained AlexNet model to extract features in this assignment."
      ]
    },
    {
      "cell_type": "markdown",
      "metadata": {
        "id": "rWdQJz4Q7O2F"
      },
      "source": [
        "### Part (a) - 5 pt\n",
        "Here is the code to load the AlexNet network, with pretrained weights. When you first run the code, PyTorch\n",
        "will download the pretrained weights from the internet."
      ]
    },
    {
      "cell_type": "code",
      "metadata": {
        "collapsed": true,
        "id": "BJKcTW9C7TZk"
      },
      "source": [
        "import torchvision.models\n",
        "alexnet = torchvision.models.alexnet(pretrained=True)"
      ],
      "execution_count": 10,
      "outputs": []
    },
    {
      "cell_type": "markdown",
      "metadata": {
        "id": "NQ0GZYaP7VAR"
      },
      "source": [
        "The alexnet model is split up into two components: *alexnet.features* and *alexnet.classifier*. The\n",
        "first neural network component, *alexnet.features*, is used to compute convolutional features, which are\n",
        "taken as input in *alexnet.classifier*.\n",
        "\n",
        "The neural network alexnet.features expects an image tensor of shape Nx3x224x224 as input and it will\n",
        "output a tensor of shape Nx256x6x6 . (N = batch size).\n",
        "\n",
        "Compute the AlexNet features for each of your training, validation, and test data. Here is an example code\n",
        "snippet showing how you can compute the AlexNet features for some images (your actual code might be\n",
        "different):"
      ]
    },
    {
      "cell_type": "code",
      "metadata": {
        "collapsed": true,
        "id": "oX7SjVdB7XAE"
      },
      "source": [
        "# img = ... a PyTorch tensor with shape [N,3,224,224] containing hand images ...\n",
        "# features = alexnet.features(img)"
      ],
      "execution_count": 16,
      "outputs": []
    },
    {
      "cell_type": "markdown",
      "metadata": {
        "id": "DYcjHg_A7cCM"
      },
      "source": [
        "**Save the computed features**. You will be using these features as input to your neural network in Part\n",
        "(b), and you do not want to re-compute the features every time. Instead, run *alexnet.features* once for\n",
        "each image, and save the result."
      ]
    },
    {
      "cell_type": "code",
      "metadata": {
        "collapsed": true,
        "id": "TBo1BpL373LX"
      },
      "source": [
        "#First define the path to my data\r\n",
        "mainPath = '/root/datasets/root/Features'\r\n",
        "\r\n",
        "#First set up the data loader\r\n",
        "\r\n",
        "#Save one file at a time\r\n",
        "batch_size = 1\r\n",
        "num_workers = 1\r\n",
        "\r\n",
        "trainingDataLoader = torch.utils.data.DataLoader(trainingData, batch_size=batch_size, num_workers=num_workers, shuffle=True)\r\n",
        "validationDataLoader = torch.utils.data.DataLoader(validationData, batch_size=batch_size, num_workers=num_workers, shuffle=True)\r\n",
        "testingDataLoader = torch.utils.data.DataLoader(testingData, batch_size=batch_size, num_workers=num_workers, shuffle=True)\r\n",
        "\r\n",
        "#Now I will store the features to folders as tensors\r\n",
        "\r\n",
        "i = 0\r\n",
        "for images, labels in trainingDataLoader:\r\n",
        "  features = alexnet.features(images)\r\n",
        "  featuresTensor = torch.from_numpy(features.detach().numpy())\r\n",
        "\r\n",
        "  folderName = mainPath + '/Training/' + str(letters[labels])\r\n",
        "  if not os.path.isdir(folderName):\r\n",
        "    os.mkdir(folderName)\r\n",
        "  torch.save(featuresTensor.squeeze(0), folderName + '/' + str(i) + '.tensor')\r\n",
        "  i += 1\r\n",
        "\r\n",
        "i = 0\r\n",
        "for images, labels in validationDataLoader:\r\n",
        "  features = alexnet.features(images)\r\n",
        "  featuresTensor = torch.from_numpy(features.detach().numpy())\r\n",
        "\r\n",
        "  folderName = mainPath + '/Validation/' + str(letters[labels])\r\n",
        "  if not os.path.isdir(folderName):\r\n",
        "    os.mkdir(folderName)\r\n",
        "  torch.save(featuresTensor.squeeze(0), folderName + '/' + str(i) + '.tensor')\r\n",
        "  i += 1\r\n",
        "\r\n",
        "i = 0\r\n",
        "for images, labels in testingDataLoader:\r\n",
        "  features = alexnet.features(images)\r\n",
        "  featuresTensor = torch.from_numpy(features.detach().numpy())\r\n",
        "\r\n",
        "  folderName = mainPath + '/Testing/' + str(letters[labels])\r\n",
        "  if not os.path.isdir(folderName):\r\n",
        "    os.mkdir(folderName)\r\n",
        "  torch.save(featuresTensor.squeeze(0), folderName + '/' + str(i) + '.tensor')\r\n",
        "  i += 1"
      ],
      "execution_count": null,
      "outputs": []
    },
    {
      "cell_type": "markdown",
      "metadata": {
        "id": "OFWvvhFN73qY"
      },
      "source": [
        "### Part (b) - 3 pt\n",
        "Build a convolutional neural network model that takes as input these AlexNet features, and makes a\n",
        "prediction. Your model should be a subclass of nn.Module.\n",
        "\n",
        "Explain your choice of neural network architecture: how many layers did you choose? What types of layers\n",
        "did you use: fully-connected or convolutional? What about other decisions like pooling layers, activation\n",
        "functions, number of channels / hidden units in each layer?\n",
        "\n",
        "Here is an example of how your model may be called:"
      ]
    },
    {
      "cell_type": "code",
      "metadata": {
        "collapsed": true,
        "id": "oVTuHUeV78-U",
        "colab": {
          "base_uri": "https://localhost:8080/"
        },
        "outputId": "46230d1f-c91d-4cae-adb9-b137da5c382a"
      },
      "source": [
        "# features = ... load precomputed alexnet.features(img) ...\n",
        "# output = model(features)\n",
        "# prob = F.softmax(output)\n",
        "\n",
        "#Set up the features\n",
        "trainingFeatures = torchvision.datasets.DatasetFolder(mainPath + '/Training', loader=torch.load, extensions=('.tensor'))\n",
        "validationFeatures = torchvision.datasets.DatasetFolder(mainPath + '/Validation', loader=torch.load, extensions=('.tensor'))\n",
        "testingFeatures = torchvision.datasets.DatasetFolder(mainPath + '/Testing', loader=torch.load, extensions=('.tensor'))\n",
        "\n",
        "#Set up the data loader\n",
        "batch_size = 32\n",
        "num_workers = 1\n",
        "\n",
        "trainingFeatureLoader = torch.utils.data.DataLoader(trainingFeatures, batch_size=batch_size, num_workers=num_workers, shuffle=True)\n",
        "validationFeatureLoader = torch.utils.data.DataLoader(validationFeatures, batch_size=batch_size, num_workers=num_workers, shuffle=True)\n",
        "testingFeatureLoader = torch.utils.data.DataLoader(testingFeatures, batch_size=batch_size, num_workers=num_workers, shuffle=True)\n",
        "\n",
        "#Verify the features\n",
        "dataIterator = iter(trainingFeatureLoader)\n",
        "features, labels = dataIterator.next()\n",
        "print(features.shape)\n",
        "print(labels.shape)"
      ],
      "execution_count": 74,
      "outputs": [
        {
          "output_type": "stream",
          "text": [
            "torch.Size([32, 256, 6, 6])\n",
            "torch.Size([32])\n"
          ],
          "name": "stdout"
        }
      ]
    },
    {
      "cell_type": "code",
      "metadata": {
        "id": "pvystvJfGgjm"
      },
      "source": [
        "#As we can see above, AlexNet Features outputs the shape of the tensor as Nx256x6x6 (N = 32 = batch size).\r\n",
        "\r\n",
        "torch.manual_seed(5)\r\n",
        "\r\n",
        "#The design choices for my AlexNet CNN model  will be explained after the code\r\n",
        "class alexNetModel(nn.Module):\r\n",
        "  def __init__(self, name = \"AlexNet_Model\"):\r\n",
        "    super(alexNetModel, self).__init__()\r\n",
        "    #Input channels = 256, Output channels = 512, Kernel size = 3\r\n",
        "    self.conv1 = nn.Conv2d(256, 512, 3)\r\n",
        "    #Kernel size = 2, Stride = 2\r\n",
        "    self.pool = nn.MaxPool2d(2, 2)\r\n",
        "\r\n",
        "    #Calculate the correct input size for the fully connected layer\r\n",
        "    self.var = floor((6 - 3 + 1)/2)\r\n",
        "    self.fullyConnectedInput = self.var * self.var * 512\r\n",
        "\r\n",
        "    #Input channels = self.var * self.var * 512, Output channels = 35\r\n",
        "    self.fc1 = nn.Linear(self.fullyConnectedInput, 35)\r\n",
        "    #Input channels = 35, Output channels = 9\r\n",
        "    self.fc2 = nn.Linear(35, 9)\r\n",
        "\r\n",
        "  def forward(self, features):\r\n",
        "    #ReLU Activation layer\r\n",
        "    var = self.pool(F.relu(self.conv1(features)))\r\n",
        "    #Flatten the tensor\r\n",
        "    var = var.view(-1, self.fullyConnectedInput)\r\n",
        "    #ReLU Activation layer\r\n",
        "    var = F.relu(self.fc1(var))\r\n",
        "    #Fully Connected Layer \r\n",
        "    var = self.fc2(var)\r\n",
        "    #Softmax function\r\n",
        "    return F.softmax(var, dim=1)"
      ],
      "execution_count": 75,
      "outputs": []
    },
    {
      "cell_type": "markdown",
      "metadata": {
        "id": "wVSgu5RIKpVa"
      },
      "source": [
        "How many layers did you choose: \r\n",
        "\r\n",
        "I used 4 layers total.\r\n",
        "\r\n",
        "What types of layers did you use: \r\n",
        "\r\n",
        "At first, I decided to use a Convolutional layer like most CNN models. I made this one extremely large and detailes to take full advantage of the AlexNet features and create plenty of feature maps for the data.\r\n",
        "\r\n",
        "Next, I decided to add a Max Pooling layer which we learned works well for CNN models. This is used to condense the most important information after the Convolutional layer. \r\n",
        "\r\n",
        "Lastly, I have added two Fully Connected layers similar to my orginal CNN model. This is common architecture which is used at the end of a CNN model to finally make a prediction after having condensed the information in the Max Pooling layer. \r\n",
        "\r\n",
        "\r\n",
        "Activation functions: \r\n",
        "\r\n",
        "I have decided to use ReLU as my activation function. This is more common than the sigmoid activation function. My last activation function is the softmax activation function.\r\n",
        "\r\n",
        "Number of channels / hidden units in each layer:\r\n",
        "\r\n",
        "Explained in the comments in the code\r\n"
      ]
    },
    {
      "cell_type": "markdown",
      "metadata": {
        "id": "wVAGuURu7-9q"
      },
      "source": [
        "### Part (c) - 5 pt\n",
        "Train your new network, including any hyperparameter tuning. Plot and submit the training curve of your\n",
        "best model only.\n",
        "\n",
        "Note: Depending on how you are caching (saving) your AlexNet features, PyTorch might still be tracking\n",
        "updates to the **AlexNet weights**, which we are not tuning. One workaround is to convert your AlexNet\n",
        "feature tensor into a numpy array, and then back into a PyTorch tensor."
      ]
    },
    {
      "cell_type": "code",
      "metadata": {
        "collapsed": true,
        "id": "JCmiH11x7-q1",
        "colab": {
          "base_uri": "https://localhost:8080/",
          "height": 930
        },
        "outputId": "cd5bd565-3c62-4ff2-efcb-19184d76eb2c"
      },
      "source": [
        "#tensor = torch.from_numpy(tensor.detach().numpy())\r\n",
        "\r\n",
        "use_cuda = True\r\n",
        "\r\n",
        "myAlexNetCNN = alexNetModel()\r\n",
        "\r\n",
        "if use_cuda and torch.cuda.is_available():\r\n",
        "  print('Using CUDA!')\r\n",
        "\r\n",
        "#Train the AlexNet CNN Model \r\n",
        "train(myAlexNetCNN, trainingFeatures, validationFeatures, batch_size=50, epochs=20, learning_rate=0.01)"
      ],
      "execution_count": 56,
      "outputs": [
        {
          "output_type": "stream",
          "text": [
            "Using CUDA!\n",
            "Epoch:  0 Training Accuracy:  0.38539289207694816 Validation Accuracy:  0.39753086419753086\n",
            "Epoch:  1 Training Accuracy:  0.7186175415715683 Validation Accuracy:  0.7012345679012346\n",
            "Epoch:  2 Training Accuracy:  0.8627323117052494 Validation Accuracy:  0.8419753086419753\n",
            "Epoch:  3 Training Accuracy:  0.9142484512552983 Validation Accuracy:  0.9061728395061729\n",
            "Epoch:  4 Training Accuracy:  0.9325073361591132 Validation Accuracy:  0.8962962962962963\n",
            "Epoch:  5 Training Accuracy:  0.938376263449625 Validation Accuracy:  0.928395061728395\n",
            "Epoch:  6 Training Accuracy:  0.950766221062928 Validation Accuracy:  0.9358024691358025\n",
            "Epoch:  7 Training Accuracy:  0.9533746331920443 Validation Accuracy:  0.9308641975308642\n",
            "Epoch:  8 Training Accuracy:  0.9589175089664167 Validation Accuracy:  0.928395061728395\n",
            "Epoch:  9 Training Accuracy:  0.9618519726116727 Validation Accuracy:  0.9259259259259259\n",
            "Epoch:  10 Training Accuracy:  0.9693511574828823 Validation Accuracy:  0.9308641975308642\n",
            "Epoch:  11 Training Accuracy:  0.9726116726442778 Validation Accuracy:  0.928395061728395\n",
            "Epoch:  12 Training Accuracy:  0.9755461362895338 Validation Accuracy:  0.9234567901234568\n",
            "Epoch:  13 Training Accuracy:  0.9784805999347898 Validation Accuracy:  0.9234567901234568\n",
            "Epoch:  14 Training Accuracy:  0.9781545484186501 Validation Accuracy:  0.9333333333333333\n",
            "Epoch:  15 Training Accuracy:  0.9794587544832083 Validation Accuracy:  0.9333333333333333\n",
            "Epoch:  16 Training Accuracy:  0.980436909031627 Validation Accuracy:  0.9185185185185185\n",
            "Epoch:  17 Training Accuracy:  0.9833713726768829 Validation Accuracy:  0.9308641975308642\n",
            "Epoch:  18 Training Accuracy:  0.9850016302575807 Validation Accuracy:  0.928395061728395\n",
            "Epoch:  19 Training Accuracy:  0.9850016302575807 Validation Accuracy:  0.9259259259259259\n"
          ],
          "name": "stdout"
        },
        {
          "output_type": "display_data",
          "data": {
            "image/png": "[encoded data removed]",
            "text/plain": [
              "<Figure size 432x288 with 1 Axes>"
            ]
          },
          "metadata": {
            "tags": [],
            "needs_background": "light"
          }
        },
        {
          "output_type": "display_data",
          "data": {
            "image/png": "[encoded data removed]",
            "text/plain": [
              "<Figure size 432x288 with 1 Axes>"
            ]
          },
          "metadata": {
            "tags": [],
            "needs_background": "light"
          }
        }
      ]
    },
    {
      "cell_type": "markdown",
      "metadata": {
        "id": "hQ2tvqJ68Mqb"
      },
      "source": [
        "### Part (d) - 2 pt\n",
        "Report the test accuracy of your best model. How does the test accuracy compare to Part 3(d) without transfer learning?"
      ]
    },
    {
      "cell_type": "code",
      "metadata": {
        "collapsed": true,
        "id": "yCp_kFSg8Q2T",
        "colab": {
          "base_uri": "https://localhost:8080/"
        },
        "outputId": "e80d78d1-3910-43bb-d443-b0ddb0c450de"
      },
      "source": [
        "# Reporting the test accuracy of my best model: Part 3d, fourth model:\r\n",
        "# Best Model Parameters: Batch size=50, Epochs=20, Learning Rate=0.003\r\n",
        "# Best Model Architecture:\r\n",
        "'''\r\n",
        "    #Input channels = 3, Output channels = 10, Kernel size = 5\r\n",
        "    self.conv1 = nn.Conv2d(3, 10, 5)\r\n",
        "    #Input channels = 10, Output channels = 5, Kernel size = 5\r\n",
        "    self.conv2 = nn.Conv2d(10, 5, 5)\r\n",
        "    #Kernel size = 2, Stride = 2\r\n",
        "    self.pool = nn.MaxPool2d(2, 2)\r\n",
        "    #Input features = 14045, Output features = 35\r\n",
        "    self.fc1 = nn.Linear(5*53*53, 35)\r\n",
        "    #Input features = 35, Output features = 9\r\n",
        "'''\r\n",
        "\r\n",
        "testLoader = torch.utils.data.DataLoader(testingData, batch_size=50, shuffle = True)\r\n",
        "print(get_accuracy(fourthModel, testLoader))"
      ],
      "execution_count": 64,
      "outputs": [
        {
          "output_type": "stream",
          "text": [
            "0.691358024691358\n"
          ],
          "name": "stdout"
        }
      ]
    },
    {
      "cell_type": "markdown",
      "metadata": {
        "id": "FjBJzQ0SiNER"
      },
      "source": [
        "As we can see above, from my best model in part 3d, the last model, I get a Test Accuracy of 69.1%."
      ]
    },
    {
      "cell_type": "code",
      "metadata": {
        "colab": {
          "base_uri": "https://localhost:8080/"
        },
        "id": "KOS-8gNWi0j2",
        "outputId": "a86bc985-c552-4cab-fa08-66435f75cfc9"
      },
      "source": [
        "# Reporting the test accuracy of my AlexNetCNN model that was trained in Part 4c:\r\n",
        "\r\n",
        "print(get_accuracy(myAlexNetCNN, testingFeatureLoader))"
      ],
      "execution_count": 67,
      "outputs": [
        {
          "output_type": "stream",
          "text": [
            "0.9259259259259259\n"
          ],
          "name": "stdout"
        }
      ]
    },
    {
      "cell_type": "markdown",
      "metadata": {
        "id": "KbkIYHiejqW4"
      },
      "source": [
        "As we can see above, the new AlexNetCNN model has a testing accuracy of 92.6%. This is 23.5% better than my best model from part 3d. This means that the AlexNet CNN model is way better at classifying the gestures than my model is. This is the benefit and advantage of transfer learning. My model without transfer learning does not perform nearly as well as the AlexNet model does. The AlexNet model is created by experts in the field and is very efficient. Therefore, it yeild better results for our gesture recognition because it has already been optimized. "
      ]
    },
    {
      "cell_type": "markdown",
      "metadata": {
        "id": "Y9LnI0FBVzvt"
      },
      "source": [
        "### 5. Additional Testing [5 pt]\n",
        "As a final step in testing we will be revisiting the sample images that you had collected and submitted at the start of this lab. These sample images should be untouched and will be used to demonstrate how well your model works at identifying your hand guestures. \n",
        "\n",
        "Using the best transfer learning model developed in Part 4. Report the test accuracy on your sample images and how it compares to the test accuracy obtained in Part 4(d)? How well did your model do for the different hand guestures? Provide an explanation for why you think your model performed the way it did?"
      ]
    },
    {
      "cell_type": "code",
      "metadata": {
        "collapsed": true,
        "id": "zKnNfCdBVzvt",
        "colab": {
          "base_uri": "https://localhost:8080/"
        },
        "outputId": "311be2fd-24b1-4106-b380-66ba4a07dc75"
      },
      "source": [
        "dataDirectory2 = '/root/datasets/myImages'\r\n",
        "\r\n",
        "myData = datasets.ImageFolder(os.path.join(dataDirectory2), transform=transformData)\r\n",
        "myDataLoader = torch.utils.data.DataLoader(myData, batch_size=27, shuffle=True)\r\n",
        "\r\n",
        "#Using my best model from part 3d, the fourthModel:\r\n",
        "print(get_accuracy(fourthModel, myDataLoader))"
      ],
      "execution_count": 70,
      "outputs": [
        {
          "output_type": "stream",
          "text": [
            "0.7777777777777778\n"
          ],
          "name": "stdout"
        }
      ]
    },
    {
      "cell_type": "markdown",
      "metadata": {
        "id": "GcVJWXfim7Gb"
      },
      "source": [
        "As you can see above, using my best model from part 3d, the fourth model, I get an accuracy of 77.8% on my own hand gesture data."
      ]
    },
    {
      "cell_type": "code",
      "metadata": {
        "id": "-MyhlLpunYDx"
      },
      "source": [
        "#Now using AlexNet model\r\n",
        "myDataFeatureLoader = torch.utils.data.DataLoader(myData, num_workers=1, batch_size=1, shuffle=True)\r\n",
        "\r\n",
        "#Add my photos in the mainPath using the same procedure as path 4a\r\n",
        "i = 0\r\n",
        "for images, labels in myDataFeatureLoader:\r\n",
        "  features = alexnet.features(images)\r\n",
        "  featuresTensor = torch.from_numpy(features.detach().numpy())\r\n",
        "\r\n",
        "  folderName = mainPath + '/MyData/' + str(letters[labels])\r\n",
        "  if not os.path.isdir(folderName):\r\n",
        "    os.mkdir(folderName)\r\n",
        "  torch.save(featuresTensor.squeeze(0), folderName + '/' + str(i) + '.tensor')\r\n",
        "  i += 1"
      ],
      "execution_count": 71,
      "outputs": []
    },
    {
      "cell_type": "code",
      "metadata": {
        "colab": {
          "base_uri": "https://localhost:8080/"
        },
        "id": "Kkuecd4rpjTR",
        "outputId": "b984c752-4560-4651-c743-0b69e4493ec5"
      },
      "source": [
        "myDatasetFeatures = torchvision.datasets.DatasetFolder(mainPath + '/MyData', loader=torch.load, extensions=('.tensor'))\r\n",
        "myDatasetFeaturesLoader = torch.utils.data.DataLoader(myDatasetFeatures, batch_size=batch_size, num_workers=num_workers, shuffle=True)\r\n",
        "\r\n",
        "print(get_accuracy(myAlexNetCNN, myDatasetFeaturesLoader))"
      ],
      "execution_count": 73,
      "outputs": [
        {
          "output_type": "stream",
          "text": [
            "0.9629629629629629\n"
          ],
          "name": "stdout"
        }
      ]
    },
    {
      "cell_type": "markdown",
      "metadata": {
        "id": "WoBWzLbIrW4Y"
      },
      "source": [
        "The AlexNet Model has an accuracy of 96.3% on my personal hand gesture data. This means that it only gets 1/27 images incorrect. This is extremely good performance. \r\n",
        "\r\n",
        "Compared to my best model from part 3d, the AlexNet model has 18.5% better accuracy. Like I mentioned in part 4d, this means that the AlexNet CNN model is way better at classifying my own hand gestures than my model is. This is the benefit and advantage of transfer learning. My model without transfer learning does not perform nearly as well as the AlexNet model does. The AlexNet model is created by experts in the field and is very efficient. Therefore, it yeild better results for our gesture recognition because it has already been optimized. \r\n",
        "\r\n",
        "I do believe that spending more time on improving my personal model by changing the hyperparamaters and the overall architecture would yield better results than 77.8%. However, in the end, I still believe that AlexNet would yield better results. AlexNet model has been optimized already, and this is why we should use transfer learning in our personal projects."
      ]
    },
    {
      "cell_type": "code",
      "metadata": {
        "id": "N6Entt8_s2j3"
      },
      "source": [
        "%%shell\r\n",
        "jupyter nbconvert --to html /content/Lab_3_Gesture_Recognition.ipynb"
      ],
      "execution_count": null,
      "outputs": []
    }
  ]
}