{
  "nbformat": 4,
  "nbformat_minor": 0,
  "metadata": {
    "colab": {
      "name": "Lab_4_Data_Imputation.ipynb",
      "provenance": [],
      "collapsed_sections": [],
      "toc_visible": true
    },
    "kernelspec": {
      "display_name": "Python 3",
      "language": "python",
      "name": "python3"
    },
    "language_info": {
      "codemirror_mode": {
        "name": "ipython",
        "version": 3
      },
      "file_extension": ".py",
      "mimetype": "text/x-python",
      "name": "python",
      "nbconvert_exporter": "python",
      "pygments_lexer": "ipython3",
      "version": "3.6.3"
    },
    "accelerator": "GPU"
  },
  "cells": [
    {
      "cell_type": "markdown",
      "metadata": {
        "id": "OhtOdxzd1ppr"
      },
      "source": [
        "# Lab 4: Data Imputation using an Autoencoder\n",
        "\n",
        "**Deadline**: Mon, March 01, 5:00pm\n",
        "\n",
        "**Late Penalty**: There is a penalty-free grace period of one hour past the deadline. Any work that is submitted between 1 hour and 24 hours past the deadline will receive a 20% grade deduction. No other late work is accepted. Quercus submission time will be used, not your local computer time. You can submit your labs as many times as you want before the deadline, so please submit often and early.\n",
        "\n",
        "**TA**: Chris Lucasius <christopher.lucasius@mail.utoronto.ca>\n",
        "\n",
        "In this lab, you will build and train an autoencoder to impute (or \"fill in\") missing data. \n",
        "\n",
        "We will be using the\n",
        "Adult Data Set provided by the UCI Machine Learning Repository [1], available \n",
        "at https://archive.ics.uci.edu/ml/datasets/adult.\n",
        "The data set contains census record files of adults, including their\n",
        "age, martial status, the type of work they do, and other features. \n",
        "\n",
        "Normally, people use this data set to build a supervised classification\n",
        "model to classify whether a person is a high income earner.\n",
        "We will not use the dataset for this original intended purpose.\n",
        "\n",
        "Instead, we will perform the task of imputing (or \"filling in\") missing values in the dataset. For example,\n",
        "we may be missing one person's martial status, and another person's age, and\n",
        "a third person's level of education. Our model will predict the missing features \n",
        "based on the information that we do have about each person.\n",
        "\n",
        "We will use a variation of a denoising autoencoder to solve this data imputation\n",
        "problem. Our autoencoder will be trained using inputs that have one categorical feature artificially\n",
        "removed, and the goal of the autoencoder is to correctly reconstruct all features,\n",
        "including the one removed from the input.\n",
        "\n",
        "In the process, you are expected to learn to:\n",
        "\n",
        "1. Clean and process continuous and categorical data for machine learning.\n",
        "2. Implement an autoencoder that takes continuous and categorical (one-hot) inputs.\n",
        "3. Tune the hyperparameters of an autoencoder.\n",
        "4. Use baseline models to help interpret model performance.\n",
        "\n",
        "[1] Dua, D. and Karra Taniskidou, E. (2017). UCI Machine Learning Repository [http://archive.ics.uci.edu/ml]. Irvine, CA: University of California, School of Information and Computer Science.\n",
        "\n",
        "\n",
        "### What to submit\n",
        "\n",
        "Submit a PDF file containing all your code, outputs, and write-up. You can produce a PDF of your Google Colab file by going to File > Print and then save as PDF. The Colab instructions have more information (.html files are also acceptable).\n",
        "\n",
        "Do not submit any other files produced by your code.\n",
        "\n",
        "Include a link to your colab file in your submission.\n"
      ]
    },
    {
      "cell_type": "markdown",
      "metadata": {
        "id": "zbnrp2ig1pps"
      },
      "source": [
        "## Colab Link\n",
        "\n",
        "Include a link to your Colab file here. If you would like the TA to look at your\n",
        "Colab file in case your solutions are cut off, **please make sure that your Colab\n",
        "file is publicly accessible at the time of submission**.\n",
        "\n",
        "Colab Link: https://drive.google.com/file/d/1BO681Cl_zB5_cyyyJSPvS_rZSO8fPkvo/view?usp=sharing"
      ]
    },
    {
      "cell_type": "code",
      "metadata": {
        "collapsed": true,
        "id": "z3p8N43E1ppt"
      },
      "source": [
        "import csv\n",
        "import numpy as np\n",
        "import random\n",
        "import torch\n",
        "import torch.utils.data\n",
        "import tensorflow as tf\n",
        "import matplotlib.pyplot as plt"
      ],
      "execution_count": 29,
      "outputs": []
    },
    {
      "cell_type": "markdown",
      "metadata": {
        "id": "8ROwtHcz1ppx"
      },
      "source": [
        "## Part 0\n",
        "\n",
        "We will be using a package called `pandas` for this assignment. \n",
        "\n",
        "If you are using Colab, `pandas` should already be available.\n",
        "If you are using your own computer,\n",
        "installation instructions for `pandas` are available here: \n",
        "https://pandas.pydata.org/pandas-docs/stable/install.html"
      ]
    },
    {
      "cell_type": "code",
      "metadata": {
        "collapsed": true,
        "id": "IXQ7BP151ppz"
      },
      "source": [
        "import pandas as pd"
      ],
      "execution_count": 30,
      "outputs": []
    },
    {
      "cell_type": "markdown",
      "metadata": {
        "id": "hqXihb4Q1pp2"
      },
      "source": [
        "# Part 1. Data Cleaning [15 pt]\n",
        "\n",
        "The adult.data file is available at `https://archive.ics.uci.edu/ml/machine-learning-databases/adult/adult.data`\n",
        "\n",
        "The function `pd.read_csv` loads the adult.data file into a pandas dataframe.\n",
        "You can read about the pandas documentation for `pd.read_csv` at\n",
        "https://pandas.pydata.org/pandas-docs/stable/reference/api/pandas.read_csv.html"
      ]
    },
    {
      "cell_type": "code",
      "metadata": {
        "collapsed": true,
        "id": "EOMItFKn1pp3"
      },
      "source": [
        "header = ['age', 'work', 'fnlwgt', 'edu', 'yredu', 'marriage', 'occupation',\n",
        " 'relationship', 'race', 'sex', 'capgain', 'caploss', 'workhr', 'country']\n",
        "df = pd.read_csv(\n",
        "    \"https://archive.ics.uci.edu/ml/machine-learning-databases/adult/adult.data\",\n",
        "    names=header,\n",
        "    index_col=False)"
      ],
      "execution_count": 31,
      "outputs": []
    },
    {
      "cell_type": "code",
      "metadata": {
        "colab": {
          "base_uri": "https://localhost:8080/"
        },
        "id": "62Ot405q1pp5",
        "scrolled": true,
        "outputId": "07add4d7-7e7f-40c6-fa18-daea4a01f000"
      },
      "source": [
        "df.shape # there are 32561 rows (records) in the data frame, and 14 columns (features)"
      ],
      "execution_count": 32,
      "outputs": [
        {
          "output_type": "execute_result",
          "data": {
            "text/plain": [
              "(32561, 14)"
            ]
          },
          "metadata": {
            "tags": []
          },
          "execution_count": 32
        }
      ]
    },
    {
      "cell_type": "markdown",
      "metadata": {
        "id": "Tr7YG-QY1pp8"
      },
      "source": [
        "### Part (a) Continuous Features [3 pt]\n",
        "\n",
        "For each of the columns `[\"age\", \"yredu\", \"capgain\", \"caploss\", \"workhr\"]`, report the minimum, maximum, and average value across the dataset. \n",
        "\n",
        "Then, normalize each of the features `[\"age\", \"yredu\", \"capgain\", \"caploss\", \"workhr\"]`\n",
        "so that their values are always between 0 and 1.\n",
        "Make sure that you are actually modifying the dataframe `df`. \n",
        "\n",
        "Like numpy arrays and torch tensors, \n",
        "pandas data frames can be sliced. For example, we can\n",
        "display the first 3 rows of the data frame (3 records) below."
      ]
    },
    {
      "cell_type": "code",
      "metadata": {
        "colab": {
          "base_uri": "https://localhost:8080/",
          "height": 142
        },
        "id": "9evSLsSa1pp9",
        "scrolled": false,
        "outputId": "ef2aab17-02fe-4070-dafd-3a14f50e4979"
      },
      "source": [
        "df[:3] # show the first 3 records"
      ],
      "execution_count": 33,
      "outputs": [
        {
          "output_type": "execute_result",
          "data": {
            "text/html": [
              "<div>\n",
              "<style scoped>\n",
              "    .dataframe tbody tr th:only-of-type {\n",
              "        vertical-align: middle;\n",
              "    }\n",
              "\n",
              "    .dataframe tbody tr th {\n",
              "        vertical-align: top;\n",
              "    }\n",
              "\n",
              "    .dataframe thead th {\n",
              "        text-align: right;\n",
              "    }\n",
              "</style>\n",
              "<table border=\"1\" class=\"dataframe\">\n",
              "  <thead>\n",
              "    <tr style=\"text-align: right;\">\n",
              "      <th></th>\n",
              "      <th>age</th>\n",
              "      <th>work</th>\n",
              "      <th>fnlwgt</th>\n",
              "      <th>edu</th>\n",
              "      <th>yredu</th>\n",
              "      <th>marriage</th>\n",
              "      <th>occupation</th>\n",
              "      <th>relationship</th>\n",
              "      <th>race</th>\n",
              "      <th>sex</th>\n",
              "      <th>capgain</th>\n",
              "      <th>caploss</th>\n",
              "      <th>workhr</th>\n",
              "      <th>country</th>\n",
              "    </tr>\n",
              "  </thead>\n",
              "  <tbody>\n",
              "    <tr>\n",
              "      <th>0</th>\n",
              "      <td>39</td>\n",
              "      <td>State-gov</td>\n",
              "      <td>77516</td>\n",
              "      <td>Bachelors</td>\n",
              "      <td>13</td>\n",
              "      <td>Never-married</td>\n",
              "      <td>Adm-clerical</td>\n",
              "      <td>Not-in-family</td>\n",
              "      <td>White</td>\n",
              "      <td>Male</td>\n",
              "      <td>2174</td>\n",
              "      <td>0</td>\n",
              "      <td>40</td>\n",
              "      <td>United-States</td>\n",
              "    </tr>\n",
              "    <tr>\n",
              "      <th>1</th>\n",
              "      <td>50</td>\n",
              "      <td>Self-emp-not-inc</td>\n",
              "      <td>83311</td>\n",
              "      <td>Bachelors</td>\n",
              "      <td>13</td>\n",
              "      <td>Married-civ-spouse</td>\n",
              "      <td>Exec-managerial</td>\n",
              "      <td>Husband</td>\n",
              "      <td>White</td>\n",
              "      <td>Male</td>\n",
              "      <td>0</td>\n",
              "      <td>0</td>\n",
              "      <td>13</td>\n",
              "      <td>United-States</td>\n",
              "    </tr>\n",
              "    <tr>\n",
              "      <th>2</th>\n",
              "      <td>38</td>\n",
              "      <td>Private</td>\n",
              "      <td>215646</td>\n",
              "      <td>HS-grad</td>\n",
              "      <td>9</td>\n",
              "      <td>Divorced</td>\n",
              "      <td>Handlers-cleaners</td>\n",
              "      <td>Not-in-family</td>\n",
              "      <td>White</td>\n",
              "      <td>Male</td>\n",
              "      <td>0</td>\n",
              "      <td>0</td>\n",
              "      <td>40</td>\n",
              "      <td>United-States</td>\n",
              "    </tr>\n",
              "  </tbody>\n",
              "</table>\n",
              "</div>"
            ],
            "text/plain": [
              "   age               work  fnlwgt  ... caploss  workhr         country\n",
              "0   39          State-gov   77516  ...       0      40   United-States\n",
              "1   50   Self-emp-not-inc   83311  ...       0      13   United-States\n",
              "2   38            Private  215646  ...       0      40   United-States\n",
              "\n",
              "[3 rows x 14 columns]"
            ]
          },
          "metadata": {
            "tags": []
          },
          "execution_count": 33
        }
      ]
    },
    {
      "cell_type": "markdown",
      "metadata": {
        "id": "gBOojI6W1pqA"
      },
      "source": [
        "Alternatively, we can slice based on column names, \n",
        "for example `df[\"race\"]`, `df[\"hr\"]`, or even index multiple columns \n",
        "like below."
      ]
    },
    {
      "cell_type": "code",
      "metadata": {
        "colab": {
          "base_uri": "https://localhost:8080/",
          "height": 142
        },
        "id": "4v6pp73A1pqB",
        "outputId": "3ebc8219-8c8e-4cd3-dfb5-d645e2a076d1"
      },
      "source": [
        "subdf = df[[\"age\", \"yredu\", \"capgain\", \"caploss\", \"workhr\"]]\n",
        "subdf[:3] # show the first 3 records"
      ],
      "execution_count": 34,
      "outputs": [
        {
          "output_type": "execute_result",
          "data": {
            "text/html": [
              "<div>\n",
              "<style scoped>\n",
              "    .dataframe tbody tr th:only-of-type {\n",
              "        vertical-align: middle;\n",
              "    }\n",
              "\n",
              "    .dataframe tbody tr th {\n",
              "        vertical-align: top;\n",
              "    }\n",
              "\n",
              "    .dataframe thead th {\n",
              "        text-align: right;\n",
              "    }\n",
              "</style>\n",
              "<table border=\"1\" class=\"dataframe\">\n",
              "  <thead>\n",
              "    <tr style=\"text-align: right;\">\n",
              "      <th></th>\n",
              "      <th>age</th>\n",
              "      <th>yredu</th>\n",
              "      <th>capgain</th>\n",
              "      <th>caploss</th>\n",
              "      <th>workhr</th>\n",
              "    </tr>\n",
              "  </thead>\n",
              "  <tbody>\n",
              "    <tr>\n",
              "      <th>0</th>\n",
              "      <td>39</td>\n",
              "      <td>13</td>\n",
              "      <td>2174</td>\n",
              "      <td>0</td>\n",
              "      <td>40</td>\n",
              "    </tr>\n",
              "    <tr>\n",
              "      <th>1</th>\n",
              "      <td>50</td>\n",
              "      <td>13</td>\n",
              "      <td>0</td>\n",
              "      <td>0</td>\n",
              "      <td>13</td>\n",
              "    </tr>\n",
              "    <tr>\n",
              "      <th>2</th>\n",
              "      <td>38</td>\n",
              "      <td>9</td>\n",
              "      <td>0</td>\n",
              "      <td>0</td>\n",
              "      <td>40</td>\n",
              "    </tr>\n",
              "  </tbody>\n",
              "</table>\n",
              "</div>"
            ],
            "text/plain": [
              "   age  yredu  capgain  caploss  workhr\n",
              "0   39     13     2174        0      40\n",
              "1   50     13        0        0      13\n",
              "2   38      9        0        0      40"
            ]
          },
          "metadata": {
            "tags": []
          },
          "execution_count": 34
        }
      ]
    },
    {
      "cell_type": "markdown",
      "metadata": {
        "id": "2Nru2P0E1pqD"
      },
      "source": [
        "Numpy works nicely with pandas, like below:"
      ]
    },
    {
      "cell_type": "code",
      "metadata": {
        "colab": {
          "base_uri": "https://localhost:8080/"
        },
        "id": "JXrS6tjp1pqE",
        "outputId": "ce352dfe-14ba-40b8-d026-0fa893a282e1"
      },
      "source": [
        "np.sum(subdf[\"caploss\"])"
      ],
      "execution_count": 35,
      "outputs": [
        {
          "output_type": "execute_result",
          "data": {
            "text/plain": [
              "2842700"
            ]
          },
          "metadata": {
            "tags": []
          },
          "execution_count": 35
        }
      ]
    },
    {
      "cell_type": "markdown",
      "metadata": {
        "id": "Mv5mbxDM1pqH"
      },
      "source": [
        "Just like numpy arrays, you can modify\n",
        "entire columns of data rather than one scalar element at a time.\n",
        "For example, the code  \n",
        "\n",
        "`df[\"age\"] = df[\"age\"] + 1` \n",
        "\n",
        "would increment everyone's age by 1."
      ]
    },
    {
      "cell_type": "code",
      "metadata": {
        "colab": {
          "base_uri": "https://localhost:8080/"
        },
        "collapsed": true,
        "id": "k5rlWD7-1pqH",
        "outputId": "0f4dad70-574c-49ba-f82e-47876823b85f"
      },
      "source": [
        "#For each of the columns [\"age\", \"yredu\", \"capgain\", \"caploss\", \"workhr\"], report the minimum, maximum, and average value across the dataset.\r\n",
        "def getMinMaxAvgInformation(colName):\r\n",
        "  minCalculation = min(subdf[colName])\r\n",
        "  maxCalculation = max(subdf[colName])\r\n",
        "  avgCalculation = sum(subdf[colName])/len(subdf[colName])\r\n",
        "\r\n",
        "  print(\"The minimum\", colName, \"is\", minCalculation)\r\n",
        "  print(\"The maximum\", colName, \"is\", maxCalculation)\r\n",
        "  print(\"The average\", colName, \"is\", avgCalculation)\r\n",
        "  print('\\n')\r\n",
        "\r\n",
        "getMinMaxAvgInformation('age')\r\n",
        "getMinMaxAvgInformation('yredu')\r\n",
        "getMinMaxAvgInformation('capgain')\r\n",
        "getMinMaxAvgInformation('caploss')\r\n",
        "getMinMaxAvgInformation('workhr')"
      ],
      "execution_count": 36,
      "outputs": [
        {
          "output_type": "stream",
          "text": [
            "The minimum age is 17\n",
            "The maximum age is 90\n",
            "The average age is 38.58164675532078\n",
            "\n",
            "\n",
            "The minimum yredu is 1\n",
            "The maximum yredu is 16\n",
            "The average yredu is 10.0806793403151\n",
            "\n",
            "\n",
            "The minimum capgain is 0\n",
            "The maximum capgain is 99999\n",
            "The average capgain is 1077.6488437087312\n",
            "\n",
            "\n",
            "The minimum caploss is 0\n",
            "The maximum caploss is 4356\n",
            "The average caploss is 87.303829734959\n",
            "\n",
            "\n",
            "The minimum workhr is 1\n",
            "The maximum workhr is 99\n",
            "The average workhr is 40.437455852092995\n",
            "\n",
            "\n"
          ],
          "name": "stdout"
        }
      ]
    },
    {
      "cell_type": "code",
      "metadata": {
        "id": "BNNJ5gpp65BF"
      },
      "source": [
        "#Then, normalize each of the features [\"age\", \"yredu\", \"capgain\", \"caploss\", \"workhr\"] so that their values are always between 0 and 1. \r\n",
        "#Make sure that you are actually modifying the dataframe df.\r\n",
        "\r\n",
        "df[\"age\"] = (df[\"age\"] - (df[\"age\"]).min())/((df[\"age\"]).max() - (df[\"age\"]).min())\r\n",
        "df[\"yredu\"] = (df[\"yredu\"] - (df[\"yredu\"]).min())/((df[\"yredu\"]).max() - (df[\"yredu\"]).min())\r\n",
        "df[\"capgain\"] = (df[\"capgain\"] - (df[\"capgain\"]).min())/((df[\"capgain\"]).max() - (df[\"capgain\"]).min())\r\n",
        "df[\"caploss\"] = (df[\"caploss\"] - (df[\"caploss\"]).min())/((df[\"caploss\"]).max() - (df[\"caploss\"]).min())\r\n",
        "df[\"workhr\"] = (df[\"workhr\"] - (df[\"workhr\"]).min())/((df[\"workhr\"]).max() - (df[\"workhr\"]).min())"
      ],
      "execution_count": 37,
      "outputs": []
    },
    {
      "cell_type": "markdown",
      "metadata": {
        "id": "qbfMly4R1pqK"
      },
      "source": [
        "### Part (b) Categorical Features [1 pt]\n",
        "\n",
        "What percentage of people in our data set are male? Note that the data labels all have an unfortunate space in the beginning, e.g. \" Male\" instead of \"Male\".\n",
        "\n",
        "What percentage of people in our data set are female?"
      ]
    },
    {
      "cell_type": "code",
      "metadata": {
        "colab": {
          "base_uri": "https://localhost:8080/"
        },
        "id": "DjAjcsB_1pqK",
        "outputId": "3689f88e-a35a-430a-9b9a-924191cfa012"
      },
      "source": [
        "# hint: you can do something like this in pandas\n",
        "numMales = sum(df[\"sex\"] == \" Male\")\n",
        "ans1 = (numMales*100)/len(df[\"sex\"])\n",
        "\n",
        "numFemales = sum(df[\"sex\"] == \" Female\")\n",
        "ans2 = (numFemales*100)/len(df[\"sex\"])\n",
        "\n",
        "print(\"The percentage of people that are males in our dataset is:\", ans1, \"%\")\n",
        "print(\"The percentage of people that are females in our dataset is:\", ans2, \"%\")"
      ],
      "execution_count": 38,
      "outputs": [
        {
          "output_type": "stream",
          "text": [
            "The percentage of people that are males in our dataset is: 66.92054912318417 %\n",
            "The percentage of people that are females in our dataset is: 33.07945087681582 %\n"
          ],
          "name": "stdout"
        }
      ]
    },
    {
      "cell_type": "markdown",
      "metadata": {
        "id": "eGVw7pqL1pqN"
      },
      "source": [
        "### Part (c) [2 pt]\n",
        "\n",
        "Before proceeding, we will modify our data frame in a couple more ways:\n",
        "\n",
        "1. We will restrict ourselves to using a subset of the features (to simplify our autoencoder)\n",
        "2. We will remove any records (rows) already containing missing values, and store them in a second dataframe. We will only use records without missing values to train our autoencoder.\n",
        "\n",
        "Both of these steps are done for you, below.\n",
        "\n",
        "How many records contained missing features? What percentage of records were removed?"
      ]
    },
    {
      "cell_type": "code",
      "metadata": {
        "collapsed": true,
        "id": "z6ewPUdv1pqO"
      },
      "source": [
        "contcols = [\"age\", \"yredu\", \"capgain\", \"caploss\", \"workhr\"]\n",
        "catcols = [\"work\", \"marriage\", \"occupation\", \"edu\", \"relationship\", \"sex\"]\n",
        "features = contcols + catcols\n",
        "df = df[features]"
      ],
      "execution_count": 39,
      "outputs": []
    },
    {
      "cell_type": "code",
      "metadata": {
        "collapsed": true,
        "id": "fjdVll5a1pqQ"
      },
      "source": [
        "missing = pd.concat([df[c] == \" ?\" for c in catcols], axis=1).any(axis=1)\n",
        "df_with_missing = df[missing]\n",
        "df_not_missing = df[~missing]"
      ],
      "execution_count": 40,
      "outputs": []
    },
    {
      "cell_type": "code",
      "metadata": {
        "colab": {
          "base_uri": "https://localhost:8080/"
        },
        "id": "DnoR3fFex6Un",
        "outputId": "8126f496-a379-4856-d8a2-0da5d97057cf"
      },
      "source": [
        "print(len(df_with_missing), \"records contained missing information\")\r\n",
        "print((len(df_with_missing)*100/len(df)), \"% of the records were removed\")"
      ],
      "execution_count": 41,
      "outputs": [
        {
          "output_type": "stream",
          "text": [
            "1843 records contained missing information\n",
            "5.660145572924664 % of the records were removed\n"
          ],
          "name": "stdout"
        }
      ]
    },
    {
      "cell_type": "markdown",
      "metadata": {
        "id": "XuEpndTQ1pqU"
      },
      "source": [
        "### Part (d) One-Hot Encoding [1 pt]\n",
        "\n",
        "What are all the possible values of the feature \"work\" in `df_not_missing`? You may find the Python function `set` useful."
      ]
    },
    {
      "cell_type": "code",
      "metadata": {
        "colab": {
          "base_uri": "https://localhost:8080/"
        },
        "collapsed": true,
        "id": "iKFh4owE1pqV",
        "outputId": "03f26a18-31b6-4b95-e73a-25c3abe7bc5a"
      },
      "source": [
        "workTypes = set()\r\n",
        "\r\n",
        "for x in df_not_missing['work']:\r\n",
        "  workTypes.add(x)\r\n",
        "\r\n",
        "print(\"All the possible values of the feature 'work' in df_not_missing are: \")\r\n",
        "for c in workTypes:\r\n",
        "  print(c)"
      ],
      "execution_count": 42,
      "outputs": [
        {
          "output_type": "stream",
          "text": [
            "All the possible values of the feature 'work' in df_not_missing are: \n",
            " Federal-gov\n",
            " Self-emp-inc\n",
            " Local-gov\n",
            " Without-pay\n",
            " State-gov\n",
            " Self-emp-not-inc\n",
            " Private\n"
          ],
          "name": "stdout"
        }
      ]
    },
    {
      "cell_type": "markdown",
      "metadata": {
        "id": "COv3HaKr1pqY"
      },
      "source": [
        "We will be using a one-hot encoding to represent each of the categorical variables.\n",
        "Our autoencoder will be trained using these one-hot encodings.\n",
        "\n",
        "We will use the pandas function `get_dummies` to produce one-hot encodings\n",
        "for all of the categorical variables in `df_not_missing`. "
      ]
    },
    {
      "cell_type": "code",
      "metadata": {
        "collapsed": true,
        "id": "eKlSYmJg1pqZ"
      },
      "source": [
        "data = pd.get_dummies(df_not_missing)"
      ],
      "execution_count": 43,
      "outputs": []
    },
    {
      "cell_type": "code",
      "metadata": {
        "colab": {
          "base_uri": "https://localhost:8080/",
          "height": 230
        },
        "collapsed": true,
        "id": "3y7nTZ7H1pqb",
        "scrolled": true,
        "outputId": "e00d29a0-9017-4899-e87a-25a698c5ea32"
      },
      "source": [
        "data[:3]"
      ],
      "execution_count": 44,
      "outputs": [
        {
          "output_type": "execute_result",
          "data": {
            "text/html": [
              "<div>\n",
              "<style scoped>\n",
              "    .dataframe tbody tr th:only-of-type {\n",
              "        vertical-align: middle;\n",
              "    }\n",
              "\n",
              "    .dataframe tbody tr th {\n",
              "        vertical-align: top;\n",
              "    }\n",
              "\n",
              "    .dataframe thead th {\n",
              "        text-align: right;\n",
              "    }\n",
              "</style>\n",
              "<table border=\"1\" class=\"dataframe\">\n",
              "  <thead>\n",
              "    <tr style=\"text-align: right;\">\n",
              "      <th></th>\n",
              "      <th>age</th>\n",
              "      <th>yredu</th>\n",
              "      <th>capgain</th>\n",
              "      <th>caploss</th>\n",
              "      <th>workhr</th>\n",
              "      <th>work_ Federal-gov</th>\n",
              "      <th>work_ Local-gov</th>\n",
              "      <th>work_ Private</th>\n",
              "      <th>work_ Self-emp-inc</th>\n",
              "      <th>work_ Self-emp-not-inc</th>\n",
              "      <th>work_ State-gov</th>\n",
              "      <th>work_ Without-pay</th>\n",
              "      <th>marriage_ Divorced</th>\n",
              "      <th>marriage_ Married-AF-spouse</th>\n",
              "      <th>marriage_ Married-civ-spouse</th>\n",
              "      <th>marriage_ Married-spouse-absent</th>\n",
              "      <th>marriage_ Never-married</th>\n",
              "      <th>marriage_ Separated</th>\n",
              "      <th>marriage_ Widowed</th>\n",
              "      <th>occupation_ Adm-clerical</th>\n",
              "      <th>occupation_ Armed-Forces</th>\n",
              "      <th>occupation_ Craft-repair</th>\n",
              "      <th>occupation_ Exec-managerial</th>\n",
              "      <th>occupation_ Farming-fishing</th>\n",
              "      <th>occupation_ Handlers-cleaners</th>\n",
              "      <th>occupation_ Machine-op-inspct</th>\n",
              "      <th>occupation_ Other-service</th>\n",
              "      <th>occupation_ Priv-house-serv</th>\n",
              "      <th>occupation_ Prof-specialty</th>\n",
              "      <th>occupation_ Protective-serv</th>\n",
              "      <th>occupation_ Sales</th>\n",
              "      <th>occupation_ Tech-support</th>\n",
              "      <th>occupation_ Transport-moving</th>\n",
              "      <th>edu_ 10th</th>\n",
              "      <th>edu_ 11th</th>\n",
              "      <th>edu_ 12th</th>\n",
              "      <th>edu_ 1st-4th</th>\n",
              "      <th>edu_ 5th-6th</th>\n",
              "      <th>edu_ 7th-8th</th>\n",
              "      <th>edu_ 9th</th>\n",
              "      <th>edu_ Assoc-acdm</th>\n",
              "      <th>edu_ Assoc-voc</th>\n",
              "      <th>edu_ Bachelors</th>\n",
              "      <th>edu_ Doctorate</th>\n",
              "      <th>edu_ HS-grad</th>\n",
              "      <th>edu_ Masters</th>\n",
              "      <th>edu_ Preschool</th>\n",
              "      <th>edu_ Prof-school</th>\n",
              "      <th>edu_ Some-college</th>\n",
              "      <th>relationship_ Husband</th>\n",
              "      <th>relationship_ Not-in-family</th>\n",
              "      <th>relationship_ Other-relative</th>\n",
              "      <th>relationship_ Own-child</th>\n",
              "      <th>relationship_ Unmarried</th>\n",
              "      <th>relationship_ Wife</th>\n",
              "      <th>sex_ Female</th>\n",
              "      <th>sex_ Male</th>\n",
              "    </tr>\n",
              "  </thead>\n",
              "  <tbody>\n",
              "    <tr>\n",
              "      <th>0</th>\n",
              "      <td>0.301370</td>\n",
              "      <td>0.800000</td>\n",
              "      <td>0.02174</td>\n",
              "      <td>0.0</td>\n",
              "      <td>0.397959</td>\n",
              "      <td>0</td>\n",
              "      <td>0</td>\n",
              "      <td>0</td>\n",
              "      <td>0</td>\n",
              "      <td>0</td>\n",
              "      <td>1</td>\n",
              "      <td>0</td>\n",
              "      <td>0</td>\n",
              "      <td>0</td>\n",
              "      <td>0</td>\n",
              "      <td>0</td>\n",
              "      <td>1</td>\n",
              "      <td>0</td>\n",
              "      <td>0</td>\n",
              "      <td>1</td>\n",
              "      <td>0</td>\n",
              "      <td>0</td>\n",
              "      <td>0</td>\n",
              "      <td>0</td>\n",
              "      <td>0</td>\n",
              "      <td>0</td>\n",
              "      <td>0</td>\n",
              "      <td>0</td>\n",
              "      <td>0</td>\n",
              "      <td>0</td>\n",
              "      <td>0</td>\n",
              "      <td>0</td>\n",
              "      <td>0</td>\n",
              "      <td>0</td>\n",
              "      <td>0</td>\n",
              "      <td>0</td>\n",
              "      <td>0</td>\n",
              "      <td>0</td>\n",
              "      <td>0</td>\n",
              "      <td>0</td>\n",
              "      <td>0</td>\n",
              "      <td>0</td>\n",
              "      <td>1</td>\n",
              "      <td>0</td>\n",
              "      <td>0</td>\n",
              "      <td>0</td>\n",
              "      <td>0</td>\n",
              "      <td>0</td>\n",
              "      <td>0</td>\n",
              "      <td>0</td>\n",
              "      <td>1</td>\n",
              "      <td>0</td>\n",
              "      <td>0</td>\n",
              "      <td>0</td>\n",
              "      <td>0</td>\n",
              "      <td>0</td>\n",
              "      <td>1</td>\n",
              "    </tr>\n",
              "    <tr>\n",
              "      <th>1</th>\n",
              "      <td>0.452055</td>\n",
              "      <td>0.800000</td>\n",
              "      <td>0.00000</td>\n",
              "      <td>0.0</td>\n",
              "      <td>0.122449</td>\n",
              "      <td>0</td>\n",
              "      <td>0</td>\n",
              "      <td>0</td>\n",
              "      <td>0</td>\n",
              "      <td>1</td>\n",
              "      <td>0</td>\n",
              "      <td>0</td>\n",
              "      <td>0</td>\n",
              "      <td>0</td>\n",
              "      <td>1</td>\n",
              "      <td>0</td>\n",
              "      <td>0</td>\n",
              "      <td>0</td>\n",
              "      <td>0</td>\n",
              "      <td>0</td>\n",
              "      <td>0</td>\n",
              "      <td>0</td>\n",
              "      <td>1</td>\n",
              "      <td>0</td>\n",
              "      <td>0</td>\n",
              "      <td>0</td>\n",
              "      <td>0</td>\n",
              "      <td>0</td>\n",
              "      <td>0</td>\n",
              "      <td>0</td>\n",
              "      <td>0</td>\n",
              "      <td>0</td>\n",
              "      <td>0</td>\n",
              "      <td>0</td>\n",
              "      <td>0</td>\n",
              "      <td>0</td>\n",
              "      <td>0</td>\n",
              "      <td>0</td>\n",
              "      <td>0</td>\n",
              "      <td>0</td>\n",
              "      <td>0</td>\n",
              "      <td>0</td>\n",
              "      <td>1</td>\n",
              "      <td>0</td>\n",
              "      <td>0</td>\n",
              "      <td>0</td>\n",
              "      <td>0</td>\n",
              "      <td>0</td>\n",
              "      <td>0</td>\n",
              "      <td>1</td>\n",
              "      <td>0</td>\n",
              "      <td>0</td>\n",
              "      <td>0</td>\n",
              "      <td>0</td>\n",
              "      <td>0</td>\n",
              "      <td>0</td>\n",
              "      <td>1</td>\n",
              "    </tr>\n",
              "    <tr>\n",
              "      <th>2</th>\n",
              "      <td>0.287671</td>\n",
              "      <td>0.533333</td>\n",
              "      <td>0.00000</td>\n",
              "      <td>0.0</td>\n",
              "      <td>0.397959</td>\n",
              "      <td>0</td>\n",
              "      <td>0</td>\n",
              "      <td>1</td>\n",
              "      <td>0</td>\n",
              "      <td>0</td>\n",
              "      <td>0</td>\n",
              "      <td>0</td>\n",
              "      <td>1</td>\n",
              "      <td>0</td>\n",
              "      <td>0</td>\n",
              "      <td>0</td>\n",
              "      <td>0</td>\n",
              "      <td>0</td>\n",
              "      <td>0</td>\n",
              "      <td>0</td>\n",
              "      <td>0</td>\n",
              "      <td>0</td>\n",
              "      <td>0</td>\n",
              "      <td>0</td>\n",
              "      <td>1</td>\n",
              "      <td>0</td>\n",
              "      <td>0</td>\n",
              "      <td>0</td>\n",
              "      <td>0</td>\n",
              "      <td>0</td>\n",
              "      <td>0</td>\n",
              "      <td>0</td>\n",
              "      <td>0</td>\n",
              "      <td>0</td>\n",
              "      <td>0</td>\n",
              "      <td>0</td>\n",
              "      <td>0</td>\n",
              "      <td>0</td>\n",
              "      <td>0</td>\n",
              "      <td>0</td>\n",
              "      <td>0</td>\n",
              "      <td>0</td>\n",
              "      <td>0</td>\n",
              "      <td>0</td>\n",
              "      <td>1</td>\n",
              "      <td>0</td>\n",
              "      <td>0</td>\n",
              "      <td>0</td>\n",
              "      <td>0</td>\n",
              "      <td>0</td>\n",
              "      <td>1</td>\n",
              "      <td>0</td>\n",
              "      <td>0</td>\n",
              "      <td>0</td>\n",
              "      <td>0</td>\n",
              "      <td>0</td>\n",
              "      <td>1</td>\n",
              "    </tr>\n",
              "  </tbody>\n",
              "</table>\n",
              "</div>"
            ],
            "text/plain": [
              "        age     yredu  capgain  ...  relationship_ Wife  sex_ Female  sex_ Male\n",
              "0  0.301370  0.800000  0.02174  ...                   0            0          1\n",
              "1  0.452055  0.800000  0.00000  ...                   0            0          1\n",
              "2  0.287671  0.533333  0.00000  ...                   0            0          1\n",
              "\n",
              "[3 rows x 57 columns]"
            ]
          },
          "metadata": {
            "tags": []
          },
          "execution_count": 44
        }
      ]
    },
    {
      "cell_type": "markdown",
      "metadata": {
        "id": "HwjDg1uM1pqe"
      },
      "source": [
        "### Part (e) One-Hot Encoding [2 pt]\n",
        "\n",
        "The dataframe `data` contains the cleaned and normalized data that we will use to train our denoising autoencoder.\n",
        "\n",
        "How many **columns** (features) are in the dataframe `data`?\n",
        "\n",
        "Briefly explain where that number come from."
      ]
    },
    {
      "cell_type": "code",
      "metadata": {
        "colab": {
          "base_uri": "https://localhost:8080/"
        },
        "collapsed": true,
        "id": "yjZ5N0Tl1pqf",
        "outputId": "fdc45eb7-2a37-4876-85ae-768918d7272c"
      },
      "source": [
        "data.shape"
      ],
      "execution_count": 45,
      "outputs": [
        {
          "output_type": "execute_result",
          "data": {
            "text/plain": [
              "(30718, 57)"
            ]
          },
          "metadata": {
            "tags": []
          },
          "execution_count": 45
        }
      ]
    },
    {
      "cell_type": "markdown",
      "metadata": {
        "id": "K-Nb2FDJ6JN2"
      },
      "source": [
        "There are 57 columns or features in the dataframe 'data'. The function, 'get_dummies', transferred strings in data set to values of 0 and 1. Now we have one column representing each possible outcome for things like work. Now we only need 0s and 1s to represent all the information."
      ]
    },
    {
      "cell_type": "markdown",
      "metadata": {
        "id": "OEJ0Ci3l1pqh"
      },
      "source": [
        "### Part (f) One-Hot Conversion [3 pt]\n",
        "\n",
        "We will convert the pandas data frame `data` into numpy, so that\n",
        "it can be further converted into a PyTorch tensor.\n",
        "However, in doing so, we lose the column label information that\n",
        "a panda data frame automatically stores.\n",
        "\n",
        "Complete the function `get_categorical_value` that will return\n",
        "the named value of a feature given a one-hot embedding.\n",
        "You may find the global variables `cat_index` and `cat_values`\n",
        "useful. (Display them and figure out what they are first.)\n",
        "\n",
        "We will need this function in the next part of the lab\n",
        "to interpret our autoencoder outputs. So, the input\n",
        "to our function `get_categorical_values` might not \n",
        "actually be \"one-hot\" -- the input may instead \n",
        "contain real-valued predictions from our neural network."
      ]
    },
    {
      "cell_type": "code",
      "metadata": {
        "collapsed": true,
        "id": "ZmovX6gu1pqi"
      },
      "source": [
        "datanp = data.values.astype(np.float32)"
      ],
      "execution_count": 46,
      "outputs": []
    },
    {
      "cell_type": "code",
      "metadata": {
        "collapsed": true,
        "id": "YRIa5MBd1pql"
      },
      "source": [
        "cat_index = {}  # Mapping of feature -> start index of feature in a record\n",
        "cat_values = {} # Mapping of feature -> list of categorical values the feature can take\n",
        "\n",
        "# build up the cat_index and cat_values dictionary\n",
        "for i, header in enumerate(data.keys()):\n",
        "    if \"_\" in header: # categorical header\n",
        "        feature, value = header.split()\n",
        "        feature = feature[:-1] # remove the last char; it is always an underscore\n",
        "        if feature not in cat_index:\n",
        "            cat_index[feature] = i\n",
        "            cat_values[feature] = [value]\n",
        "        else:\n",
        "            cat_values[feature].append(value)\n",
        "\n",
        "def get_onehot(record, feature):\n",
        "    \"\"\"\n",
        "    Return the portion of `record` that is the one-hot encoding\n",
        "    of `feature`. For example, since the feature \"work\" is stored\n",
        "    in the indices [5:12] in each record, calling `get_range(record, \"work\")`\n",
        "    is equivalent to accessing `record[5:12]`.\n",
        "    \n",
        "    Args:\n",
        "        - record: a numpy array representing one record, formatted\n",
        "                  the same way as a row in `data.np`\n",
        "        - feature: a string, should be an element of `catcols`\n",
        "    \"\"\"\n",
        "    start_index = cat_index[feature]\n",
        "    stop_index = cat_index[feature] + len(cat_values[feature])\n",
        "    return record[start_index:stop_index]\n",
        "\n",
        "def get_categorical_value(onehot, feature):\n",
        "    \"\"\"\n",
        "    Return the categorical value name of a feature given\n",
        "    a one-hot vector representing the feature.\n",
        "    \n",
        "    Args:\n",
        "        - onehot: a numpy array one-hot representation of the feature\n",
        "        - feature: a string, should be an element of `catcols`\n",
        "        \n",
        "    Examples:\n",
        "    \n",
        "    >>> get_categorical_value(np.array([0., 0., 0., 0., 0., 1., 0.]), \"work\")\n",
        "    'State-gov'\n",
        "    >>> get_categorical_value(np.array([0.1, 0., 1.1, 0.2, 0., 1., 0.]), \"work\")\n",
        "    'Private'\n",
        "    \"\"\"\n",
        "    # <----- TODO: WRITE YOUR CODE HERE ----->\n",
        "    # You may find the variables `cat_index` and `cat_values` \n",
        "    # (created above) useful.\n",
        "    index = np.where(onehot == onehot.max())[0][0]\n",
        "    return cat_values[feature][index]"
      ],
      "execution_count": 47,
      "outputs": []
    },
    {
      "cell_type": "code",
      "metadata": {
        "colab": {
          "base_uri": "https://localhost:8080/"
        },
        "id": "x7WFKfhF91hR",
        "outputId": "8def3a99-457d-4e3d-f2b6-5926992260e7"
      },
      "source": [
        "print(\"Cat_index information:\", cat_index, \"\\n\")\r\n",
        "print(\"Cat_values information:\", cat_values)"
      ],
      "execution_count": 48,
      "outputs": [
        {
          "output_type": "stream",
          "text": [
            "Cat_index information: {'work': 5, 'marriage': 12, 'occupation': 19, 'edu': 33, 'relationship': 49, 'sex': 55} \n",
            "\n",
            "Cat_values information: {'work': ['Federal-gov', 'Local-gov', 'Private', 'Self-emp-inc', 'Self-emp-not-inc', 'State-gov', 'Without-pay'], 'marriage': ['Divorced', 'Married-AF-spouse', 'Married-civ-spouse', 'Married-spouse-absent', 'Never-married', 'Separated', 'Widowed'], 'occupation': ['Adm-clerical', 'Armed-Forces', 'Craft-repair', 'Exec-managerial', 'Farming-fishing', 'Handlers-cleaners', 'Machine-op-inspct', 'Other-service', 'Priv-house-serv', 'Prof-specialty', 'Protective-serv', 'Sales', 'Tech-support', 'Transport-moving'], 'edu': ['10th', '11th', '12th', '1st-4th', '5th-6th', '7th-8th', '9th', 'Assoc-acdm', 'Assoc-voc', 'Bachelors', 'Doctorate', 'HS-grad', 'Masters', 'Preschool', 'Prof-school', 'Some-college'], 'relationship': ['Husband', 'Not-in-family', 'Other-relative', 'Own-child', 'Unmarried', 'Wife'], 'sex': ['Female', 'Male']}\n"
          ],
          "name": "stdout"
        }
      ]
    },
    {
      "cell_type": "code",
      "metadata": {
        "collapsed": true,
        "id": "T_XXxZdh1pqv"
      },
      "source": [
        "# more useful code, used during training, that depends on the function\n",
        "# you write above\n",
        "\n",
        "def get_feature(record, feature):\n",
        "    \"\"\"\n",
        "    Return the categorical feature value of a record\n",
        "    \"\"\"\n",
        "    onehot = get_onehot(record, feature)\n",
        "    return get_categorical_value(onehot, feature)\n",
        "\n",
        "def get_features(record):\n",
        "    \"\"\"\n",
        "    Return a dictionary of all categorical feature values of a record\n",
        "    \"\"\"\n",
        "    return { f: get_feature(record, f) for f in catcols }"
      ],
      "execution_count": 49,
      "outputs": []
    },
    {
      "cell_type": "markdown",
      "metadata": {
        "id": "1_5ZZR_J1pqy"
      },
      "source": [
        "### Part (g) Train/Test Split [3 pt]\n",
        "\n",
        "Randomly split the data into approximately 70% training, 15% validation and 15% test.\n",
        "\n",
        "Report the number of items in your training, validation, and test set."
      ]
    },
    {
      "cell_type": "code",
      "metadata": {
        "colab": {
          "base_uri": "https://localhost:8080/"
        },
        "collapsed": true,
        "id": "TE_fTJJf1pqz",
        "outputId": "6e6b1757-41b5-46cb-e7e1-f1ae2777d05a"
      },
      "source": [
        "# set the numpy seed for reproducibility\n",
        "# https://docs.scipy.org/doc/numpy/reference/generated/numpy.random.seed.html\n",
        "np.random.seed(50)\n",
        "\n",
        "# todo\n",
        "indices = np.arange(len(data))\n",
        "np.random.shuffle(indices)\n",
        "\n",
        "dataSplit1 = int(len(indices) * 0.70)\n",
        "dataSplit2 = int(len(indices) * 0.85)\n",
        "\n",
        "trainingIndices = indices[:dataSplit1]\n",
        "validationIndices = indices[dataSplit1:dataSplit2]\n",
        "testingIndices = indices[dataSplit2:]\n",
        "\n",
        "trainingData = datanp[trainingIndices]\n",
        "validationData = datanp[validationIndices]\n",
        "testingData = datanp[testingIndices]\n",
        "\n",
        "print(\"The length of training data is:\", len(trainingData))\n",
        "print(\"The length of validation data is:\", len(validationIndices))\n",
        "print(\"The length of testing data is:\", len(testingData))"
      ],
      "execution_count": 50,
      "outputs": [
        {
          "output_type": "stream",
          "text": [
            "The length of training data is: 21502\n",
            "The length of validation data is: 4608\n",
            "The length of testing data is: 4608\n"
          ],
          "name": "stdout"
        }
      ]
    },
    {
      "cell_type": "markdown",
      "metadata": {
        "id": "h9wJAKOI1pq3"
      },
      "source": [
        "## Part 2. Model Setup [5 pt]\n",
        "\n",
        "### Part (a) [4 pt]\n",
        "\n",
        "Design a fully-connected autoencoder by modifying the `encoder` and `decoder`\n",
        "below.\n",
        "\n",
        "The input to this autoencoder will be the features of the `data`, with\n",
        "one categorical feature recorded as \"missing\". The output of the autoencoder\n",
        "should be the reconstruction of the same features, but with the missing\n",
        "value filled in.\n",
        "\n",
        "**Note**: Do not reduce the dimensionality of the input too much!\n",
        "The output of your embedding is expected to contain information \n",
        "about ~11 features."
      ]
    },
    {
      "cell_type": "code",
      "metadata": {
        "collapsed": true,
        "id": "f3F--tdn1pq3"
      },
      "source": [
        "from torch import nn\n",
        "\n",
        "class AutoEncoder(nn.Module):\n",
        "    def __init__(self):\n",
        "        super(AutoEncoder, self).__init__()\n",
        "        self.encoder = nn.Sequential(\n",
        "            nn.Linear(57, 57), # TODO -- FILL OUT THE CODE HERE!\n",
        "            nn.ReLU(),\n",
        "            nn.Linear(57, 30),\n",
        "            nn.ReLU(),\n",
        "            nn.Linear(30, 15)\n",
        "        )\n",
        "        self.decoder = nn.Sequential(\n",
        "            nn.Linear(15, 30), # TODO -- FILL OUT THE CODE HERE!\n",
        "            nn.ReLU(),\n",
        "            nn.Linear(30, 57),\n",
        "            nn.ReLU(),\n",
        "            nn.Linear(57, 57),\n",
        "            nn.Sigmoid() # get to the range (0, 1)\n",
        "        )\n",
        "\n",
        "    def forward(self, x):\n",
        "        x = self.encoder(x)\n",
        "        x = self.decoder(x)\n",
        "        return x"
      ],
      "execution_count": 51,
      "outputs": []
    },
    {
      "cell_type": "markdown",
      "metadata": {
        "id": "kuEzTSAv1pq6"
      },
      "source": [
        "### Part (b) [1 pt]\n",
        "\n",
        "Explain why there is a sigmoid activation in the last step of the decoder.\n",
        "\n",
        "(**Note**: the values inside the data frame `data` and the training code in Part 3 might be helpful.)"
      ]
    },
    {
      "cell_type": "code",
      "metadata": {
        "collapsed": true,
        "id": "HFLd0S4H1pq6"
      },
      "source": [
        "'''\r\n",
        "The sigmoid activation in the last step of the decoder forces the output returned to be values\r\n",
        "between 0 to 1. This is neccesarry because the data in the columns is normalized as well.\r\n",
        "Therefore, we want the output of the encoder to match this.\r\n",
        "'''"
      ],
      "execution_count": null,
      "outputs": []
    },
    {
      "cell_type": "markdown",
      "metadata": {
        "id": "jYwqFWVl1pq8"
      },
      "source": [
        "## Part 3. Training [18] \n",
        "\n",
        "### Part (a) [6 pt]\n",
        "\n",
        "We will train our autoencoder in the following way:\n",
        "\n",
        "- In each iteration, we will hide one of the categorical features using the `zero_out_random_features` function\n",
        "- We will pass the data with one missing feature through the autoencoder, and obtain a reconstruction\n",
        "- We will check how close the reconstruction is compared to the original data -- including the value of the missing feature\n",
        "\n",
        "Complete the code to train the autoencoder, and plot the training and validation loss every few iterations.\n",
        "You may also want to plot training and validation \"accuracy\" every few iterations, as we will define in\n",
        "part (b). You may also want to checkpoint your model every few iterations or epochs.\n",
        "\n",
        "Use `nn.MSELoss()` as your loss function. (Side note: you might recognize that this loss function is not\n",
        "ideal for this problem, but we will use it anyway.)"
      ]
    },
    {
      "cell_type": "code",
      "metadata": {
        "collapsed": true,
        "id": "IDQA_-dS1pq9"
      },
      "source": [
        "def zero_out_feature(records, feature):\n",
        "    \"\"\" Set the feature missing in records, by setting the appropriate\n",
        "    columns of records to 0\n",
        "    \"\"\"\n",
        "    start_index = cat_index[feature]\n",
        "    stop_index = cat_index[feature] + len(cat_values[feature])\n",
        "    records[:, start_index:stop_index] = 0\n",
        "    return records\n",
        "\n",
        "def zero_out_random_feature(records):\n",
        "    \"\"\" Set one random feature missing in records, by setting the \n",
        "    appropriate columns of records to 0\n",
        "    \"\"\"\n",
        "    return zero_out_feature(records, random.choice(catcols))\n",
        "\n",
        "def train(model, train_loader, valid_loader, batch_size = 128, num_epochs=5, learning_rate=1e-4):\n",
        "    \"\"\" Training loop. You should update this.\"\"\"\n",
        "    torch.manual_seed(42)\n",
        "    criterion = nn.MSELoss()\n",
        "    optimizer = torch.optim.Adam(model.parameters(), lr=learning_rate)\n",
        "\n",
        "    #Store the accuracy in the array\n",
        "    trainingAccuracy = []\n",
        "    validationAccuracy = []\n",
        "\n",
        "    #Store the loss in an array\n",
        "    trainingLosses = []\n",
        "\n",
        "    for epoch in range(num_epochs):\n",
        "        i = 1\n",
        "        for data in train_loader:\n",
        "            if torch.cuda.is_available():\n",
        "                data = data.cuda()\n",
        "                model.cuda()\n",
        "\n",
        "            datam = zero_out_random_feature(data.clone()) # zero out one categorical feature\n",
        "            recon = model(datam)\n",
        "            loss = criterion(recon, data)\n",
        "            loss.backward()\n",
        "            optimizer.step()\n",
        "            optimizer.zero_grad()\n",
        "\n",
        "            if i%40 == 0:\n",
        "                trainingAccuracy.append(get_accuracy(model, train_loader))\n",
        "                validationAccuracy.append(get_accuracy(model, valid_loader))\n",
        "                trainingLosses.append(float(loss)/batch_size)\n",
        "                \n",
        "                #print(\"Epoch:\", epoch + 1, \", Training Accuracy:\", trainingAccuracy[-1], \", Validation Accuracy:\", validationAccuracy[-1])\n",
        "                print(\"Epoch:\", epoch + 1, \", Iteration:\", i, \", Training Accuracy:\", trainingAccuracy[-1], \", Validation Accuracy:\", validationAccuracy[-1])\n",
        "            i += 1\n",
        "\n",
        "    trainingAccuracy.append(get_accuracy(model, train_loader))\n",
        "    validationAccuracy.append(get_accuracy(model, valid_loader))\n",
        "    trainingLosses.append(float(loss)/batch_size)\n",
        "    print(\"Epoch:\", epoch + 1, \", Training Accuracy:\", trainingAccuracy[-1], \", Validation Accuracy:\", validationAccuracy[-1])\n",
        "\n",
        "'''\n",
        "    #Accuracy Plot\n",
        "    plt.title(\"Training Curve\")\n",
        "    plt.plot(trainingAccuracy, label='Training')\n",
        "    plt.plot(validationAccuracy, label='Validation')\n",
        "    plt.xlabel('Iterations')\n",
        "    plt.ylabel('Accuracy')\n",
        "    plt.show()\n",
        "\n",
        "    #Loss Plot\n",
        "    plt.title('Training Curve')\n",
        "    plt.plot(trainingLosses, label='Training')\n",
        "    plt.xlabel('Iterations')\n",
        "    plt.ylabel('Loss')\n",
        "    plt.show()\n",
        "'''"
      ],
      "execution_count": null,
      "outputs": []
    },
    {
      "cell_type": "markdown",
      "metadata": {
        "id": "WKk01pwx1pq_"
      },
      "source": [
        "### Part (b) [3 pt]\n",
        "\n",
        "While plotting training and validation loss is valuable, loss values are harder to compare\n",
        "than accuracy percentages. It would be nice to have a measure of \"accuracy\" in this problem.\n",
        "\n",
        "Since we will only be imputing missing categorical values, we will define an accuracy measure.\n",
        "For each record and for each categorical feature, we determine whether\n",
        "the model can predict the categorical feature given all the other features of the record.\n",
        "\n",
        "A function `get_accuracy` is written for you. It is up to you to figure out how to\n",
        "use the function. **You don't need to submit anything in this part.**\n",
        "To earn the marks, correctly plot the training and validation accuracy every few \n",
        "iterations as part of your training curve."
      ]
    },
    {
      "cell_type": "code",
      "metadata": {
        "collapsed": true,
        "id": "bHWLfCzM1pq_"
      },
      "source": [
        "def get_accuracy(model, data_loader):\n",
        "    \"\"\"Return the \"accuracy\" of the autoencoder model across a data set.\n",
        "    That is, for each record and for each categorical feature, \n",
        "    we determine whether the model can successfully predict the value\n",
        "    of the categorical feature given all the other features of the \n",
        "    record. The returned \"accuracy\" measure is the percentage of times \n",
        "    that our model is successful.\n",
        "        \n",
        "    Args:\n",
        "       - model: the autoencoder model, an instance of nn.Module\n",
        "       - data_loader: an instance of torch.utils.data.DataLoader\n",
        "\n",
        "    Example (to illustrate how get_accuracy is intended to be called.\n",
        "             Depending on your variable naming this code might require\n",
        "             modification.)\n",
        "\n",
        "        >>> model = AutoEncoder()\n",
        "        >>> vdl = torch.utils.data.DataLoader(data_valid, batch_size=256, shuffle=True)\n",
        "        >>> get_accuracy(model, vdl)\n",
        "    \"\"\"\n",
        "    total = 0\n",
        "    acc = 0\n",
        "    for col in catcols:\n",
        "        for item in data_loader: # minibatches\n",
        "          #Allow GPUs to be used\n",
        "          if torch.cuda.is_available():\n",
        "            item = item.cuda()\n",
        "            model.cuda()\n",
        "\n",
        "            inp = item.detach().cuda().cpu().numpy()\n",
        "            out = model(zero_out_feature(item.clone(), col).cuda()).detach().cpu().numpy()\n",
        "            for i in range(out.shape[0]): # record in minibatch\n",
        "                acc += int(get_feature(out[i], col) == get_feature(inp[i], col))\n",
        "                total += 1\n",
        "    return acc / total"
      ],
      "execution_count": 54,
      "outputs": []
    },
    {
      "cell_type": "markdown",
      "metadata": {
        "id": "SxCTlXoV1prB"
      },
      "source": [
        "### Part (c) [4 pt]\n",
        "\n",
        "Run your updated training code, using reasonable initial hyperparameters.\n",
        "\n",
        "Include your training curve in your submission."
      ]
    },
    {
      "cell_type": "code",
      "metadata": {
        "colab": {
          "base_uri": "https://localhost:8080/",
          "height": 1000
        },
        "id": "nj5b71l-1prC",
        "outputId": "8870d634-a7ad-4ec0-c821-5f6a387476aa"
      },
      "source": [
        "autoEncoderModel = AutoEncoder()\r\n",
        "\r\n",
        "use_cuda = True\r\n",
        "\r\n",
        "if use_cuda and torch.cuda.is_available():\r\n",
        "  autoEncoderModel.cuda()\r\n",
        "  print('Using CUDA!')\r\n",
        "else:\r\n",
        "  print('Not using CUDA!')\r\n",
        "\r\n",
        "batch_size=128\r\n",
        "train_loader = torch.utils.data.DataLoader(trainingData, batch_size=batch_size, shuffle=True)\r\n",
        "valid_loader = torch.utils.data.DataLoader(validationData, batch_size=batch_size, shuffle=True)\r\n",
        "train(autoEncoderModel, train_loader, valid_loader, batch_size=batch_size, num_epochs=15, learning_rate=0.001)"
      ],
      "execution_count": 57,
      "outputs": [
        {
          "output_type": "stream",
          "text": [
            "Using CUDA!\n",
            "Epoch: 1 , Iteration: 40 , Training Accuracy: 0.3638111183455803 , Validation Accuracy: 0.3621961805555556\n",
            "Epoch: 1 , Iteration: 80 , Training Accuracy: 0.4598486962453105 , Validation Accuracy: 0.4585503472222222\n",
            "Epoch: 1 , Iteration: 120 , Training Accuracy: 0.458608501534741 , Validation Accuracy: 0.4577907986111111\n",
            "Epoch: 1 , Iteration: 160 , Training Accuracy: 0.46256162217468144 , Validation Accuracy: 0.4615162037037037\n",
            "Epoch: 2 , Iteration: 40 , Training Accuracy: 0.458608501534741 , Validation Accuracy: 0.4578269675925926\n",
            "Epoch: 2 , Iteration: 80 , Training Accuracy: 0.526594425324776 , Validation Accuracy: 0.5275607638888888\n",
            "Epoch: 2 , Iteration: 120 , Training Accuracy: 0.5627461011378786 , Validation Accuracy: 0.5632957175925926\n",
            "Epoch: 2 , Iteration: 160 , Training Accuracy: 0.5672263045298112 , Validation Accuracy: 0.5671296296296297\n",
            "Epoch: 3 , Iteration: 40 , Training Accuracy: 0.5714352153288066 , Validation Accuracy: 0.5721571180555556\n",
            "Epoch: 3 , Iteration: 80 , Training Accuracy: 0.5858137227544724 , Validation Accuracy: 0.5857928240740741\n",
            "Epoch: 3 , Iteration: 120 , Training Accuracy: 0.5898753604315877 , Validation Accuracy: 0.5884693287037037\n",
            "Epoch: 3 , Iteration: 160 , Training Accuracy: 0.5808374414783121 , Validation Accuracy: 0.5794632523148148\n",
            "Epoch: 4 , Iteration: 40 , Training Accuracy: 0.5831007968251015 , Validation Accuracy: 0.5795355902777778\n",
            "Epoch: 4 , Iteration: 80 , Training Accuracy: 0.5836123771432115 , Validation Accuracy: 0.5815972222222222\n",
            "Epoch: 4 , Iteration: 120 , Training Accuracy: 0.596921216631011 , Validation Accuracy: 0.5940031828703703\n",
            "Epoch: 4 , Iteration: 160 , Training Accuracy: 0.6004790252069575 , Validation Accuracy: 0.5970775462962963\n",
            "Epoch: 5 , Iteration: 40 , Training Accuracy: 0.6066257402412178 , Validation Accuracy: 0.6025390625\n",
            "Epoch: 5 , Iteration: 80 , Training Accuracy: 0.600153474095433 , Validation Accuracy: 0.5968967013888888\n",
            "Epoch: 5 , Iteration: 120 , Training Accuracy: 0.6016959662667039 , Validation Accuracy: 0.5972222222222222\n",
            "Epoch: 5 , Iteration: 160 , Training Accuracy: 0.6048507115617152 , Validation Accuracy: 0.6003689236111112\n",
            "Epoch: 6 , Iteration: 40 , Training Accuracy: 0.6004635227730754 , Validation Accuracy: 0.59765625\n",
            "Epoch: 6 , Iteration: 80 , Training Accuracy: 0.6044786531485443 , Validation Accuracy: 0.5992115162037037\n",
            "Epoch: 6 , Iteration: 120 , Training Accuracy: 0.6025408489132794 , Validation Accuracy: 0.5979817708333334\n",
            "Epoch: 6 , Iteration: 160 , Training Accuracy: 0.6162915077667194 , Validation Accuracy: 0.6106770833333334\n",
            "Epoch: 7 , Iteration: 40 , Training Accuracy: 0.6137413573931108 , Validation Accuracy: 0.6087239583333334\n",
            "Epoch: 7 , Iteration: 80 , Training Accuracy: 0.6088735931541251 , Validation Accuracy: 0.6047453703703703\n",
            "Epoch: 7 , Iteration: 120 , Training Accuracy: 0.613772362260875 , Validation Accuracy: 0.6088324652777778\n",
            "Epoch: 7 , Iteration: 160 , Training Accuracy: 0.6128189625771246 , Validation Accuracy: 0.6062282986111112\n",
            "Epoch: 8 , Iteration: 40 , Training Accuracy: 0.6156714104114346 , Validation Accuracy: 0.6096643518518519\n",
            "Epoch: 8 , Iteration: 80 , Training Accuracy: 0.6148420301987412 , Validation Accuracy: 0.6086154513888888\n",
            "Epoch: 8 , Iteration: 120 , Training Accuracy: 0.6180045267106936 , Validation Accuracy: 0.6122323495370371\n",
            "Epoch: 8 , Iteration: 160 , Training Accuracy: 0.6174541903078783 , Validation Accuracy: 0.6120876736111112\n",
            "Epoch: 9 , Iteration: 40 , Training Accuracy: 0.6142296840603975 , Validation Accuracy: 0.6088686342592593\n",
            "Epoch: 9 , Iteration: 80 , Training Accuracy: 0.6175627073450531 , Validation Accuracy: 0.6118706597222222\n",
            "Epoch: 9 , Iteration: 120 , Training Accuracy: 0.6155706445912008 , Validation Accuracy: 0.6085069444444444\n",
            "Epoch: 9 , Iteration: 160 , Training Accuracy: 0.6124391529470127 , Validation Accuracy: 0.6079282407407407\n",
            "Epoch: 10 , Iteration: 40 , Training Accuracy: 0.6193067311567916 , Validation Accuracy: 0.6145833333333334\n",
            "Epoch: 10 , Iteration: 80 , Training Accuracy: 0.6162217468142498 , Validation Accuracy: 0.6123046875\n",
            "Epoch: 10 , Iteration: 120 , Training Accuracy: 0.6070908132576814 , Validation Accuracy: 0.6023943865740741\n",
            "Epoch: 10 , Iteration: 160 , Training Accuracy: 0.6077419154807304 , Validation Accuracy: 0.6042390046296297\n",
            "Epoch: 11 , Iteration: 40 , Training Accuracy: 0.6166790686137723 , Validation Accuracy: 0.6134982638888888\n",
            "Epoch: 11 , Iteration: 80 , Training Accuracy: 0.6183223266052771 , Validation Accuracy: 0.6144024884259259\n",
            "Epoch: 11 , Iteration: 120 , Training Accuracy: 0.6194772579294949 , Validation Accuracy: 0.6151620370370371\n",
            "Epoch: 11 , Iteration: 160 , Training Accuracy: 0.6156249031097882 , Validation Accuracy: 0.6121238425925926\n",
            "Epoch: 12 , Iteration: 40 , Training Accuracy: 0.6161984931634267 , Validation Accuracy: 0.6126663773148148\n",
            "Epoch: 12 , Iteration: 80 , Training Accuracy: 0.6165240442749512 , Validation Accuracy: 0.6117259837962963\n",
            "Epoch: 12 , Iteration: 120 , Training Accuracy: 0.6073543546336775 , Validation Accuracy: 0.6025390625\n",
            "Epoch: 12 , Iteration: 160 , Training Accuracy: 0.6108889095588007 , Validation Accuracy: 0.6053964120370371\n",
            "Epoch: 13 , Iteration: 40 , Training Accuracy: 0.6154156202523796 , Validation Accuracy: 0.6101707175925926\n",
            "Epoch: 13 , Iteration: 80 , Training Accuracy: 0.6197252968716088 , Validation Accuracy: 0.6138237847222222\n",
            "Epoch: 13 , Iteration: 120 , Training Accuracy: 0.6191284531671473 , Validation Accuracy: 0.6145471643518519\n",
            "Epoch: 13 , Iteration: 160 , Training Accuracy: 0.6185316094626856 , Validation Accuracy: 0.6108217592592593\n",
            "Epoch: 14 , Iteration: 40 , Training Accuracy: 0.6169658636405916 , Validation Accuracy: 0.6120515046296297\n",
            "Epoch: 14 , Iteration: 80 , Training Accuracy: 0.6204229063963043 , Validation Accuracy: 0.6163917824074074\n",
            "Epoch: 14 , Iteration: 120 , Training Accuracy: 0.6217018571915791 , Validation Accuracy: 0.6161747685185185\n",
            "Epoch: 14 , Iteration: 160 , Training Accuracy: 0.6176402195144638 , Validation Accuracy: 0.6131365740740741\n",
            "Epoch: 15 , Iteration: 40 , Training Accuracy: 0.615330356866028 , Validation Accuracy: 0.6114366319444444\n",
            "Epoch: 15 , Iteration: 80 , Training Accuracy: 0.6211127647040585 , Validation Accuracy: 0.6175491898148148\n",
            "Epoch: 15 , Iteration: 120 , Training Accuracy: 0.6189269215266797 , Validation Accuracy: 0.6168258101851852\n",
            "Epoch: 15 , Iteration: 160 , Training Accuracy: 0.6204461600471274 , Validation Accuracy: 0.6161747685185185\n",
            "Epoch: 15 , Training Accuracy: 0.6208957306297088 , Validation Accuracy: 0.6165364583333334\n"
          ],
          "name": "stdout"
        },
        {
          "output_type": "display_data",
          "data": {
            "image/png": "[encoded data removed]",
            "text/plain": [
              "<Figure size 432x288 with 1 Axes>"
            ]
          },
          "metadata": {
            "tags": [],
            "needs_background": "light"
          }
        },
        {
          "output_type": "display_data",
          "data": {
            "image/png": "[encoded data removed]",
            "text/plain": [
              "<Figure size 432x288 with 1 Axes>"
            ]
          },
          "metadata": {
            "tags": [],
            "needs_background": "light"
          }
        }
      ]
    },
    {
      "cell_type": "markdown",
      "metadata": {
        "id": "h9xTwIf51prF"
      },
      "source": [
        "### Part (d) [5 pt]\n",
        "\n",
        "Tune your hyperparameters, training at least 4 different models (4 sets of hyperparameters).\n",
        "\n",
        "Do not include all your training curves. Instead, explain what hyperparameters\n",
        "you tried, what their effect was, and what your thought process was as you \n",
        "chose the next set of hyperparameters to try."
      ]
    },
    {
      "cell_type": "code",
      "metadata": {
        "collapsed": true,
        "id": "PhTKt9iL1prG",
        "colab": {
          "base_uri": "https://localhost:8080/"
        },
        "outputId": "8de11813-148f-42b9-de0e-9080487c61b4"
      },
      "source": [
        "#In my first iteration of the model, I will be lowering the batch_size to 64, and decreasing\r\n",
        "#the number of epochs\r\n",
        "#My thinking behind this is that smaller batches can go through quicker with less variablility\r\n",
        "autoEncoderModel1 = AutoEncoder()\r\n",
        "\r\n",
        "use_cuda = True\r\n",
        "\r\n",
        "if use_cuda and torch.cuda.is_available():\r\n",
        "  autoEncoderModel1.cuda()\r\n",
        "  print('Using CUDA!')\r\n",
        "else:\r\n",
        "  print('Not using CUDA!')\r\n",
        "\r\n",
        "batch_size=64\r\n",
        "train_loader = torch.utils.data.DataLoader(trainingData, batch_size=batch_size, shuffle=True)\r\n",
        "valid_loader = torch.utils.data.DataLoader(validationData, batch_size=batch_size, shuffle=True)\r\n",
        "train(autoEncoderModel1, train_loader, valid_loader, batch_size=batch_size, num_epochs=10, learning_rate=0.001)"
      ],
      "execution_count": 59,
      "outputs": [
        {
          "output_type": "stream",
          "text": [
            "Using CUDA!\n",
            "Epoch: 1 , Iteration: 40 , Training Accuracy: 0.3778098161411342 , Validation Accuracy: 0.37666377314814814\n",
            "Epoch: 1 , Iteration: 80 , Training Accuracy: 0.45512045391126404 , Validation Accuracy: 0.4541015625\n",
            "Epoch: 1 , Iteration: 120 , Training Accuracy: 0.4587712770905032 , Validation Accuracy: 0.4568504050925926\n",
            "Epoch: 1 , Iteration: 160 , Training Accuracy: 0.4598486962453105 , Validation Accuracy: 0.4585503472222222\n",
            "Epoch: 1 , Iteration: 200 , Training Accuracy: 0.45907357455120457 , Validation Accuracy: 0.4578993055555556\n",
            "Epoch: 1 , Iteration: 240 , Training Accuracy: 0.49852726878119863 , Validation Accuracy: 0.49692563657407407\n",
            "Epoch: 1 , Iteration: 280 , Training Accuracy: 0.5491737202740831 , Validation Accuracy: 0.5506727430555556\n",
            "Epoch: 1 , Iteration: 320 , Training Accuracy: 0.5559327814466871 , Validation Accuracy: 0.5550491898148148\n",
            "Epoch: 2 , Iteration: 40 , Training Accuracy: 0.5636529935199827 , Validation Accuracy: 0.5644169560185185\n",
            "Epoch: 2 , Iteration: 80 , Training Accuracy: 0.5676758751123926 , Validation Accuracy: 0.5679615162037037\n",
            "Epoch: 2 , Iteration: 120 , Training Accuracy: 0.5689160698229622 , Validation Accuracy: 0.5675998263888888\n",
            "Epoch: 2 , Iteration: 160 , Training Accuracy: 0.5669550119368741 , Validation Accuracy: 0.5668402777777778\n",
            "Epoch: 2 , Iteration: 200 , Training Accuracy: 0.5727916782934921 , Validation Accuracy: 0.5726996527777778\n",
            "Epoch: 2 , Iteration: 240 , Training Accuracy: 0.5798220320590333 , Validation Accuracy: 0.5805844907407407\n",
            "Epoch: 2 , Iteration: 280 , Training Accuracy: 0.5833953430688618 , Validation Accuracy: 0.5808015046296297\n",
            "Epoch: 2 , Iteration: 320 , Training Accuracy: 0.5785430812637584 , Validation Accuracy: 0.5758101851851852\n",
            "Epoch: 3 , Iteration: 40 , Training Accuracy: 0.5809304560816048 , Validation Accuracy: 0.5783781828703703\n",
            "Epoch: 3 , Iteration: 80 , Training Accuracy: 0.5838604160853254 , Validation Accuracy: 0.5807291666666666\n",
            "Epoch: 3 , Iteration: 120 , Training Accuracy: 0.5933711592720057 , Validation Accuracy: 0.5902054398148148\n",
            "Epoch: 3 , Iteration: 160 , Training Accuracy: 0.5936114469971786 , Validation Accuracy: 0.5882523148148148\n",
            "Epoch: 3 , Iteration: 200 , Training Accuracy: 0.6054553064831178 , Validation Accuracy: 0.6018518518518519\n",
            "Epoch: 3 , Iteration: 240 , Training Accuracy: 0.6029594146280967 , Validation Accuracy: 0.5988498263888888\n",
            "Epoch: 3 , Iteration: 280 , Training Accuracy: 0.6055173162186464 , Validation Accuracy: 0.6005497685185185\n",
            "Epoch: 3 , Iteration: 320 , Training Accuracy: 0.5995876352587356 , Validation Accuracy: 0.5963541666666666\n",
            "Epoch: 4 , Iteration: 40 , Training Accuracy: 0.6084162713546026 , Validation Accuracy: 0.6031901041666666\n",
            "Epoch: 4 , Iteration: 80 , Training Accuracy: 0.5983629429820482 , Validation Accuracy: 0.5932436342592593\n",
            "Epoch: 4 , Iteration: 120 , Training Accuracy: 0.6049204725141847 , Validation Accuracy: 0.6012369791666666\n",
            "Epoch: 4 , Iteration: 160 , Training Accuracy: 0.5954407341952687 , Validation Accuracy: 0.5949797453703703\n",
            "Epoch: 4 , Iteration: 200 , Training Accuracy: 0.5886196632871361 , Validation Accuracy: 0.5859375\n",
            "Epoch: 4 , Iteration: 240 , Training Accuracy: 0.6052537748426503 , Validation Accuracy: 0.6017433449074074\n",
            "Epoch: 4 , Iteration: 280 , Training Accuracy: 0.6000527082751992 , Validation Accuracy: 0.5960648148148148\n",
            "Epoch: 4 , Iteration: 320 , Training Accuracy: 0.6043468824605464 , Validation Accuracy: 0.6007667824074074\n",
            "Epoch: 5 , Iteration: 40 , Training Accuracy: 0.6060831550553437 , Validation Accuracy: 0.6036964699074074\n",
            "Epoch: 5 , Iteration: 80 , Training Accuracy: 0.6055948283880569 , Validation Accuracy: 0.6018156828703703\n",
            "Epoch: 5 , Iteration: 120 , Training Accuracy: 0.5986264843580442 , Validation Accuracy: 0.5951244212962963\n",
            "Epoch: 5 , Iteration: 160 , Training Accuracy: 0.6020447710290515 , Validation Accuracy: 0.5987051504629629\n",
            "Epoch: 5 , Iteration: 200 , Training Accuracy: 0.6022540538864601 , Validation Accuracy: 0.6000072337962963\n",
            "Epoch: 5 , Iteration: 240 , Training Accuracy: 0.600812327535423 , Validation Accuracy: 0.5971498842592593\n",
            "Epoch: 5 , Iteration: 280 , Training Accuracy: 0.6059668868012278 , Validation Accuracy: 0.6022858796296297\n",
            "Epoch: 5 , Iteration: 320 , Training Accuracy: 0.6072613400303848 , Validation Accuracy: 0.6036241319444444\n",
            "Epoch: 6 , Iteration: 40 , Training Accuracy: 0.6036027656342046 , Validation Accuracy: 0.5987774884259259\n",
            "Epoch: 6 , Iteration: 80 , Training Accuracy: 0.6003007472173131 , Validation Accuracy: 0.5960286458333334\n",
            "Epoch: 6 , Iteration: 120 , Training Accuracy: 0.6071683254270921 , Validation Accuracy: 0.6019965277777778\n",
            "Epoch: 6 , Iteration: 160 , Training Accuracy: 0.6009596006573033 , Validation Accuracy: 0.5964265046296297\n",
            "Epoch: 6 , Iteration: 200 , Training Accuracy: 0.6057110966421728 , Validation Accuracy: 0.6031901041666666\n",
            "Epoch: 6 , Iteration: 240 , Training Accuracy: 0.6088270858524788 , Validation Accuracy: 0.6057219328703703\n",
            "Epoch: 6 , Iteration: 280 , Training Accuracy: 0.6068582767494497 , Validation Accuracy: 0.6019965277777778\n",
            "Epoch: 6 , Iteration: 320 , Training Accuracy: 0.6010991225622423 , Validation Accuracy: 0.5936414930555556\n",
            "Epoch: 7 , Iteration: 40 , Training Accuracy: 0.6050134871174775 , Validation Accuracy: 0.5995370370370371\n",
            "Epoch: 7 , Iteration: 80 , Training Accuracy: 0.609485939292469 , Validation Accuracy: 0.6057581018518519\n",
            "Epoch: 7 , Iteration: 120 , Training Accuracy: 0.6034632437292655 , Validation Accuracy: 0.5987774884259259\n",
            "Epoch: 7 , Iteration: 160 , Training Accuracy: 0.6107571388708027 , Validation Accuracy: 0.6069155092592593\n",
            "Epoch: 7 , Iteration: 200 , Training Accuracy: 0.6049204725141847 , Validation Accuracy: 0.5994285300925926\n",
            "Epoch: 7 , Iteration: 240 , Training Accuracy: 0.6070675596068583 , Validation Accuracy: 0.6031539351851852\n",
            "Epoch: 7 , Iteration: 280 , Training Accuracy: 0.6046414287043066 , Validation Accuracy: 0.6002965856481481\n",
            "Epoch: 7 , Iteration: 320 , Training Accuracy: 0.6017579760022324 , Validation Accuracy: 0.5978370949074074\n",
            "Epoch: 8 , Iteration: 40 , Training Accuracy: 0.6054165503984126 , Validation Accuracy: 0.6017795138888888\n",
            "Epoch: 8 , Iteration: 80 , Training Accuracy: 0.6055328186525284 , Validation Accuracy: 0.6006582754629629\n",
            "Epoch: 8 , Iteration: 120 , Training Accuracy: 0.607160574210151 , Validation Accuracy: 0.6006221064814815\n",
            "Epoch: 8 , Iteration: 160 , Training Accuracy: 0.608710817598363 , Validation Accuracy: 0.6044560185185185\n",
            "Epoch: 8 , Iteration: 200 , Training Accuracy: 0.6128344650110067 , Validation Accuracy: 0.6077835648148148\n",
            "Epoch: 8 , Iteration: 240 , Training Accuracy: 0.6057188478591139 , Validation Accuracy: 0.5993200231481481\n",
            "Epoch: 8 , Iteration: 280 , Training Accuracy: 0.6057033454252317 , Validation Accuracy: 0.5990306712962963\n",
            "Epoch: 8 , Iteration: 320 , Training Accuracy: 0.6072690912473259 , Validation Accuracy: 0.6022858796296297\n",
            "Epoch: 9 , Iteration: 40 , Training Accuracy: 0.6066102378073358 , Validation Accuracy: 0.6026114004629629\n",
            "Epoch: 9 , Iteration: 80 , Training Accuracy: 0.6037422875391436 , Validation Accuracy: 0.5992476851851852\n",
            "Epoch: 9 , Iteration: 120 , Training Accuracy: 0.6110129290298577 , Validation Accuracy: 0.6056495949074074\n",
            "Epoch: 9 , Iteration: 160 , Training Accuracy: 0.6014634297584721 , Validation Accuracy: 0.5977647569444444\n",
            "Epoch: 9 , Iteration: 200 , Training Accuracy: 0.6041608532539609 , Validation Accuracy: 0.5984157986111112\n",
            "Epoch: 9 , Iteration: 240 , Training Accuracy: 0.6155706445912008 , Validation Accuracy: 0.6102068865740741\n",
            "Epoch: 9 , Iteration: 280 , Training Accuracy: 0.609485939292469 , Validation Accuracy: 0.6046730324074074\n",
            "Epoch: 9 , Iteration: 320 , Training Accuracy: 0.6096022075465848 , Validation Accuracy: 0.6048900462962963\n",
            "Epoch: 10 , Iteration: 40 , Training Accuracy: 0.6148962887173286 , Validation Accuracy: 0.6095920138888888\n",
            "Epoch: 10 , Iteration: 80 , Training Accuracy: 0.6159116981366074 , Validation Accuracy: 0.6115451388888888\n",
            "Epoch: 10 , Iteration: 120 , Training Accuracy: 0.6131057576039438 , Validation Accuracy: 0.6087962962962963\n",
            "Epoch: 10 , Iteration: 160 , Training Accuracy: 0.6160279663907233 , Validation Accuracy: 0.6123046875\n",
            "Epoch: 10 , Iteration: 200 , Training Accuracy: 0.6080364617244908 , Validation Accuracy: 0.6021773726851852\n",
            "Epoch: 10 , Iteration: 240 , Training Accuracy: 0.6104238365423371 , Validation Accuracy: 0.6046006944444444\n",
            "Epoch: 10 , Iteration: 280 , Training Accuracy: 0.6193997457600844 , Validation Accuracy: 0.6144386574074074\n",
            "Epoch: 10 , Iteration: 320 , Training Accuracy: 0.6161597370787214 , Validation Accuracy: 0.6107494212962963\n",
            "Epoch: 10 , Training Accuracy: 0.6114004898769106 , Validation Accuracy: 0.6030454282407407\n"
          ],
          "name": "stdout"
        }
      ]
    },
    {
      "cell_type": "markdown",
      "metadata": {
        "id": "51RDu4LT7-3U"
      },
      "source": [
        "As we can see above, the training accuracy and the validation accuracy slightly decreased. I will increase the number of epochs a little to allow longer training. I also want to increase the learning rate and see whether this has any benefits."
      ]
    },
    {
      "cell_type": "code",
      "metadata": {
        "colab": {
          "base_uri": "https://localhost:8080/"
        },
        "id": "52epZhqT53n-",
        "outputId": "e767598c-b0f6-43ab-e6b4-8854c49be3a8"
      },
      "source": [
        "#In my second iteration of the model, I will be increasing the learning rate to 0.005, and increasing the \r\n",
        "#number of epochs to 12\r\n",
        "autoEncoderModel2 = AutoEncoder()\r\n",
        "\r\n",
        "use_cuda = True\r\n",
        "\r\n",
        "if use_cuda and torch.cuda.is_available():\r\n",
        "  autoEncoderModel2.cuda()\r\n",
        "  print('Using CUDA!')\r\n",
        "else:\r\n",
        "  print('Not using CUDA!')\r\n",
        "\r\n",
        "batch_size=64\r\n",
        "train_loader = torch.utils.data.DataLoader(trainingData, batch_size=batch_size, shuffle=True)\r\n",
        "valid_loader = torch.utils.data.DataLoader(validationData, batch_size=batch_size, shuffle=True)\r\n",
        "train(autoEncoderModel2, train_loader, valid_loader, batch_size=batch_size, num_epochs=12, learning_rate=0.005)"
      ],
      "execution_count": 60,
      "outputs": [
        {
          "output_type": "stream",
          "text": [
            "Using CUDA!\n",
            "Epoch: 1 , Iteration: 40 , Training Accuracy: 0.4417651071218181 , Validation Accuracy: 0.4409722222222222\n",
            "Epoch: 1 , Iteration: 80 , Training Accuracy: 0.493775772796329 , Validation Accuracy: 0.49171730324074076\n",
            "Epoch: 1 , Iteration: 120 , Training Accuracy: 0.5546693330852944 , Validation Accuracy: 0.5542173032407407\n",
            "Epoch: 1 , Iteration: 160 , Training Accuracy: 0.5569171859982017 , Validation Accuracy: 0.5591724537037037\n",
            "Epoch: 1 , Iteration: 200 , Training Accuracy: 0.5847595572504883 , Validation Accuracy: 0.5831886574074074\n",
            "Epoch: 1 , Iteration: 240 , Training Accuracy: 0.5979908845688773 , Validation Accuracy: 0.5920500578703703\n",
            "Epoch: 1 , Iteration: 280 , Training Accuracy: 0.5959833193811428 , Validation Accuracy: 0.5927372685185185\n",
            "Epoch: 1 , Iteration: 320 , Training Accuracy: 0.6052692772765325 , Validation Accuracy: 0.6034794560185185\n",
            "Epoch: 2 , Iteration: 40 , Training Accuracy: 0.6005952934610734 , Validation Accuracy: 0.5974754050925926\n",
            "Epoch: 2 , Iteration: 80 , Training Accuracy: 0.6056723405574675 , Validation Accuracy: 0.5984519675925926\n",
            "Epoch: 2 , Iteration: 120 , Training Accuracy: 0.5999674448888476 , Validation Accuracy: 0.5962094907407407\n",
            "Epoch: 2 , Iteration: 160 , Training Accuracy: 0.6068815304002728 , Validation Accuracy: 0.6011284722222222\n",
            "Epoch: 2 , Iteration: 200 , Training Accuracy: 0.6075016277555576 , Validation Accuracy: 0.6034794560185185\n",
            "Epoch: 2 , Iteration: 240 , Training Accuracy: 0.6008200787523641 , Validation Accuracy: 0.5947265625\n",
            "Epoch: 2 , Iteration: 280 , Training Accuracy: 0.6014324248907078 , Validation Accuracy: 0.5972222222222222\n",
            "Epoch: 2 , Iteration: 320 , Training Accuracy: 0.6117647970731405 , Validation Accuracy: 0.6072048611111112\n",
            "Epoch: 3 , Iteration: 40 , Training Accuracy: 0.6141986791926333 , Validation Accuracy: 0.6103153935185185\n",
            "Epoch: 3 , Iteration: 80 , Training Accuracy: 0.6077651691315537 , Validation Accuracy: 0.6036603009259259\n",
            "Epoch: 3 , Iteration: 120 , Training Accuracy: 0.6118035531578457 , Validation Accuracy: 0.6069155092592593\n",
            "Epoch: 3 , Iteration: 160 , Training Accuracy: 0.6129274796142995 , Validation Accuracy: 0.6077112268518519\n",
            "Epoch: 3 , Iteration: 200 , Training Accuracy: 0.6031764487024462 , Validation Accuracy: 0.5955222800925926\n",
            "Epoch: 3 , Iteration: 240 , Training Accuracy: 0.6055948283880569 , Validation Accuracy: 0.5997178819444444\n",
            "Epoch: 3 , Iteration: 280 , Training Accuracy: 0.6176557219483458 , Validation Accuracy: 0.6134620949074074\n",
            "Epoch: 3 , Iteration: 320 , Training Accuracy: 0.6114547483954981 , Validation Accuracy: 0.6050708912037037\n",
            "Epoch: 4 , Iteration: 40 , Training Accuracy: 0.6117337922053763 , Validation Accuracy: 0.6069878472222222\n",
            "Epoch: 4 , Iteration: 80 , Training Accuracy: 0.6141444206740458 , Validation Accuracy: 0.6096281828703703\n",
            "Epoch: 4 , Iteration: 120 , Training Accuracy: 0.6043778873283105 , Validation Accuracy: 0.5985604745370371\n",
            "Epoch: 4 , Iteration: 160 , Training Accuracy: 0.6006262983288376 , Validation Accuracy: 0.5955584490740741\n",
            "Epoch: 4 , Iteration: 200 , Training Accuracy: 0.60327721452268 , Validation Accuracy: 0.5947265625\n",
            "Epoch: 4 , Iteration: 240 , Training Accuracy: 0.617810746287167 , Validation Accuracy: 0.6129918981481481\n",
            "Epoch: 4 , Iteration: 280 , Training Accuracy: 0.6121213530524292 , Validation Accuracy: 0.6074580439814815\n",
            "Epoch: 4 , Iteration: 320 , Training Accuracy: 0.6204461600471274 , Validation Accuracy: 0.6144024884259259\n",
            "Epoch: 5 , Iteration: 40 , Training Accuracy: 0.6254224413232877 , Validation Accuracy: 0.6196469907407407\n",
            "Epoch: 5 , Iteration: 80 , Training Accuracy: 0.6080519641583728 , Validation Accuracy: 0.6055049189814815\n",
            "Epoch: 5 , Iteration: 120 , Training Accuracy: 0.6116485288190245 , Validation Accuracy: 0.6067708333333334\n",
            "Epoch: 5 , Iteration: 160 , Training Accuracy: 0.6160512200415466 , Validation Accuracy: 0.6084346064814815\n",
            "Epoch: 5 , Iteration: 200 , Training Accuracy: 0.609369671038353 , Validation Accuracy: 0.6019965277777778\n",
            "Epoch: 5 , Iteration: 240 , Training Accuracy: 0.627274982172201 , Validation Accuracy: 0.6222873263888888\n",
            "Epoch: 5 , Iteration: 280 , Training Accuracy: 0.6223684618485102 , Validation Accuracy: 0.6159215856481481\n",
            "Epoch: 5 , Iteration: 320 , Training Accuracy: 0.6096409636312902 , Validation Accuracy: 0.6046730324074074\n",
            "Epoch: 6 , Iteration: 40 , Training Accuracy: 0.6246085635444765 , Validation Accuracy: 0.6199725115740741\n",
            "Epoch: 6 , Iteration: 80 , Training Accuracy: 0.6093774222552941 , Validation Accuracy: 0.6010561342592593\n",
            "Epoch: 6 , Iteration: 120 , Training Accuracy: 0.6178805072396366 , Validation Accuracy: 0.6123046875\n",
            "Epoch: 6 , Iteration: 160 , Training Accuracy: 0.624151241744954 , Validation Accuracy: 0.6197554976851852\n",
            "Epoch: 6 , Iteration: 200 , Training Accuracy: 0.6156869128453167 , Validation Accuracy: 0.6114004629629629\n",
            "Epoch: 6 , Iteration: 240 , Training Accuracy: 0.623763680897901 , Validation Accuracy: 0.6217809606481481\n",
            "Epoch: 6 , Iteration: 280 , Training Accuracy: 0.6191362043840883 , Validation Accuracy: 0.6159577546296297\n",
            "Epoch: 6 , Iteration: 320 , Training Accuracy: 0.6165240442749512 , Validation Accuracy: 0.6113642939814815\n",
            "Epoch: 7 , Iteration: 40 , Training Accuracy: 0.6173301708368214 , Validation Accuracy: 0.6120876736111112\n",
            "Epoch: 7 , Iteration: 80 , Training Accuracy: 0.6147722692462717 , Validation Accuracy: 0.6119791666666666\n",
            "Epoch: 7 , Iteration: 120 , Training Accuracy: 0.6287322109571203 , Validation Accuracy: 0.6243851273148148\n",
            "Epoch: 7 , Iteration: 160 , Training Accuracy: 0.6253526803708183 , Validation Accuracy: 0.6204788773148148\n",
            "Epoch: 7 , Iteration: 200 , Training Accuracy: 0.6264145970917434 , Validation Accuracy: 0.6223234953703703\n",
            "Epoch: 7 , Iteration: 240 , Training Accuracy: 0.6130670015192385 , Validation Accuracy: 0.6073857060185185\n",
            "Epoch: 7 , Iteration: 280 , Training Accuracy: 0.6174464390909373 , Validation Accuracy: 0.6125578703703703\n",
            "Epoch: 7 , Iteration: 320 , Training Accuracy: 0.626104548414101 , Validation Accuracy: 0.6207320601851852\n",
            "Epoch: 8 , Iteration: 40 , Training Accuracy: 0.6217173596254612 , Validation Accuracy: 0.6159577546296297\n",
            "Epoch: 8 , Iteration: 80 , Training Accuracy: 0.6207639599417109 , Validation Accuracy: 0.6157769097222222\n",
            "Epoch: 8 , Iteration: 120 , Training Accuracy: 0.6301351812234521 , Validation Accuracy: 0.6238787615740741\n",
            "Epoch: 8 , Iteration: 160 , Training Accuracy: 0.636088115834186 , Validation Accuracy: 0.6302445023148148\n",
            "Epoch: 8 , Iteration: 200 , Training Accuracy: 0.6255387095774037 , Validation Accuracy: 0.6195023148148148\n",
            "Epoch: 8 , Iteration: 240 , Training Accuracy: 0.6261278020649242 , Validation Accuracy: 0.6186342592592593\n",
            "Epoch: 8 , Iteration: 280 , Training Accuracy: 0.6260735435463368 , Validation Accuracy: 0.6230107060185185\n",
            "Epoch: 8 , Iteration: 320 , Training Accuracy: 0.6164000248038942 , Validation Accuracy: 0.6095558449074074\n",
            "Epoch: 9 , Iteration: 40 , Training Accuracy: 0.631669922177782 , Validation Accuracy: 0.6284360532407407\n",
            "Epoch: 9 , Iteration: 80 , Training Accuracy: 0.6308405419650885 , Validation Accuracy: 0.6268446180555556\n",
            "Epoch: 9 , Iteration: 120 , Training Accuracy: 0.6200818528508976 , Validation Accuracy: 0.619140625\n",
            "Epoch: 9 , Iteration: 160 , Training Accuracy: 0.6287399621740614 , Validation Accuracy: 0.6217086226851852\n",
            "Epoch: 9 , Iteration: 200 , Training Accuracy: 0.6232753542306142 , Validation Accuracy: 0.6178023726851852\n",
            "Epoch: 9 , Iteration: 240 , Training Accuracy: 0.635584286733017 , Validation Accuracy: 0.6297381365740741\n",
            "Epoch: 9 , Iteration: 280 , Training Accuracy: 0.6285539329674759 , Validation Accuracy: 0.6207682291666666\n",
            "Epoch: 9 , Iteration: 320 , Training Accuracy: 0.6308095370973242 , Validation Accuracy: 0.6240957754629629\n",
            "Epoch: 10 , Iteration: 40 , Training Accuracy: 0.6289182401637057 , Validation Accuracy: 0.6252170138888888\n",
            "Epoch: 10 , Iteration: 80 , Training Accuracy: 0.6169038539050631 , Validation Accuracy: 0.6125217013888888\n",
            "Epoch: 10 , Iteration: 120 , Training Accuracy: 0.63363098006387 , Validation Accuracy: 0.6256872106481481\n",
            "Epoch: 10 , Iteration: 160 , Training Accuracy: 0.6317861904318978 , Validation Accuracy: 0.6239149305555556\n",
            "Epoch: 10 , Iteration: 200 , Training Accuracy: 0.6309568102192045 , Validation Accuracy: 0.6270254629629629\n",
            "Epoch: 10 , Iteration: 240 , Training Accuracy: 0.6348789259913806 , Validation Accuracy: 0.6287615740740741\n",
            "Epoch: 10 , Iteration: 280 , Training Accuracy: 0.6270967041825567 , Validation Accuracy: 0.6215277777777778\n",
            "Epoch: 10 , Iteration: 320 , Training Accuracy: 0.6329178681052925 , Validation Accuracy: 0.6277126736111112\n",
            "Epoch: 11 , Iteration: 40 , Training Accuracy: 0.6306932688432084 , Validation Accuracy: 0.6259765625\n",
            "Epoch: 11 , Iteration: 80 , Training Accuracy: 0.6291197718041732 , Validation Accuracy: 0.6222873263888888\n",
            "Epoch: 11 , Iteration: 120 , Training Accuracy: 0.6242132514804825 , Validation Accuracy: 0.6165002893518519\n",
            "Epoch: 11 , Iteration: 160 , Training Accuracy: 0.636739218057235 , Validation Accuracy: 0.6300274884259259\n",
            "Epoch: 11 , Iteration: 200 , Training Accuracy: 0.631685424611664 , Validation Accuracy: 0.6259765625\n",
            "Epoch: 11 , Iteration: 240 , Training Accuracy: 0.6368554863113509 , Validation Accuracy: 0.6289785879629629\n",
            "Epoch: 11 , Iteration: 280 , Training Accuracy: 0.6460949369050941 , Validation Accuracy: 0.6395760995370371\n",
            "Epoch: 11 , Iteration: 320 , Training Accuracy: 0.6385064955197967 , Validation Accuracy: 0.6305338541666666\n",
            "Epoch: 12 , Iteration: 40 , Training Accuracy: 0.6359563451461879 , Validation Accuracy: 0.6281828703703703\n",
            "Epoch: 12 , Iteration: 80 , Training Accuracy: 0.6336542337146932 , Validation Accuracy: 0.6265190972222222\n",
            "Epoch: 12 , Iteration: 120 , Training Accuracy: 0.6294608253495799 , Validation Accuracy: 0.6268807870370371\n",
            "Epoch: 12 , Iteration: 160 , Training Accuracy: 0.6427696648373795 , Validation Accuracy: 0.6379123263888888\n",
            "Epoch: 12 , Iteration: 200 , Training Accuracy: 0.6307087712770905 , Validation Accuracy: 0.6253978587962963\n",
            "Epoch: 12 , Iteration: 240 , Training Accuracy: 0.6357315598548973 , Validation Accuracy: 0.6314019097222222\n",
            "Epoch: 12 , Iteration: 280 , Training Accuracy: 0.6293755619632282 , Validation Accuracy: 0.6218171296296297\n",
            "Epoch: 12 , Iteration: 320 , Training Accuracy: 0.6195237652311413 , Validation Accuracy: 0.6123408564814815\n",
            "Epoch: 12 , Training Accuracy: 0.6353517502247853 , Validation Accuracy: 0.6299913194444444\n"
          ],
          "name": "stdout"
        }
      ]
    },
    {
      "cell_type": "markdown",
      "metadata": {
        "id": "wOjLQ7hA7_Sk"
      },
      "source": [
        "As you can see above, both the training accuracy and the validation increased due to the increase in the learning rate. Therefore, I will be keeping all the other hyperparameters constant, and I will be increasing the learning eate even more. I expect the accuracy to increase even more, or fall again."
      ]
    },
    {
      "cell_type": "code",
      "metadata": {
        "colab": {
          "base_uri": "https://localhost:8080/"
        },
        "id": "tKLcjGWL54DF",
        "outputId": "585ca7b8-b998-4a95-c746-1f777bc0337f"
      },
      "source": [
        "#In my third iteration of the model, I will be increasing the learning rate to 0.01, and will be keeping \r\n",
        "#other hyperparameters the same\r\n",
        "autoEncoderModel3 = AutoEncoder()\r\n",
        "\r\n",
        "use_cuda = True\r\n",
        "\r\n",
        "if use_cuda and torch.cuda.is_available():\r\n",
        "  autoEncoderModel3.cuda()\r\n",
        "  print('Using CUDA!')\r\n",
        "else:\r\n",
        "  print('Not using CUDA!')\r\n",
        "\r\n",
        "batch_size=64\r\n",
        "train_loader = torch.utils.data.DataLoader(trainingData, batch_size=batch_size, shuffle=True)\r\n",
        "valid_loader = torch.utils.data.DataLoader(validationData, batch_size=batch_size, shuffle=True)\r\n",
        "train(autoEncoderModel3, train_loader, valid_loader, batch_size=batch_size, num_epochs=12, learning_rate=0.01)"
      ],
      "execution_count": 61,
      "outputs": [
        {
          "output_type": "stream",
          "text": [
            "Using CUDA!\n",
            "Epoch: 1 , Iteration: 40 , Training Accuracy: 0.4598486962453105 , Validation Accuracy: 0.4585503472222222\n",
            "Epoch: 1 , Iteration: 80 , Training Accuracy: 0.5207345053173348 , Validation Accuracy: 0.5223524305555556\n",
            "Epoch: 1 , Iteration: 120 , Training Accuracy: 0.5619089697082442 , Validation Accuracy: 0.5625723379629629\n",
            "Epoch: 1 , Iteration: 160 , Training Accuracy: 0.560459492140266 , Validation Accuracy: 0.5614872685185185\n",
            "Epoch: 1 , Iteration: 200 , Training Accuracy: 0.5799925588317366 , Validation Accuracy: 0.5777994791666666\n",
            "Epoch: 1 , Iteration: 240 , Training Accuracy: 0.6008278299693052 , Validation Accuracy: 0.6000072337962963\n",
            "Epoch: 1 , Iteration: 280 , Training Accuracy: 0.5884646389483149 , Validation Accuracy: 0.5831886574074074\n",
            "Epoch: 1 , Iteration: 320 , Training Accuracy: 0.6013704151551794 , Validation Accuracy: 0.5988859953703703\n",
            "Epoch: 2 , Iteration: 40 , Training Accuracy: 0.5887669364090162 , Validation Accuracy: 0.5828993055555556\n",
            "Epoch: 2 , Iteration: 80 , Training Accuracy: 0.6026726196012774 , Validation Accuracy: 0.59765625\n",
            "Epoch: 2 , Iteration: 120 , Training Accuracy: 0.6064862183362788 , Validation Accuracy: 0.6023220486111112\n",
            "Epoch: 2 , Iteration: 160 , Training Accuracy: 0.6030834340991535 , Validation Accuracy: 0.5976200810185185\n",
            "Epoch: 2 , Iteration: 200 , Training Accuracy: 0.6118035531578457 , Validation Accuracy: 0.609375\n",
            "Epoch: 2 , Iteration: 240 , Training Accuracy: 0.6104625926270425 , Validation Accuracy: 0.6051793981481481\n",
            "Epoch: 2 , Iteration: 280 , Training Accuracy: 0.6039050630949059 , Validation Accuracy: 0.6007306134259259\n",
            "Epoch: 2 , Iteration: 320 , Training Accuracy: 0.6064087061668681 , Validation Accuracy: 0.6004774305555556\n",
            "Epoch: 3 , Iteration: 40 , Training Accuracy: 0.5980528943044058 , Validation Accuracy: 0.5938223379629629\n",
            "Epoch: 3 , Iteration: 80 , Training Accuracy: 0.6016107028803522 , Validation Accuracy: 0.5972583912037037\n",
            "Epoch: 3 , Iteration: 120 , Training Accuracy: 0.606773013363098 , Validation Accuracy: 0.6009114583333334\n",
            "Epoch: 3 , Iteration: 160 , Training Accuracy: 0.6008743372709515 , Validation Accuracy: 0.5974030671296297\n",
            "Epoch: 3 , Iteration: 200 , Training Accuracy: 0.6063699500821629 , Validation Accuracy: 0.6019241898148148\n",
            "Epoch: 3 , Iteration: 240 , Training Accuracy: 0.6035097510309119 , Validation Accuracy: 0.6017795138888888\n",
            "Epoch: 3 , Iteration: 280 , Training Accuracy: 0.6044011409791338 , Validation Accuracy: 0.6006582754629629\n",
            "Epoch: 3 , Iteration: 320 , Training Accuracy: 0.616376771153071 , Validation Accuracy: 0.6154513888888888\n",
            "Epoch: 4 , Iteration: 40 , Training Accuracy: 0.6008588348370694 , Validation Accuracy: 0.5982349537037037\n",
            "Epoch: 4 , Iteration: 80 , Training Accuracy: 0.6037500387560847 , Validation Accuracy: 0.6003327546296297\n",
            "Epoch: 4 , Iteration: 120 , Training Accuracy: 0.6050367407683006 , Validation Accuracy: 0.6017071759259259\n",
            "Epoch: 4 , Iteration: 160 , Training Accuracy: 0.5991923231947416 , Validation Accuracy: 0.5949435763888888\n",
            "Epoch: 4 , Iteration: 200 , Training Accuracy: 0.607021052305212 , Validation Accuracy: 0.6053240740740741\n",
            "Epoch: 4 , Iteration: 240 , Training Accuracy: 0.602486590394692 , Validation Accuracy: 0.5993923611111112\n",
            "Epoch: 4 , Iteration: 280 , Training Accuracy: 0.6143071962298081 , Validation Accuracy: 0.6084707754629629\n",
            "Epoch: 4 , Iteration: 320 , Training Accuracy: 0.6034089852106781 , Validation Accuracy: 0.6009114583333334\n",
            "Epoch: 5 , Iteration: 40 , Training Accuracy: 0.6094084271230583 , Validation Accuracy: 0.6047815393518519\n",
            "Epoch: 5 , Iteration: 80 , Training Accuracy: 0.6079977056397855 , Validation Accuracy: 0.6027199074074074\n",
            "Epoch: 5 , Iteration: 120 , Training Accuracy: 0.6027113756859827 , Validation Accuracy: 0.6004774305555556\n",
            "Epoch: 5 , Iteration: 160 , Training Accuracy: 0.6140126499860478 , Validation Accuracy: 0.6116536458333334\n",
            "Epoch: 5 , Iteration: 200 , Training Accuracy: 0.6047964530431278 , Validation Accuracy: 0.6000795717592593\n",
            "Epoch: 5 , Iteration: 240 , Training Accuracy: 0.5970762409698323 , Validation Accuracy: 0.5962094907407407\n",
            "Epoch: 5 , Iteration: 280 , Training Accuracy: 0.6098579977056398 , Validation Accuracy: 0.6065899884259259\n",
            "Epoch: 5 , Iteration: 320 , Training Accuracy: 0.6116717824698478 , Validation Accuracy: 0.6079282407407407\n",
            "Epoch: 6 , Iteration: 40 , Training Accuracy: 0.6190586922146777 , Validation Accuracy: 0.6143301504629629\n",
            "Epoch: 6 , Iteration: 80 , Training Accuracy: 0.620655442904536 , Validation Accuracy: 0.6149450231481481\n",
            "Epoch: 6 , Iteration: 120 , Training Accuracy: 0.6168650978203578 , Validation Accuracy: 0.6124131944444444\n",
            "Epoch: 6 , Iteration: 160 , Training Accuracy: 0.615462127554026 , Validation Accuracy: 0.6110749421296297\n",
            "Epoch: 6 , Iteration: 200 , Training Accuracy: 0.6090596223607107 , Validation Accuracy: 0.6058304398148148\n",
            "Epoch: 6 , Iteration: 240 , Training Accuracy: 0.6166790686137723 , Validation Accuracy: 0.6129918981481481\n",
            "Epoch: 6 , Iteration: 280 , Training Accuracy: 0.6104935974948067 , Validation Accuracy: 0.6066261574074074\n",
            "Epoch: 6 , Iteration: 320 , Training Accuracy: 0.6123616407776021 , Validation Accuracy: 0.603515625\n",
            "Epoch: 7 , Iteration: 40 , Training Accuracy: 0.6225002325365082 , Validation Accuracy: 0.6170789930555556\n",
            "Epoch: 7 , Iteration: 80 , Training Accuracy: 0.6121523579201935 , Validation Accuracy: 0.6087601273148148\n",
            "Epoch: 7 , Iteration: 120 , Training Accuracy: 0.6192447214212632 , Validation Accuracy: 0.6135706018518519\n",
            "Epoch: 7 , Iteration: 160 , Training Accuracy: 0.6143149474467492 , Validation Accuracy: 0.6098813657407407\n",
            "Epoch: 7 , Iteration: 200 , Training Accuracy: 0.6131135088208849 , Validation Accuracy: 0.6110387731481481\n",
            "Epoch: 7 , Iteration: 240 , Training Accuracy: 0.6092766564350603 , Validation Accuracy: 0.6029007523148148\n",
            "Epoch: 7 , Iteration: 280 , Training Accuracy: 0.6159427030043717 , Validation Accuracy: 0.6147280092592593\n",
            "Epoch: 7 , Iteration: 320 , Training Accuracy: 0.6139196353827551 , Validation Accuracy: 0.6094835069444444\n",
            "Epoch: 8 , Iteration: 40 , Training Accuracy: 0.6036415217189098 , Validation Accuracy: 0.5984881365740741\n",
            "Epoch: 8 , Iteration: 80 , Training Accuracy: 0.6108036461724491 , Validation Accuracy: 0.6084346064814815\n",
            "Epoch: 8 , Iteration: 120 , Training Accuracy: 0.6138111183455802 , Validation Accuracy: 0.6108579282407407\n",
            "Epoch: 8 , Iteration: 160 , Training Accuracy: 0.6239574613214275 , Validation Accuracy: 0.6210575810185185\n",
            "Epoch: 8 , Iteration: 200 , Training Accuracy: 0.6063389452143987 , Validation Accuracy: 0.6029730902777778\n",
            "Epoch: 8 , Iteration: 240 , Training Accuracy: 0.609369671038353 , Validation Accuracy: 0.6092664930555556\n",
            "Epoch: 8 , Iteration: 280 , Training Accuracy: 0.609245651567296 , Validation Accuracy: 0.6048538773148148\n",
            "Epoch: 8 , Iteration: 320 , Training Accuracy: 0.6115787678665551 , Validation Accuracy: 0.6057942708333334\n",
            "Epoch: 9 , Iteration: 40 , Training Accuracy: 0.6101602951663411 , Validation Accuracy: 0.6061197916666666\n",
            "Epoch: 9 , Iteration: 80 , Training Accuracy: 0.6207174526400645 , Validation Accuracy: 0.6175491898148148\n",
            "Epoch: 9 , Iteration: 120 , Training Accuracy: 0.6198260626918426 , Validation Accuracy: 0.6176215277777778\n",
            "Epoch: 9 , Iteration: 160 , Training Accuracy: 0.6127492016246551 , Validation Accuracy: 0.6066984953703703\n",
            "Epoch: 9 , Iteration: 200 , Training Accuracy: 0.615330356866028 , Validation Accuracy: 0.6089048032407407\n",
            "Epoch: 9 , Iteration: 240 , Training Accuracy: 0.6104703438439835 , Validation Accuracy: 0.6067346643518519\n",
            "Epoch: 9 , Iteration: 280 , Training Accuracy: 0.6164852881902458 , Validation Accuracy: 0.6106409143518519\n",
            "Epoch: 9 , Iteration: 320 , Training Accuracy: 0.5841239574613214 , Validation Accuracy: 0.5814525462962963\n",
            "Epoch: 10 , Iteration: 40 , Training Accuracy: 0.613656094006759 , Validation Accuracy: 0.6112919560185185\n",
            "Epoch: 10 , Iteration: 80 , Training Accuracy: 0.6107106315691564 , Validation Accuracy: 0.6068070023148148\n",
            "Epoch: 10 , Iteration: 120 , Training Accuracy: 0.6081372275447245 , Validation Accuracy: 0.6059751157407407\n",
            "Epoch: 10 , Iteration: 160 , Training Accuracy: 0.6178339999379903 , Validation Accuracy: 0.6147641782407407\n",
            "Epoch: 10 , Iteration: 200 , Training Accuracy: 0.6263448361392738 , Validation Accuracy: 0.6196469907407407\n",
            "Epoch: 10 , Iteration: 240 , Training Accuracy: 0.6012231420332992 , Validation Accuracy: 0.5998625578703703\n",
            "Epoch: 10 , Iteration: 280 , Training Accuracy: 0.6200585992000744 , Validation Accuracy: 0.6148003472222222\n",
            "Epoch: 10 , Iteration: 320 , Training Accuracy: 0.6112764704058538 , Validation Accuracy: 0.6061921296296297\n",
            "Epoch: 11 , Iteration: 40 , Training Accuracy: 0.6169426099897684 , Validation Accuracy: 0.6087239583333334\n",
            "Epoch: 11 , Iteration: 80 , Training Accuracy: 0.6259185192075156 , Validation Accuracy: 0.6210214120370371\n",
            "Epoch: 11 , Iteration: 120 , Training Accuracy: 0.62039190152854 , Validation Accuracy: 0.6163194444444444\n",
            "Epoch: 11 , Iteration: 160 , Training Accuracy: 0.6191594580349115 , Validation Accuracy: 0.61328125\n",
            "Epoch: 11 , Iteration: 200 , Training Accuracy: 0.6213220475614671 , Validation Accuracy: 0.6153790509259259\n",
            "Epoch: 11 , Iteration: 240 , Training Accuracy: 0.6177874926363439 , Validation Accuracy: 0.6134620949074074\n",
            "Epoch: 11 , Iteration: 280 , Training Accuracy: 0.6230738225901467 , Validation Accuracy: 0.6192129629629629\n",
            "Epoch: 11 , Iteration: 320 , Training Accuracy: 0.6195082627972591 , Validation Accuracy: 0.6145471643518519\n",
            "Epoch: 12 , Iteration: 40 , Training Accuracy: 0.6224304715840387 , Validation Accuracy: 0.6190321180555556\n",
            "Epoch: 12 , Iteration: 80 , Training Accuracy: 0.6063001891296934 , Validation Accuracy: 0.6002965856481481\n",
            "Epoch: 12 , Iteration: 120 , Training Accuracy: 0.6246163147614175 , Validation Accuracy: 0.6218171296296297\n",
            "Epoch: 12 , Iteration: 160 , Training Accuracy: 0.6152605959135584 , Validation Accuracy: 0.6109302662037037\n",
            "Epoch: 12 , Iteration: 200 , Training Accuracy: 0.6071063156915636 , Validation Accuracy: 0.6021412037037037\n",
            "Epoch: 12 , Iteration: 240 , Training Accuracy: 0.625972777726103 , Validation Accuracy: 0.6235894097222222\n",
            "Epoch: 12 , Iteration: 280 , Training Accuracy: 0.6184773509440982 , Validation Accuracy: 0.6156322337962963\n",
            "Epoch: 12 , Iteration: 320 , Training Accuracy: 0.6214615694664062 , Validation Accuracy: 0.6167896412037037\n",
            "Epoch: 12 , Training Accuracy: 0.615849688401079 , Validation Accuracy: 0.6121600115740741\n"
          ],
          "name": "stdout"
        }
      ]
    },
    {
      "cell_type": "markdown",
      "metadata": {
        "id": "HtdbR1kG7_v9"
      },
      "source": [
        "After increasing the learning rate to 0.01, I see high variance and the accuracies decreased from the second model. For my fourth and final attempt, I will lower the learning rate slightly to 0.0075. I will also try to increase the batch size to 75. Lastly, I want to increase the number of epochs to 20 to allow for an even longer training period."
      ]
    },
    {
      "cell_type": "code",
      "metadata": {
        "colab": {
          "base_uri": "https://localhost:8080/"
        },
        "id": "tGigO87y54eV",
        "outputId": "251e4180-851f-4d85-adee-e1b8e67ef13a"
      },
      "source": [
        "#In my fourth iteration of the model, I will be decreasing the learning rate to 0.0075, I will also \r\n",
        "#increase the batch size to 75 and will be also increasing the number of epochs to 20 to allow for a \r\n",
        "#longer training time\r\n",
        "autoEncoderModel4 = AutoEncoder()\r\n",
        "\r\n",
        "use_cuda = True\r\n",
        "\r\n",
        "if use_cuda and torch.cuda.is_available():\r\n",
        "  autoEncoderModel4.cuda()\r\n",
        "  print('Using CUDA!')\r\n",
        "else:\r\n",
        "  print('Not using CUDA!')\r\n",
        "\r\n",
        "batch_size=75\r\n",
        "train_loader = torch.utils.data.DataLoader(trainingData, batch_size=batch_size, shuffle=True)\r\n",
        "valid_loader = torch.utils.data.DataLoader(validationData, batch_size=batch_size, shuffle=True)\r\n",
        "train(autoEncoderModel4, train_loader, valid_loader, batch_size=batch_size, num_epochs=20, learning_rate=0.0075)"
      ],
      "execution_count": 64,
      "outputs": [
        {
          "output_type": "stream",
          "text": [
            "Using CUDA!\n",
            "Epoch: 1 , Iteration: 40 , Training Accuracy: 0.4578256286236939 , Validation Accuracy: 0.4564525462962963\n",
            "Epoch: 1 , Iteration: 80 , Training Accuracy: 0.5470808916999969 , Validation Accuracy: 0.5498046875\n",
            "Epoch: 1 , Iteration: 120 , Training Accuracy: 0.5630871546832853 , Validation Accuracy: 0.5641276041666666\n",
            "Epoch: 1 , Iteration: 160 , Training Accuracy: 0.5842092208476731 , Validation Accuracy: 0.5808015046296297\n",
            "Epoch: 1 , Iteration: 200 , Training Accuracy: 0.5845270207422565 , Validation Accuracy: 0.5844184027777778\n",
            "Epoch: 1 , Iteration: 240 , Training Accuracy: 0.5970142312343037 , Validation Accuracy: 0.5956669560185185\n",
            "Epoch: 1 , Iteration: 280 , Training Accuracy: 0.5959445632964375 , Validation Accuracy: 0.5960286458333334\n",
            "Epoch: 2 , Iteration: 40 , Training Accuracy: 0.5940920224475242 , Validation Accuracy: 0.5915436921296297\n",
            "Epoch: 2 , Iteration: 80 , Training Accuracy: 0.5997271571636748 , Validation Accuracy: 0.5961733217592593\n",
            "Epoch: 2 , Iteration: 120 , Training Accuracy: 0.6082302421480172 , Validation Accuracy: 0.6036241319444444\n",
            "Epoch: 2 , Iteration: 160 , Training Accuracy: 0.6112687191889127 , Validation Accuracy: 0.6072771990740741\n",
            "Epoch: 2 , Iteration: 200 , Training Accuracy: 0.6178960096735188 , Validation Accuracy: 0.6137152777777778\n",
            "Epoch: 2 , Iteration: 240 , Training Accuracy: 0.6109896753790345 , Validation Accuracy: 0.6059027777777778\n",
            "Epoch: 2 , Iteration: 280 , Training Accuracy: 0.6080829690261371 , Validation Accuracy: 0.6043113425925926\n",
            "Epoch: 3 , Iteration: 40 , Training Accuracy: 0.6161829907295445 , Validation Accuracy: 0.6137152777777778\n",
            "Epoch: 3 , Iteration: 80 , Training Accuracy: 0.6171053855455306 , Validation Accuracy: 0.6117621527777778\n",
            "Epoch: 3 , Iteration: 120 , Training Accuracy: 0.6106253681828047 , Validation Accuracy: 0.6081090856481481\n",
            "Epoch: 3 , Iteration: 160 , Training Accuracy: 0.6243450221684804 , Validation Accuracy: 0.6202618634259259\n",
            "Epoch: 3 , Iteration: 200 , Training Accuracy: 0.6038973118779648 , Validation Accuracy: 0.6030454282407407\n",
            "Epoch: 3 , Iteration: 240 , Training Accuracy: 0.6019440052088177 , Validation Accuracy: 0.5984157986111112\n",
            "Epoch: 3 , Iteration: 280 , Training Accuracy: 0.6073776082845007 , Validation Accuracy: 0.6033347800925926\n",
            "Epoch: 4 , Iteration: 40 , Training Accuracy: 0.6168185905187115 , Validation Accuracy: 0.6151620370370371\n",
            "Epoch: 4 , Iteration: 80 , Training Accuracy: 0.6178184975041081 , Validation Accuracy: 0.6147641782407407\n",
            "Epoch: 4 , Iteration: 120 , Training Accuracy: 0.6221359253402784 , Validation Accuracy: 0.6182725694444444\n",
            "Epoch: 4 , Iteration: 160 , Training Accuracy: 0.6107028803522153 , Validation Accuracy: 0.6046730324074074\n",
            "Epoch: 4 , Iteration: 200 , Training Accuracy: 0.6272439773044368 , Validation Accuracy: 0.6240234375\n",
            "Epoch: 4 , Iteration: 240 , Training Accuracy: 0.6135320745357021 , Validation Accuracy: 0.6081452546296297\n",
            "Epoch: 4 , Iteration: 280 , Training Accuracy: 0.6135863330542896 , Validation Accuracy: 0.6101707175925926\n",
            "Epoch: 5 , Iteration: 40 , Training Accuracy: 0.6151675813102657 , Validation Accuracy: 0.6137152777777778\n",
            "Epoch: 5 , Iteration: 80 , Training Accuracy: 0.6156404055436704 , Validation Accuracy: 0.6142216435185185\n",
            "Epoch: 5 , Iteration: 120 , Training Accuracy: 0.6219886522183983 , Validation Accuracy: 0.6209852430555556\n",
            "Epoch: 5 , Iteration: 160 , Training Accuracy: 0.6243217685176573 , Validation Accuracy: 0.6195023148148148\n",
            "Epoch: 5 , Iteration: 200 , Training Accuracy: 0.6154466251201438 , Validation Accuracy: 0.6115089699074074\n",
            "Epoch: 5 , Iteration: 240 , Training Accuracy: 0.6206631941214771 , Validation Accuracy: 0.6178747106481481\n",
            "Epoch: 5 , Iteration: 280 , Training Accuracy: 0.6182758193036306 , Validation Accuracy: 0.6181640625\n",
            "Epoch: 6 , Iteration: 40 , Training Accuracy: 0.6187021362353889 , Validation Accuracy: 0.6152705439814815\n",
            "Epoch: 6 , Iteration: 80 , Training Accuracy: 0.6198880724273711 , Validation Accuracy: 0.6158130787037037\n",
            "Epoch: 6 , Iteration: 120 , Training Accuracy: 0.6224769788856851 , Validation Accuracy: 0.6206235532407407\n",
            "Epoch: 6 , Iteration: 160 , Training Accuracy: 0.620004340681487 , Validation Accuracy: 0.6184895833333334\n",
            "Epoch: 6 , Iteration: 200 , Training Accuracy: 0.6223917154993334 , Validation Accuracy: 0.6168619791666666\n",
            "Epoch: 6 , Iteration: 240 , Training Accuracy: 0.6093231637367067 , Validation Accuracy: 0.6066623263888888\n",
            "Epoch: 6 , Iteration: 280 , Training Accuracy: 0.6167333271323597 , Validation Accuracy: 0.6150535300925926\n",
            "Epoch: 7 , Iteration: 40 , Training Accuracy: 0.6240039686230738 , Validation Accuracy: 0.6211299189814815\n",
            "Epoch: 7 , Iteration: 80 , Training Accuracy: 0.6243837782531857 , Validation Accuracy: 0.6195746527777778\n",
            "Epoch: 7 , Iteration: 120 , Training Accuracy: 0.6256549778315196 , Validation Accuracy: 0.6213107638888888\n",
            "Epoch: 7 , Iteration: 160 , Training Accuracy: 0.6248333488357672 , Validation Accuracy: 0.6227936921296297\n",
            "Epoch: 7 , Iteration: 200 , Training Accuracy: 0.6102455585526928 , Validation Accuracy: 0.6043475115740741\n",
            "Epoch: 7 , Iteration: 240 , Training Accuracy: 0.6277245527547824 , Validation Accuracy: 0.6225405092592593\n",
            "Epoch: 7 , Iteration: 280 , Training Accuracy: 0.6286546987877096 , Validation Accuracy: 0.6235532407407407\n",
            "Epoch: 8 , Iteration: 40 , Training Accuracy: 0.6211825256565281 , Validation Accuracy: 0.6146918402777778\n",
            "Epoch: 8 , Iteration: 80 , Training Accuracy: 0.6246240659783586 , Validation Accuracy: 0.6192129629629629\n",
            "Epoch: 8 , Iteration: 120 , Training Accuracy: 0.6263525873562149 , Validation Accuracy: 0.6223234953703703\n",
            "Epoch: 8 , Iteration: 160 , Training Accuracy: 0.6236629150776672 , Validation Accuracy: 0.6155598958333334\n",
            "Epoch: 8 , Iteration: 200 , Training Accuracy: 0.6184773509440982 , Validation Accuracy: 0.6162109375\n",
            "Epoch: 8 , Iteration: 240 , Training Accuracy: 0.6305072396366229 , Validation Accuracy: 0.6269892939814815\n",
            "Epoch: 8 , Iteration: 280 , Training Accuracy: 0.6269959383623229 , Validation Accuracy: 0.6236979166666666\n",
            "Epoch: 9 , Iteration: 40 , Training Accuracy: 0.6205624283012433 , Validation Accuracy: 0.6173321759259259\n",
            "Epoch: 9 , Iteration: 80 , Training Accuracy: 0.6240892320094255 , Validation Accuracy: 0.6217086226851852\n",
            "Epoch: 9 , Iteration: 120 , Training Accuracy: 0.6253914364555235 , Validation Accuracy: 0.6198278356481481\n",
            "Epoch: 9 , Iteration: 160 , Training Accuracy: 0.626104548414101 , Validation Accuracy: 0.6214916087962963\n",
            "Epoch: 9 , Iteration: 200 , Training Accuracy: 0.6144777230025114 , Validation Accuracy: 0.6121238425925926\n",
            "Epoch: 9 , Iteration: 240 , Training Accuracy: 0.6197795553901962 , Validation Accuracy: 0.6187427662037037\n",
            "Epoch: 9 , Iteration: 280 , Training Accuracy: 0.6254146901063466 , Validation Accuracy: 0.6207320601851852\n",
            "Epoch: 10 , Iteration: 40 , Training Accuracy: 0.6236861687284904 , Validation Accuracy: 0.6173321759259259\n",
            "Epoch: 10 , Iteration: 80 , Training Accuracy: 0.6225467398381546 , Validation Accuracy: 0.6192129629629629\n",
            "Epoch: 10 , Iteration: 120 , Training Accuracy: 0.6232908566644964 , Validation Accuracy: 0.6171513310185185\n",
            "Epoch: 10 , Iteration: 160 , Training Accuracy: 0.6293368058785229 , Validation Accuracy: 0.6259403935185185\n",
            "Epoch: 10 , Iteration: 200 , Training Accuracy: 0.6196942920038446 , Validation Accuracy: 0.6153067129629629\n",
            "Epoch: 10 , Iteration: 240 , Training Accuracy: 0.6264533531764487 , Validation Accuracy: 0.6223596643518519\n",
            "Epoch: 10 , Iteration: 280 , Training Accuracy: 0.636615198586178 , Validation Accuracy: 0.6312572337962963\n",
            "Epoch: 11 , Iteration: 40 , Training Accuracy: 0.6246085635444765 , Validation Accuracy: 0.6217086226851852\n",
            "Epoch: 11 , Iteration: 80 , Training Accuracy: 0.6263138312715096 , Validation Accuracy: 0.6231192129629629\n",
            "Epoch: 11 , Iteration: 120 , Training Accuracy: 0.6209422379313552 , Validation Accuracy: 0.6197916666666666\n",
            "Epoch: 11 , Iteration: 160 , Training Accuracy: 0.620275633274424 , Validation Accuracy: 0.6164279513888888\n",
            "Epoch: 11 , Iteration: 200 , Training Accuracy: 0.6226320032245063 , Validation Accuracy: 0.6173321759259259\n",
            "Epoch: 11 , Iteration: 240 , Training Accuracy: 0.6311195857749666 , Validation Accuracy: 0.6257957175925926\n",
            "Epoch: 11 , Iteration: 280 , Training Accuracy: 0.6269804359284408 , Validation Accuracy: 0.6227936921296297\n",
            "Epoch: 12 , Iteration: 40 , Training Accuracy: 0.6296933618578117 , Validation Accuracy: 0.6285083912037037\n",
            "Epoch: 12 , Iteration: 80 , Training Accuracy: 0.6331736582643475 , Validation Accuracy: 0.6288700810185185\n",
            "Epoch: 12 , Iteration: 120 , Training Accuracy: 0.6247325830155335 , Validation Accuracy: 0.6189236111111112\n",
            "Epoch: 12 , Iteration: 160 , Training Accuracy: 0.6311040833410846 , Validation Accuracy: 0.6250723379629629\n",
            "Epoch: 12 , Iteration: 200 , Training Accuracy: 0.6256239729637553 , Validation Accuracy: 0.6216724537037037\n",
            "Epoch: 12 , Iteration: 240 , Training Accuracy: 0.6210275013177069 , Validation Accuracy: 0.615234375\n",
            "Epoch: 12 , Iteration: 280 , Training Accuracy: 0.6298251325458097 , Validation Accuracy: 0.6235170717592593\n",
            "Epoch: 13 , Iteration: 40 , Training Accuracy: 0.6282206306390103 , Validation Accuracy: 0.6220341435185185\n",
            "Epoch: 13 , Iteration: 80 , Training Accuracy: 0.6284531671472421 , Validation Accuracy: 0.6239872685185185\n",
            "Epoch: 13 , Iteration: 120 , Training Accuracy: 0.6282671379406567 , Validation Accuracy: 0.6241681134259259\n",
            "Epoch: 13 , Iteration: 160 , Training Accuracy: 0.6296778594239295 , Validation Accuracy: 0.6292679398148148\n",
            "Epoch: 13 , Iteration: 200 , Training Accuracy: 0.6296701082069885 , Validation Accuracy: 0.6240596064814815\n",
            "Epoch: 13 , Iteration: 240 , Training Accuracy: 0.6327008340309429 , Validation Accuracy: 0.6300636574074074\n",
            "Epoch: 13 , Iteration: 280 , Training Accuracy: 0.6273834992093759 , Validation Accuracy: 0.6215277777777778\n",
            "Epoch: 14 , Iteration: 40 , Training Accuracy: 0.6277012991039593 , Validation Accuracy: 0.6234447337962963\n",
            "Epoch: 14 , Iteration: 80 , Training Accuracy: 0.6274532601618454 , Validation Accuracy: 0.6217447916666666\n",
            "Epoch: 14 , Iteration: 120 , Training Accuracy: 0.6314063808017859 , Validation Accuracy: 0.6253616898148148\n",
            "Epoch: 14 , Iteration: 160 , Training Accuracy: 0.6253991876724646 , Validation Accuracy: 0.6231192129629629\n",
            "Epoch: 14 , Iteration: 200 , Training Accuracy: 0.633879019005984 , Validation Accuracy: 0.6296296296296297\n",
            "Epoch: 14 , Iteration: 240 , Training Accuracy: 0.6404520509720026 , Validation Accuracy: 0.6358506944444444\n",
            "Epoch: 14 , Iteration: 280 , Training Accuracy: 0.6269339286267944 , Validation Accuracy: 0.6236255787037037\n",
            "Epoch: 15 , Iteration: 40 , Training Accuracy: 0.6290965181533501 , Validation Accuracy: 0.6268807870370371\n",
            "Epoch: 15 , Iteration: 80 , Training Accuracy: 0.6420565528788019 , Validation Accuracy: 0.6366102430555556\n",
            "Epoch: 15 , Iteration: 120 , Training Accuracy: 0.6348866772083217 , Validation Accuracy: 0.6276765046296297\n",
            "Epoch: 15 , Iteration: 160 , Training Accuracy: 0.6278718258766627 , Validation Accuracy: 0.6238787615740741\n",
            "Epoch: 15 , Iteration: 200 , Training Accuracy: 0.6317164294794283 , Validation Accuracy: 0.6273871527777778\n",
            "Epoch: 15 , Iteration: 240 , Training Accuracy: 0.6371810374228754 , Validation Accuracy: 0.6332826967592593\n",
            "Epoch: 15 , Iteration: 280 , Training Accuracy: 0.6375453446191052 , Validation Accuracy: 0.6334635416666666\n",
            "Epoch: 16 , Iteration: 40 , Training Accuracy: 0.6271974700027905 , Validation Accuracy: 0.6232638888888888\n",
            "Epoch: 16 , Iteration: 80 , Training Accuracy: 0.6344448578426813 , Validation Accuracy: 0.6295934606481481\n",
            "Epoch: 16 , Iteration: 120 , Training Accuracy: 0.6315769075744891 , Validation Accuracy: 0.6264467592592593\n",
            "Epoch: 16 , Iteration: 160 , Training Accuracy: 0.6320187269401296 , Validation Accuracy: 0.6314019097222222\n",
            "Epoch: 16 , Iteration: 200 , Training Accuracy: 0.6412039190152854 , Validation Accuracy: 0.6380570023148148\n",
            "Epoch: 16 , Iteration: 240 , Training Accuracy: 0.6371500325551112 , Validation Accuracy: 0.6323061342592593\n",
            "Epoch: 16 , Iteration: 280 , Training Accuracy: 0.6367934765758224 , Validation Accuracy: 0.6327401620370371\n",
            "Epoch: 17 , Iteration: 40 , Training Accuracy: 0.6393978854680185 , Validation Accuracy: 0.6352358217592593\n",
            "Epoch: 17 , Iteration: 80 , Training Accuracy: 0.6435602889653675 , Validation Accuracy: 0.6383101851851852\n",
            "Epoch: 17 , Iteration: 120 , Training Accuracy: 0.62843766471336 , Validation Accuracy: 0.6227936921296297\n",
            "Epoch: 17 , Iteration: 160 , Training Accuracy: 0.6418705236722165 , Validation Accuracy: 0.6366825810185185\n",
            "Epoch: 17 , Iteration: 200 , Training Accuracy: 0.6378941493814528 , Validation Accuracy: 0.6348741319444444\n",
            "Epoch: 17 , Iteration: 240 , Training Accuracy: 0.635188974669023 , Validation Accuracy: 0.6322337962962963\n",
            "Epoch: 17 , Iteration: 280 , Training Accuracy: 0.6458779028307444 , Validation Accuracy: 0.64453125\n",
            "Epoch: 18 , Iteration: 40 , Training Accuracy: 0.644257898490063 , Validation Accuracy: 0.6407335069444444\n",
            "Epoch: 18 , Iteration: 80 , Training Accuracy: 0.6356850525532508 , Validation Accuracy: 0.6333550347222222\n",
            "Epoch: 18 , Iteration: 120 , Training Accuracy: 0.6426146404985583 , Validation Accuracy: 0.6415292245370371\n",
            "Epoch: 18 , Iteration: 160 , Training Accuracy: 0.6399559730877747 , Validation Accuracy: 0.6373697916666666\n",
            "Epoch: 18 , Iteration: 200 , Training Accuracy: 0.6402582705484761 , Validation Accuracy: 0.6340422453703703\n",
            "Epoch: 18 , Iteration: 240 , Training Accuracy: 0.6347161504356184 , Validation Accuracy: 0.6315465856481481\n",
            "Epoch: 18 , Iteration: 280 , Training Accuracy: 0.6411419092797569 , Validation Accuracy: 0.6356698495370371\n",
            "Epoch: 19 , Iteration: 40 , Training Accuracy: 0.6419092797569218 , Validation Accuracy: 0.6381293402777778\n",
            "Epoch: 19 , Iteration: 80 , Training Accuracy: 0.6461724490745047 , Validation Accuracy: 0.6439163773148148\n",
            "Epoch: 19 , Iteration: 120 , Training Accuracy: 0.6442423960561808 , Validation Accuracy: 0.6414207175925926\n",
            "Epoch: 19 , Iteration: 160 , Training Accuracy: 0.6381886956252132 , Validation Accuracy: 0.6342592592592593\n",
            "Epoch: 19 , Iteration: 200 , Training Accuracy: 0.6431262208166683 , Validation Accuracy: 0.6382740162037037\n",
            "Epoch: 19 , Iteration: 240 , Training Accuracy: 0.6375298421852231 , Validation Accuracy: 0.6334273726851852\n",
            "Epoch: 19 , Iteration: 280 , Training Accuracy: 0.6372663008092271 , Validation Accuracy: 0.6334997106481481\n",
            "Epoch: 20 , Iteration: 40 , Training Accuracy: 0.6404442997550616 , Validation Accuracy: 0.6365740740740741\n",
            "Epoch: 20 , Iteration: 80 , Training Accuracy: 0.6360803646172449 , Validation Accuracy: 0.6342592592592593\n",
            "Epoch: 20 , Iteration: 120 , Training Accuracy: 0.644273400923945 , Validation Accuracy: 0.6410590277777778\n",
            "Epoch: 20 , Iteration: 160 , Training Accuracy: 0.6492574334170464 , Validation Accuracy: 0.6436631944444444\n",
            "Epoch: 20 , Iteration: 200 , Training Accuracy: 0.6478854680184789 , Validation Accuracy: 0.6443142361111112\n",
            "Epoch: 20 , Iteration: 240 , Training Accuracy: 0.6416069822962205 , Validation Accuracy: 0.6369719328703703\n",
            "Epoch: 20 , Iteration: 280 , Training Accuracy: 0.6389560661023781 , Validation Accuracy: 0.6358868634259259\n",
            "Epoch: 20 , Training Accuracy: 0.6370105106501721 , Validation Accuracy: 0.6332826967592593\n"
          ],
          "name": "stdout"
        }
      ]
    },
    {
      "cell_type": "markdown",
      "metadata": {
        "id": "5AX3PG4CGtKq"
      },
      "source": [
        "As you can see above this combination of the hyperparameters had the highest final training accuracy of 63.70% and validation accuracy of 63.33%. This is the model I will be using for the testing stage in Part 4. "
      ]
    },
    {
      "cell_type": "markdown",
      "metadata": {
        "id": "ymCsZH291prI"
      },
      "source": [
        "## Part 4. Testing [12 pt]\n",
        "\n",
        "### Part (a) [2 pt]\n",
        "\n",
        "Compute and report the test accuracy."
      ]
    },
    {
      "cell_type": "code",
      "metadata": {
        "collapsed": true,
        "id": "0OkSbup91prJ",
        "colab": {
          "base_uri": "https://localhost:8080/"
        },
        "outputId": "05ef45b1-fa19-4eb9-e10b-3f9d6c9beefd"
      },
      "source": [
        "#Using the best model: autoEncoder4 \r\n",
        "#Hyperparameters: batch_size = 75, num_epochs = 20, learning_rate = 0.0075\r\n",
        "\r\n",
        "use_cuda = True\r\n",
        "\r\n",
        "if use_cuda and torch.cuda.is_available():\r\n",
        "  autoEncoderModel4.cuda()\r\n",
        "  print('Using CUDA!')\r\n",
        "else:\r\n",
        "  print('Not using CUDA!')\r\n",
        "\r\n",
        "batch_size=75\r\n",
        "test_loader = torch.utils.data.DataLoader(testingData, batch_size=batch_size, shuffle=True)\r\n",
        "\r\n",
        "print(\"The test accuracy for the final model is:\", get_accuracy(autoEncoderModel4, test_loader)*100, \"%\")"
      ],
      "execution_count": 67,
      "outputs": [
        {
          "output_type": "stream",
          "text": [
            "Using CUDA!\n",
            "The test accuracy for the final model is: 63.35358796296296 %\n"
          ],
          "name": "stdout"
        }
      ]
    },
    {
      "cell_type": "markdown",
      "metadata": {
        "id": "UEe9yt6L1prM"
      },
      "source": [
        "### Part (b) [4 pt]\n",
        "\n",
        "Based on the test accuracy alone, it is difficult to assess whether our model\n",
        "is actually performing well. We don't know whether a high accuracy is due to\n",
        "the simplicity of the problem, or if a poor accuracy is a result of the inherent\n",
        "difficulty of the problem.\n",
        "\n",
        "It is therefore very important to be able to compare our model to at least one\n",
        "alternative. In particular, we consider a simple **baseline**\n",
        "model that is not very computationally expensive. Our neural network\n",
        "should at least outperform this baseline model. If our network is not much\n",
        "better than the baseline, then it is not doing well.\n",
        "\n",
        "For our data imputation problem, consider the following baseline model:\n",
        "to predict a missing feature, the baseline model will look at the **most common value** of the feature in the training set. \n",
        "\n",
        "For example, if the feature \"marriage\" is missing, then this model's prediction will be the most common value for \"marriage\" in the training set, which happens to be \"Married-civ-spouse\".\n",
        "\n",
        "What would be the test accuracy of this baseline model?\n"
      ]
    },
    {
      "cell_type": "code",
      "metadata": {
        "collapsed": true,
        "id": "p45VHp011prN",
        "colab": {
          "base_uri": "https://localhost:8080/"
        },
        "outputId": "e1365d9e-bbad-414f-a68b-47f3139d7240"
      },
      "source": [
        "mostCommonModel = {}\r\n",
        "\r\n",
        "for column in df_not_missing.columns:\r\n",
        "  #Retrieve the most common model\r\n",
        "  mostCommonModel[column] = df_not_missing[column].value_counts().idxmax()\r\n",
        "\r\n",
        "baselineAccuracy = sum(df_not_missing['marriage'] == mostCommonModel['marriage'])/len(df_not_missing)\r\n",
        "\r\n",
        "print(\"The accuracy of the baseline model, the mostCommonModel, is:\", baselineAccuracy*100, \"%\")"
      ],
      "execution_count": 70,
      "outputs": [
        {
          "output_type": "stream",
          "text": [
            "The accuracy of the baseline model, the mostCommonModel, is: 46.67947131974738 %\n"
          ],
          "name": "stdout"
        }
      ]
    },
    {
      "cell_type": "markdown",
      "metadata": {
        "id": "QlHu0wxh1prP"
      },
      "source": [
        "### Part (c) [1 pt]\n",
        "\n",
        "How does your test accuracy from part (a) compared to your basline test accuracy in part (b)?"
      ]
    },
    {
      "cell_type": "code",
      "metadata": {
        "collapsed": true,
        "id": "1KQdwE_n1prQ"
      },
      "source": [
        "'''\r\n",
        "Evidently, my autoEncoderModel 4 has a much higher test accuracy of 63.35% compared to the baseline\r\n",
        "model which has an accuracy of 46.68%. This is expected since the most common value is not making any\r\n",
        "predictions based on the other data available, and is only choosing the most frequently used number.\r\n",
        "My model is actually making predictions based on the other data available. Therefore, it should \r\n",
        "perform better.\r\n",
        "'''"
      ],
      "execution_count": null,
      "outputs": []
    },
    {
      "cell_type": "markdown",
      "metadata": {
        "id": "DfQPgu1Q1prS"
      },
      "source": [
        "### Part (d) [1 pt]\n",
        "\n",
        "Look at the first item in your test data. \n",
        "Do you think it is reasonable for a human\n",
        "to be able to guess this person's education level\n",
        "based on their other features? Explain."
      ]
    },
    {
      "cell_type": "code",
      "metadata": {
        "collapsed": true,
        "id": "3qbQ1vvT1prT",
        "colab": {
          "base_uri": "https://localhost:8080/"
        },
        "outputId": "07f917cc-c32a-4ce6-b024-4b30b7fe7d2f"
      },
      "source": [
        "get_features(testingData[0])"
      ],
      "execution_count": 72,
      "outputs": [
        {
          "output_type": "execute_result",
          "data": {
            "text/plain": [
              "{'edu': 'Bachelors',\n",
              " 'marriage': 'Divorced',\n",
              " 'occupation': 'Prof-specialty',\n",
              " 'relationship': 'Not-in-family',\n",
              " 'sex': 'Male',\n",
              " 'work': 'Private'}"
            ]
          },
          "metadata": {
            "tags": []
          },
          "execution_count": 72
        }
      ]
    },
    {
      "cell_type": "markdown",
      "metadata": {
        "id": "BV2LCW-4SsNp"
      },
      "source": [
        "\r\n",
        "No. It is difficult for a human to guess this person's education level based on their other\r\n",
        "features. A lot of the times, humans assume a person's education level based on their occupation and marital status. In a case like this, it is hard to predict this education level because their occupation is listed as \"Prof-specialty\". I would assume they are a person who has a Masters education in the minimum. Evidently, humans can be very biased, and therefore, they do not always make the best predictions."
      ]
    },
    {
      "cell_type": "markdown",
      "metadata": {
        "id": "p_d5uuAY1prZ"
      },
      "source": [
        "### Part (e) [2 pt]\n",
        "\n",
        "What is your model's prediction of this person's education\n",
        "level, given their other features?\n"
      ]
    },
    {
      "cell_type": "code",
      "metadata": {
        "collapsed": true,
        "id": "kBY5gKXR1pra",
        "colab": {
          "base_uri": "https://localhost:8080/"
        },
        "outputId": "4688e24b-816f-4cff-87b2-53c7daffa32d"
      },
      "source": [
        "firstTestData = testingData[0]\r\n",
        "\r\n",
        "educationIndexStart = cat_index['edu']\r\n",
        "educationIndexStop = cat_index['edu'] + len(cat_values['edu'])\r\n",
        "\r\n",
        "firstTestData[educationIndexStart:educationIndexStop] = 0\r\n",
        "firstTestData = torch.from_numpy(firstTestData)\r\n",
        "firstTestData = firstTestData.cuda()\r\n",
        "\r\n",
        "modelPrediction = autoEncoderModel4(firstTestData)\r\n",
        "modelPrediction = modelPrediction.detach().cpu().numpy()\r\n",
        "\r\n",
        "print(\"AutoEncoderModel's Predicted Education Level:\", get_feature(modelPrediction, \"edu\"))"
      ],
      "execution_count": 78,
      "outputs": [
        {
          "output_type": "stream",
          "text": [
            "AutoEncoderModel's Predicted Education Level: Prof-school\n"
          ],
          "name": "stdout"
        }
      ]
    },
    {
      "cell_type": "markdown",
      "metadata": {
        "id": "j6xEjJ0UX6ju"
      },
      "source": [
        "As we can see above, my model's prediction for this individual is also at Professional School Level."
      ]
    },
    {
      "cell_type": "markdown",
      "metadata": {
        "id": "fdLNA0ce1prd"
      },
      "source": [
        "### Part (f) [2 pt]\n",
        "\n",
        "What is the baseline model's prediction\n",
        "of this person's education level?"
      ]
    },
    {
      "cell_type": "code",
      "metadata": {
        "collapsed": true,
        "id": "TXgoM9qk1prd",
        "colab": {
          "base_uri": "https://localhost:8080/"
        },
        "outputId": "bab9b80a-de2d-426d-820b-2c98fdcbc85e"
      },
      "source": [
        "baselinePrediction = df_not_missing['edu'].value_counts().idxmax()\r\n",
        "print(\"The baseline model's prediction for this person's education is:\", baselinePrediction)"
      ],
      "execution_count": 73,
      "outputs": [
        {
          "output_type": "stream",
          "text": [
            "The baseline model's prediction for this person's education is:  HS-grad\n"
          ],
          "name": "stdout"
        }
      ]
    },
    {
      "cell_type": "code",
      "metadata": {
        "colab": {
          "base_uri": "https://localhost:8080/"
        },
        "id": "XqJ4CcDtYdLz",
        "outputId": "de7ecabd-c70b-4039-95a6-e534e38f52c7"
      },
      "source": [
        "%%shell\r\n",
        "jupyter nbconvert --to html /content/Lab_4_Data_Imputation.ipynb"
      ],
      "execution_count": 79,
      "outputs": [
        {
          "output_type": "stream",
          "text": [
            "[NbConvertApp] Converting notebook /content/Lab_4_Data_Imputation.ipynb to html\n",
            "[NbConvertApp] Writing 481907 bytes to /content/Lab_4_Data_Imputation.html\n"
          ],
          "name": "stdout"
        },
        {
          "output_type": "execute_result",
          "data": {
            "text/plain": [
              ""
            ]
          },
          "metadata": {
            "tags": []
          },
          "execution_count": 79
        }
      ]
    }
  ]
}